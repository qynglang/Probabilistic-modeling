{
 "cells": [
  {
   "cell_type": "code",
   "execution_count": 1,
   "metadata": {
    "scrolled": true
   },
   "outputs": [
    {
     "name": "stderr",
     "output_type": "stream",
     "text": [
      "/afs/inf.ed.ac.uk/user/s18/s1883226/miniconda3/envs/mlp/lib/python3.6/site-packages/pandas/core/ops/__init__.py:1115: FutureWarning: elementwise comparison failed; returning scalar instead, but in the future will perform elementwise comparison\n",
      "  result = method(y)\n"
     ]
    },
    {
     "data": {
      "text/html": [
       "<div>\n",
       "<style scoped>\n",
       "    .dataframe tbody tr th:only-of-type {\n",
       "        vertical-align: middle;\n",
       "    }\n",
       "\n",
       "    .dataframe tbody tr th {\n",
       "        vertical-align: top;\n",
       "    }\n",
       "\n",
       "    .dataframe thead th {\n",
       "        text-align: right;\n",
       "    }\n",
       "</style>\n",
       "<table border=\"1\" class=\"dataframe\">\n",
       "  <thead>\n",
       "    <tr style=\"text-align: right;\">\n",
       "      <th></th>\n",
       "      <th>ID</th>\n",
       "      <th>painter1_time</th>\n",
       "      <th>painter2_time</th>\n",
       "      <th>painter3_time</th>\n",
       "      <th>painter4_time</th>\n",
       "      <th>painter5_time</th>\n",
       "      <th>painter6_time</th>\n",
       "      <th>painter7_time</th>\n",
       "      <th>painter8_time</th>\n",
       "      <th>painter9_time</th>\n",
       "      <th>...</th>\n",
       "      <th>painter10_familiarity</th>\n",
       "      <th>stress</th>\n",
       "      <th>tired</th>\n",
       "      <th>pay_off</th>\n",
       "      <th>risk</th>\n",
       "      <th>b_4</th>\n",
       "      <th>b_3</th>\n",
       "      <th>c_4</th>\n",
       "      <th>c_3</th>\n",
       "      <th>delay</th>\n",
       "    </tr>\n",
       "  </thead>\n",
       "  <tbody>\n",
       "    <tr>\n",
       "      <th>0</th>\n",
       "      <td>25</td>\n",
       "      <td>567.443</td>\n",
       "      <td>589.258</td>\n",
       "      <td>871.075</td>\n",
       "      <td>424.541</td>\n",
       "      <td>640.152</td>\n",
       "      <td>1117.124</td>\n",
       "      <td>908.755</td>\n",
       "      <td>493.497</td>\n",
       "      <td>906.011</td>\n",
       "      <td>...</td>\n",
       "      <td>1</td>\n",
       "      <td>1</td>\n",
       "      <td>1</td>\n",
       "      <td>454</td>\n",
       "      <td>2</td>\n",
       "      <td>0</td>\n",
       "      <td>37</td>\n",
       "      <td>5</td>\n",
       "      <td>11</td>\n",
       "      <td>2</td>\n",
       "    </tr>\n",
       "    <tr>\n",
       "      <th>1</th>\n",
       "      <td>33</td>\n",
       "      <td>1424.242</td>\n",
       "      <td>63.744</td>\n",
       "      <td>356.716</td>\n",
       "      <td>325.936</td>\n",
       "      <td>105.141</td>\n",
       "      <td>951.267</td>\n",
       "      <td>1160.728</td>\n",
       "      <td>155.481</td>\n",
       "      <td>899.991</td>\n",
       "      <td>...</td>\n",
       "      <td>1</td>\n",
       "      <td>2</td>\n",
       "      <td>2</td>\n",
       "      <td>507</td>\n",
       "      <td>2</td>\n",
       "      <td>5</td>\n",
       "      <td>31</td>\n",
       "      <td>12</td>\n",
       "      <td>6</td>\n",
       "      <td>2</td>\n",
       "    </tr>\n",
       "    <tr>\n",
       "      <th>2</th>\n",
       "      <td>42</td>\n",
       "      <td>1320.878</td>\n",
       "      <td>183.888</td>\n",
       "      <td>1147.679</td>\n",
       "      <td>806.613</td>\n",
       "      <td>569.499</td>\n",
       "      <td>904.191</td>\n",
       "      <td>1507.476</td>\n",
       "      <td>294.256</td>\n",
       "      <td>393.701</td>\n",
       "      <td>...</td>\n",
       "      <td>1</td>\n",
       "      <td>1</td>\n",
       "      <td>1</td>\n",
       "      <td>434</td>\n",
       "      <td>1</td>\n",
       "      <td>0</td>\n",
       "      <td>24</td>\n",
       "      <td>9</td>\n",
       "      <td>7</td>\n",
       "      <td>1</td>\n",
       "    </tr>\n",
       "    <tr>\n",
       "      <th>3</th>\n",
       "      <td>58</td>\n",
       "      <td>897.658</td>\n",
       "      <td>681.745</td>\n",
       "      <td>368.636</td>\n",
       "      <td>727.118</td>\n",
       "      <td>723.261</td>\n",
       "      <td>1070.142</td>\n",
       "      <td>874.328</td>\n",
       "      <td>636.127</td>\n",
       "      <td>592.833</td>\n",
       "      <td>...</td>\n",
       "      <td>1</td>\n",
       "      <td>0</td>\n",
       "      <td>0</td>\n",
       "      <td>566</td>\n",
       "      <td>2</td>\n",
       "      <td>12</td>\n",
       "      <td>40</td>\n",
       "      <td>5</td>\n",
       "      <td>9</td>\n",
       "      <td>1</td>\n",
       "    </tr>\n",
       "    <tr>\n",
       "      <th>4</th>\n",
       "      <td>68</td>\n",
       "      <td>1078.837</td>\n",
       "      <td>611.756</td>\n",
       "      <td>462.712</td>\n",
       "      <td>763.973</td>\n",
       "      <td>627.325</td>\n",
       "      <td>789.635</td>\n",
       "      <td>576.564</td>\n",
       "      <td>297.831</td>\n",
       "      <td>535.604</td>\n",
       "      <td>...</td>\n",
       "      <td>1</td>\n",
       "      <td>0</td>\n",
       "      <td>0</td>\n",
       "      <td>268</td>\n",
       "      <td>1</td>\n",
       "      <td>0</td>\n",
       "      <td>16</td>\n",
       "      <td>19</td>\n",
       "      <td>4</td>\n",
       "      <td>2</td>\n",
       "    </tr>\n",
       "  </tbody>\n",
       "</table>\n",
       "<p>5 rows × 40 columns</p>\n",
       "</div>"
      ],
      "text/plain": [
       "   ID painter1_time painter2_time painter3_time painter4_time painter5_time  \\\n",
       "0  25       567.443       589.258       871.075       424.541       640.152   \n",
       "1  33      1424.242        63.744       356.716       325.936       105.141   \n",
       "2  42      1320.878       183.888      1147.679       806.613       569.499   \n",
       "3  58       897.658       681.745       368.636       727.118       723.261   \n",
       "4  68      1078.837       611.756       462.712       763.973       627.325   \n",
       "\n",
       "  painter6_time painter7_time painter8_time painter9_time  ...  \\\n",
       "0      1117.124       908.755       493.497       906.011  ...   \n",
       "1       951.267      1160.728       155.481       899.991  ...   \n",
       "2       904.191      1507.476       294.256       393.701  ...   \n",
       "3      1070.142       874.328       636.127       592.833  ...   \n",
       "4       789.635       576.564       297.831       535.604  ...   \n",
       "\n",
       "  painter10_familiarity stress tired pay_off risk b_4 b_3 c_4 c_3 delay  \n",
       "0                     1      1     1     454    2   0  37   5  11     2  \n",
       "1                     1      2     2     507    2   5  31  12   6     2  \n",
       "2                     1      1     1     434    1   0  24   9   7     1  \n",
       "3                     1      0     0     566    2  12  40   5   9     1  \n",
       "4                     1      0     0     268    1   0  16  19   4     2  \n",
       "\n",
       "[5 rows x 40 columns]"
      ]
     },
     "execution_count": 1,
     "metadata": {},
     "output_type": "execute_result"
    }
   ],
   "source": [
    "import pandas as pd\n",
    "import numpy as np\n",
    "data = pd.read_csv(\"data.csv\")\n",
    "data[data==' ']=np.nan\n",
    "data=data.dropna()\n",
    "data.head(5)"
   ]
  },
  {
   "cell_type": "code",
   "execution_count": 2,
   "metadata": {},
   "outputs": [],
   "source": [
    "# np.save('data_E.npy',data_E)\n",
    "# data_E=np.load('data_E.npy')\n",
    "# data_E\n",
    "# stress=np.int8(data_E.iloc[:,31])"
   ]
  },
  {
   "cell_type": "code",
   "execution_count": 3,
   "metadata": {},
   "outputs": [],
   "source": [
    "data_E=data.iloc[0:86,:]\n",
    "data_T=data.iloc[86::,:]"
   ]
  },
  {
   "cell_type": "code",
   "execution_count": 4,
   "metadata": {},
   "outputs": [],
   "source": [
    "stress=np.int8(data_E.iloc[:,31])\n",
    "tired=np.int8(data_E.iloc[:,32])\n",
    "st=np.int8(data_E.iloc[:,31:33])\n",
    "choice3=data_E.iloc[:,37]\n",
    "choice4=data_E.iloc[:,38]\n",
    "tend=np.int8(choice3)+np.int8(choice4)"
   ]
  },
  {
   "cell_type": "code",
   "execution_count": 5,
   "metadata": {},
   "outputs": [],
   "source": [
    "from sklearn.model_selection import train_test_split \n",
    "X_train, X_test, y_train, y_test = train_test_split(st, tend, test_size=0.2, random_state=0)\n"
   ]
  },
  {
   "cell_type": "code",
   "execution_count": 6,
   "metadata": {},
   "outputs": [
    {
     "name": "stdout",
     "output_type": "stream",
     "text": [
      "4.912575694861349\n"
     ]
    },
    {
     "data": {
      "text/plain": [
       "0.003442544562985872"
      ]
     },
     "execution_count": 6,
     "metadata": {},
     "output_type": "execute_result"
    }
   ],
   "source": [
    "from sklearn.linear_model import LinearRegression\n",
    "from sklearn.metrics import mean_absolute_error\n",
    "from sklearn.metrics import r2_score\n",
    "lin_reg = LinearRegression()\n",
    "lin_reg.fit(X_train, y_train)\n",
    "print(mean_absolute_error(tend, lin_reg.predict(st)))\n",
    "r2_score(tend, lin_reg.predict(st))"
   ]
  },
  {
   "cell_type": "code",
   "execution_count": 7,
   "metadata": {},
   "outputs": [
    {
     "name": "stdout",
     "output_type": "stream",
     "text": [
      "4.9420091603811676\n",
      "0.01532638321958868\n"
     ]
    },
    {
     "data": {
      "text/plain": [
       "array([ 0.        , -0.96444428,  1.24350086,  0.90582201,  0.60012755,\n",
       "       -0.97726721])"
      ]
     },
     "execution_count": 7,
     "metadata": {},
     "output_type": "execute_result"
    }
   ],
   "source": [
    "from sklearn.preprocessing import PolynomialFeatures\n",
    "poly_reg = PolynomialFeatures(degree=2)\n",
    "X_poly = poly_reg.fit_transform(st)\n",
    "pol_reg = LinearRegression()\n",
    "pol_reg.fit(X_poly, tend)\n",
    "X_poly_test = poly_reg.fit_transform(st)\n",
    "print(mean_absolute_error(tend, pol_reg.predict(X_poly_test)))\n",
    "print(r2_score(tend, pol_reg.predict(X_poly_test)))\n",
    "pol_reg.coef_"
   ]
  },
  {
   "cell_type": "code",
   "execution_count": 8,
   "metadata": {},
   "outputs": [
    {
     "name": "stdout",
     "output_type": "stream",
     "text": [
      "4.913692496538577\n",
      "0.009243952054722948\n"
     ]
    },
    {
     "data": {
      "text/plain": [
       "array([ 0.        , -1.91508998,  0.66987016,  1.23326549,  0.652249  ,\n",
       "       -0.58347982])"
      ]
     },
     "execution_count": 8,
     "metadata": {},
     "output_type": "execute_result"
    }
   ],
   "source": [
    "from sklearn.preprocessing import PolynomialFeatures\n",
    "poly_reg = PolynomialFeatures(degree=2)\n",
    "X_poly = poly_reg.fit_transform(X_train)\n",
    "pol_reg = LinearRegression()\n",
    "pol_reg.fit(X_poly, y_train)\n",
    "X_poly_test = poly_reg.fit_transform(st)\n",
    "print(mean_absolute_error(tend, pol_reg.predict(X_poly_test)))\n",
    "print(r2_score(tend, pol_reg.predict(X_poly_test)))\n",
    "pol_reg.coef_"
   ]
  },
  {
   "cell_type": "code",
   "execution_count": 9,
   "metadata": {},
   "outputs": [],
   "source": [
    "data_p=np.zeros((86*10,13))\n",
    "data_clean=np.array(data_E)\n",
    "for i in range (0,86):\n",
    "    data_p[i*10:i*10+10,0]=data_clean[i,0] #ID\n",
    "    data_p[i*10:i*10+10,1]=data_clean[i,1:11] #time\n",
    "    data_p[i*10:i*10+10,2]=data_clean[i,11:21] #choice\n",
    "    data_p[i*10:i*10+10,3]=data_clean[i,21:31] #familarity\n",
    "    data_p[i*10:i*10+10,4]=data_clean[i,31] #stress\n",
    "    data_p[i*10:i*10+10,5]=data_clean[i,32] #tired\n",
    "    data_p[i*10:i*10+10,6]=data_clean[i,33] #pay off\n",
    "    data_p[i*10:i*10+10,7]=data_clean[i,34] #risk\n",
    "    data_p[i*10:i*10+10,8]=data_clean[i,35] #bounce 4\n",
    "    data_p[i*10:i*10+10,9]=data_clean[i,36] #bounce 3\n",
    "    data_p[i*10:i*10+10,10]=data_clean[i,37] #choice 4 include 3?\n",
    "    data_p[i*10:i*10+10,11]=data_clean[i,38] #choice 3\n",
    "    data_p[i*10:i*10+10,12]=data_clean[i,39] #delay"
   ]
  },
  {
   "cell_type": "code",
   "execution_count": 10,
   "metadata": {},
   "outputs": [],
   "source": [
    "from distribut import best_fit_distribution"
   ]
  },
  {
   "cell_type": "code",
   "execution_count": 11,
   "metadata": {},
   "outputs": [
    {
     "name": "stdout",
     "output_type": "stream",
     "text": [
      "('burr', (3.296575094179248, 0.6095424311772768, -6.657664186104298, 818.0481187486655))\n",
      "('burr', (2.96278230336626, 0.7060818040736765, 0.03808196123981357, 617.1479208748744))\n",
      "('burr', (3.8794797413534, 0.39063634718617846, -3.6147574966601823, 667.2560086831902))\n",
      "('burr', (5.607764646791989, 0.24090663005789292, -3.6836905712303682, 726.6320778736202))\n"
     ]
    }
   ],
   "source": [
    "%matplotlib inline\n",
    "\n",
    "import warnings\n",
    "import numpy as np\n",
    "import pandas as pd\n",
    "import scipy.stats as st\n",
    "import statsmodels as sm\n",
    "import matplotlib\n",
    "import matplotlib.pyplot as plt\n",
    "\n",
    "matplotlib.rcParams['figure.figsize'] = (16.0, 12.0)\n",
    "matplotlib.style.use('ggplot')\n",
    "\n",
    "# Create models from data\n",
    "def best_fit_distribution(data, bins=200, ax=None):\n",
    "    \"\"\"Model data by finding best fit distribution to data\"\"\"\n",
    "    # Get histogram of original data\n",
    "    y, x = np.histogram(data, bins=bins, density=True)\n",
    "    x = (x + np.roll(x, -1))[:-1] / 2.0\n",
    "\n",
    "    DISTRIBUTIONS = [st.burr]\n",
    "\n",
    "    # Best holders\n",
    "    best_distribution = st.norm\n",
    "    best_params = (0.0, 1.0)\n",
    "    best_sse = np.inf\n",
    "\n",
    "    # Estimate distribution parameters from data\n",
    "    for distribution in DISTRIBUTIONS:\n",
    "\n",
    "        # Try to fit the distribution\n",
    "        try:\n",
    "            # Ignore warnings from data that can't be fit\n",
    "            with warnings.catch_warnings():\n",
    "                warnings.filterwarnings('ignore')\n",
    "\n",
    "                # fit dist to data\n",
    "                params = distribution.fit(data)\n",
    "\n",
    "                # Separate parts of parameters\n",
    "                arg = params[:-2]\n",
    "                loc = params[-2]\n",
    "                scale = params[-1]\n",
    "\n",
    "                # Calculate fitted PDF and error with fit in distribution\n",
    "                pdf = distribution.pdf(x, loc=loc, scale=scale, *arg)\n",
    "                sse = np.sum(np.power(y - pdf, 2.0))\n",
    "\n",
    "                # if axis pass in add to plot\n",
    "                try:\n",
    "                    if ax:\n",
    "                        pd.Series(pdf, x).plot(ax=ax)\n",
    "                    end\n",
    "                except Exception:\n",
    "                    pass\n",
    "\n",
    "                # identify if this distribution is better\n",
    "                if best_sse > sse > 0:\n",
    "                    best_distribution = distribution\n",
    "                    best_params = params\n",
    "                    best_sse = sse\n",
    "\n",
    "        except Exception:\n",
    "            pass\n",
    "\n",
    "    return (best_distribution.name, best_params)\n",
    "\n",
    "for i in range (1,5):\n",
    "    y=data_p[np.where(data_p[:,3]==i),1]\n",
    "    print(best_fit_distribution(y, bins=200, ax=None))\n"
   ]
  },
  {
   "cell_type": "code",
   "execution_count": 12,
   "metadata": {
    "scrolled": true
   },
   "outputs": [],
   "source": [
    "for i in range (1,5):\n",
    "    y=data_p[np.where(data_p[:,3]==i),1]\n",
    "    m=best_fit_distribution(y, bins=200, ax=None)\n",
    "    np.save('m'+str(i)+'.npy',np.array(m[1]))"
   ]
  },
  {
   "cell_type": "code",
   "execution_count": 13,
   "metadata": {},
   "outputs": [
    {
     "data": {
      "text/plain": [
       "array([ 5.60776465e+00,  2.40906630e-01, -3.68369057e+00,  7.26632078e+02])"
      ]
     },
     "execution_count": 13,
     "metadata": {},
     "output_type": "execute_result"
    }
   ],
   "source": [
    "np.array(m[1])"
   ]
  },
  {
   "cell_type": "code",
   "execution_count": 14,
   "metadata": {},
   "outputs": [
    {
     "data": {
      "text/plain": [
       "3741.584"
      ]
     },
     "execution_count": 14,
     "metadata": {},
     "output_type": "execute_result"
    }
   ],
   "source": [
    "np.max(data_p[:,1])"
   ]
  },
  {
   "cell_type": "code",
   "execution_count": 15,
   "metadata": {},
   "outputs": [],
   "source": [
    "# a=[3.296575094179248, 0.6095424311772768, -6.657664186104298, 818.0481187486655]\n",
    "# rv1=burr(a[0],a[1],a[2],a[3])"
   ]
  },
  {
   "cell_type": "code",
   "execution_count": 16,
   "metadata": {},
   "outputs": [],
   "source": [
    "from scipy.stats import burr\n",
    "f=data_E.iloc[:,21:31]\n",
    "f_e=np.zeros((86,10))\n",
    "rv1=burr(3.296575094179248, 0.6095424311772768, -6.657664186104298, 818.0481187486655)\n",
    "rv2=burr(2.96278230336626, 0.7060818040736765, 0.03808196123981357, 617.1479208748744)\n",
    "rv3=burr(3.8794797413534, 0.39063634718617846, -3.6147574966601823, 667.2560086831902)\n",
    "rv4=burr(5.607764646791989, 0.24090663005789292, -3.6836905712303682, 726.6320778736202)\n",
    "x=np.arange(0,4000)\n",
    "f_e[np.where(f=='0')] = 0\n",
    "f_e[np.where(f=='1')] = x.dot(rv1.pdf(x))\n",
    "f_e[np.where(f=='2')] = x.dot(rv2.pdf(x))\n",
    "f_e[np.where(f=='3')] = x.dot(rv3.pdf(x))\n",
    "f_e[np.where(f=='4')] = x.dot(rv4.pdf(x))"
   ]
  },
  {
   "cell_type": "code",
   "execution_count": 17,
   "metadata": {},
   "outputs": [
    {
     "ename": "NameError",
     "evalue": "name 'm1' is not defined",
     "output_type": "error",
     "traceback": [
      "\u001b[0;31m---------------------------------------------------------------------------\u001b[0m",
      "\u001b[0;31mNameError\u001b[0m                                 Traceback (most recent call last)",
      "\u001b[0;32m<ipython-input-17-5181683dd20f>\u001b[0m in \u001b[0;36m<module>\u001b[0;34m\u001b[0m\n\u001b[1;32m      1\u001b[0m \u001b[0mf\u001b[0m\u001b[0;34m=\u001b[0m\u001b[0mdata_E\u001b[0m\u001b[0;34m.\u001b[0m\u001b[0miloc\u001b[0m\u001b[0;34m[\u001b[0m\u001b[0;34m:\u001b[0m\u001b[0;34m,\u001b[0m\u001b[0;36m21\u001b[0m\u001b[0;34m:\u001b[0m\u001b[0;36m31\u001b[0m\u001b[0;34m]\u001b[0m\u001b[0;34m\u001b[0m\u001b[0;34m\u001b[0m\u001b[0m\n\u001b[1;32m      2\u001b[0m \u001b[0mf_e\u001b[0m\u001b[0;34m=\u001b[0m\u001b[0mnp\u001b[0m\u001b[0;34m.\u001b[0m\u001b[0mzeros\u001b[0m\u001b[0;34m(\u001b[0m\u001b[0;34m(\u001b[0m\u001b[0;36m86\u001b[0m\u001b[0;34m,\u001b[0m\u001b[0;36m10\u001b[0m\u001b[0;34m)\u001b[0m\u001b[0;34m)\u001b[0m\u001b[0;34m\u001b[0m\u001b[0;34m\u001b[0m\u001b[0m\n\u001b[0;32m----> 3\u001b[0;31m \u001b[0mrv1\u001b[0m\u001b[0;34m=\u001b[0m\u001b[0mburr\u001b[0m\u001b[0;34m(\u001b[0m\u001b[0mm1\u001b[0m\u001b[0;34m[\u001b[0m\u001b[0;36m0\u001b[0m\u001b[0;34m]\u001b[0m\u001b[0;34m,\u001b[0m \u001b[0mm1\u001b[0m\u001b[0;34m[\u001b[0m\u001b[0;36m1\u001b[0m\u001b[0;34m]\u001b[0m\u001b[0;34m,\u001b[0m \u001b[0mm1\u001b[0m\u001b[0;34m[\u001b[0m\u001b[0;36m2\u001b[0m\u001b[0;34m]\u001b[0m\u001b[0;34m,\u001b[0m \u001b[0mm1\u001b[0m\u001b[0;34m[\u001b[0m\u001b[0;36m3\u001b[0m\u001b[0;34m]\u001b[0m\u001b[0;34m)\u001b[0m\u001b[0;34m\u001b[0m\u001b[0;34m\u001b[0m\u001b[0m\n\u001b[0m\u001b[1;32m      4\u001b[0m \u001b[0mrv2\u001b[0m\u001b[0;34m=\u001b[0m\u001b[0mburr\u001b[0m\u001b[0;34m(\u001b[0m\u001b[0mm2\u001b[0m\u001b[0;34m[\u001b[0m\u001b[0;36m0\u001b[0m\u001b[0;34m]\u001b[0m\u001b[0;34m,\u001b[0m \u001b[0mm2\u001b[0m\u001b[0;34m[\u001b[0m\u001b[0;36m1\u001b[0m\u001b[0;34m]\u001b[0m\u001b[0;34m,\u001b[0m \u001b[0mm2\u001b[0m\u001b[0;34m[\u001b[0m\u001b[0;36m2\u001b[0m\u001b[0;34m]\u001b[0m\u001b[0;34m,\u001b[0m \u001b[0mm2\u001b[0m\u001b[0;34m[\u001b[0m\u001b[0;36m3\u001b[0m\u001b[0;34m]\u001b[0m\u001b[0;34m)\u001b[0m\u001b[0;34m\u001b[0m\u001b[0;34m\u001b[0m\u001b[0m\n\u001b[1;32m      5\u001b[0m \u001b[0mrv3\u001b[0m\u001b[0;34m=\u001b[0m\u001b[0mburr\u001b[0m\u001b[0;34m(\u001b[0m\u001b[0mm3\u001b[0m\u001b[0;34m[\u001b[0m\u001b[0;36m0\u001b[0m\u001b[0;34m]\u001b[0m\u001b[0;34m,\u001b[0m \u001b[0mm3\u001b[0m\u001b[0;34m[\u001b[0m\u001b[0;36m1\u001b[0m\u001b[0;34m]\u001b[0m\u001b[0;34m,\u001b[0m \u001b[0mm3\u001b[0m\u001b[0;34m[\u001b[0m\u001b[0;36m2\u001b[0m\u001b[0;34m]\u001b[0m\u001b[0;34m,\u001b[0m \u001b[0mm3\u001b[0m\u001b[0;34m[\u001b[0m\u001b[0;36m3\u001b[0m\u001b[0;34m]\u001b[0m\u001b[0;34m)\u001b[0m\u001b[0;34m\u001b[0m\u001b[0;34m\u001b[0m\u001b[0m\n",
      "\u001b[0;31mNameError\u001b[0m: name 'm1' is not defined"
     ]
    }
   ],
   "source": [
    "\n",
    "f=data_E.iloc[:,21:31]\n",
    "f_e=np.zeros((86,10))\n",
    "rv1=burr(m1[0], m1[1], m1[2], m1[3])\n",
    "rv2=burr(m2[0], m2[1], m2[2], m2[3])\n",
    "rv3=burr(m3[0], m3[1], m3[2], m3[3])\n",
    "rv4=burr(m4[0], m4[1], m4[2], m4[3])\n",
    "x=np.arange(0,4000)\n",
    "f_e[np.where(f=='0')] = 0\n",
    "f_e[np.where(f=='1')] = x.dot(rv1.pdf(x))\n",
    "f_e[np.where(f=='2')] = x.dot(rv2.pdf(x))\n",
    "f_e[np.where(f=='3')] = x.dot(rv3.pdf(x))\n",
    "f_e[np.where(f=='4')] = x.dot(rv4.pdf(x))"
   ]
  },
  {
   "cell_type": "code",
   "execution_count": null,
   "metadata": {},
   "outputs": [],
   "source": [
    "np.where(f=='0')"
   ]
  },
  {
   "cell_type": "code",
   "execution_count": null,
   "metadata": {},
   "outputs": [],
   "source": [
    "from sklearn.linear_model import LinearRegression\n",
    "X_train, X_test, y_train, y_test = train_test_split(np.hstack((np.int8(f),f_e)), tend, test_size=0.2, random_state=0)\n",
    "lin_reg = LinearRegression()\n",
    "lin_reg.fit(X_train, y_train)\n",
    "print(mean_absolute_error(tend, lin_reg.predict(np.hstack((np.int8(f),f_e)))))\n",
    "r2_score(tend, lin_reg.predict(np.hstack((np.int8(f),f_e))))\n"
   ]
  },
  {
   "cell_type": "code",
   "execution_count": null,
   "metadata": {},
   "outputs": [],
   "source": [
    "from sklearn.linear_model import LinearRegression\n",
    "X_train, X_test, y_train, y_test = train_test_split(np.int8(f), tend, test_size=0.2, random_state=0)\n",
    "lin_reg = LinearRegression()\n",
    "lin_reg.fit(X_train, y_train)\n",
    "print(mean_absolute_error(tend, lin_reg.predict(np.int8(f))))\n",
    "r2_score(tend, lin_reg.predict(np.int8(f)))"
   ]
  },
  {
   "cell_type": "code",
   "execution_count": null,
   "metadata": {},
   "outputs": [],
   "source": [
    "w=lin_reg.coef_\n",
    "f3=np.sum(np.int8(f)*w,axis=1)\n",
    "w"
   ]
  },
  {
   "cell_type": "code",
   "execution_count": null,
   "metadata": {},
   "outputs": [],
   "source": [
    "lin_reg = LinearRegression()\n",
    "lin_reg.fit(np.int8(f), tend)\n",
    "w1=lin_reg.coef_\n",
    "np.save('w1.npy',w1)"
   ]
  },
  {
   "cell_type": "code",
   "execution_count": null,
   "metadata": {},
   "outputs": [],
   "source": [
    "X_train.shape"
   ]
  },
  {
   "cell_type": "code",
   "execution_count": null,
   "metadata": {},
   "outputs": [],
   "source": [
    "from sklearn.linear_model import LinearRegression\n",
    "X_train, X_test, y_train, y_test = train_test_split(np.int8(f_e), tend, test_size=0.2, random_state=0)\n",
    "lin_reg = LinearRegression()\n",
    "lin_reg.fit(X_train, y_train)\n",
    "print(mean_absolute_error(tend, lin_reg.predict(np.int8(f_e))))\n",
    "r2_score(tend, lin_reg.predict(np.int8(f_e)))\n"
   ]
  },
  {
   "cell_type": "code",
   "execution_count": null,
   "metadata": {},
   "outputs": [],
   "source": [
    "lin_reg = LinearRegression()\n",
    "lin_reg.fit(np.int8(f_e), tend)\n",
    "w=lin_reg.coef_\n",
    "np.save('w.npy',w)"
   ]
  },
  {
   "cell_type": "code",
   "execution_count": null,
   "metadata": {},
   "outputs": [],
   "source": [
    "w=lin_reg.coef_\n",
    "f2=np.sum(np.int8(f_e)*w,axis=1)"
   ]
  },
  {
   "cell_type": "code",
   "execution_count": null,
   "metadata": {},
   "outputs": [],
   "source": [
    "w"
   ]
  },
  {
   "cell_type": "code",
   "execution_count": null,
   "metadata": {},
   "outputs": [],
   "source": [
    "w=np.array([-0.00605373,  0.00757651, -0.01513362, -0.00152401,  0.01459809,\n",
    "        0.01201937, -0.02436635, -0.01537651, -0.02237698, -0.01520981])\n",
    "f2=np.sum(np.int8(f_e)*w,axis=1)"
   ]
  },
  {
   "cell_type": "code",
   "execution_count": null,
   "metadata": {},
   "outputs": [],
   "source": [
    "0.        , -1.91508998,  0.66987016,  1.23326549,  0.652249  ,\n",
    "       -0.58347982"
   ]
  },
  {
   "cell_type": "code",
   "execution_count": null,
   "metadata": {},
   "outputs": [],
   "source": [
    "x1=stress\n",
    "x2=tired\n",
    "f1=-1.91508998*np.int8(x1)+0.66987016*np.int8(x2)+1.23326549*np.int8(x1)**2+0.652249*np.int8(x1)*np.int8(x2)-0.58347982*np.int8(x2)**2"
   ]
  },
  {
   "cell_type": "code",
   "execution_count": null,
   "metadata": {},
   "outputs": [],
   "source": [
    "tend.shape"
   ]
  },
  {
   "cell_type": "code",
   "execution_count": null,
   "metadata": {},
   "outputs": [],
   "source": [
    "X_train, X_test, y_train, y_test = train_test_split(np.hstack((f1.reshape(86,1),f2.reshape(86,1))), tend, test_size=0.2, random_state=0)"
   ]
  },
  {
   "cell_type": "code",
   "execution_count": null,
   "metadata": {},
   "outputs": [],
   "source": [
    "lin_reg = LinearRegression()\n",
    "lin_reg.fit(X_train, y_train)\n",
    "print(mean_absolute_error(y_test, lin_reg.predict(X_test)))\n",
    "r2_score(y_test, lin_reg.predict(X_test))"
   ]
  },
  {
   "cell_type": "code",
   "execution_count": null,
   "metadata": {},
   "outputs": [],
   "source": [
    "print(mean_absolute_error(tend, lin_reg.predict(np.hstack((f1.reshape(86,1),f2.reshape(86,1))))))\n",
    "r2_score(tend, lin_reg.predict(np.hstack((f1.reshape(86,1),f2.reshape(86,1)))))"
   ]
  },
  {
   "cell_type": "code",
   "execution_count": null,
   "metadata": {},
   "outputs": [],
   "source": [
    "X_train, X_test, y_train, y_test = train_test_split(np.hstack((f1.reshape(86,1),f2.reshape(86,1),f3.reshape(86,1))), tend, test_size=0.2, random_state=0)\n",
    "lin_reg = LinearRegression()\n",
    "lin_reg.fit(X_train, y_train)\n",
    "print(mean_absolute_error(y_test, lin_reg.predict(X_test)))\n",
    "r2_score(y_test, lin_reg.predict(X_test))\n",
    "print(mean_absolute_error(tend, lin_reg.predict(np.hstack((f1.reshape(86,1),f2.reshape(86,1),f3.reshape(86,1))))))\n",
    "r2_score(tend, lin_reg.predict(np.hstack((f1.reshape(86,1),f2.reshape(86,1),f3.reshape(86,1)))))"
   ]
  },
  {
   "cell_type": "code",
   "execution_count": null,
   "metadata": {},
   "outputs": [],
   "source": [
    "data_E.iloc[:,21:33].shape"
   ]
  },
  {
   "cell_type": "code",
   "execution_count": null,
   "metadata": {},
   "outputs": [],
   "source": [
    "X_train, X_test, y_train, y_test = train_test_split(data_E.iloc[:,21:33], tend, test_size=0.2, random_state=0)\n",
    "lin_reg = LinearRegression()\n",
    "lin_reg.fit(X_train, y_train)\n",
    "print(mean_absolute_error(tend, lin_reg.predict(data_E.iloc[:,21:33])))\n",
    "r2_score(tend, lin_reg.predict(data_E.iloc[:,21:33]))"
   ]
  },
  {
   "cell_type": "code",
   "execution_count": null,
   "metadata": {},
   "outputs": [],
   "source": [
    "risk=data_E.iloc[:,34]\n",
    "delay=data_E.iloc[:,39]\n",
    "X_train, X_test, y_train, y_test = train_test_split(np.vstack((risk,delay)).T, tend, test_size=0.2, random_state=0)\n",
    "lin_reg = LinearRegression()\n",
    "lin_reg.fit(X_train, y_train)\n",
    "print(mean_absolute_error(tend, lin_reg.predict(np.vstack((risk,delay)).T)))\n",
    "r2_score(tend, lin_reg.predict(np.vstack((risk,delay)).T))"
   ]
  },
  {
   "cell_type": "code",
   "execution_count": null,
   "metadata": {},
   "outputs": [],
   "source": [
    "risk=data_E.iloc[:,34]\n",
    "delay=data_E.iloc[:,39]\n",
    "m=[risk=='1']\n",
    "n=[delay=='1']\n",
    "a=np.array(np.where(np.array(m[0])==1))\n",
    "b=np.array(np.where(np.array(n[0])==1))\n",
    "tmp1 = [i for i in a[0] if i in b[0]]\n",
    "#print(np.mean(tend[tmp1]))\n",
    "k11=np.mean(tend[tmp1])\n",
    "#print(np.median(tend[tmp1]))\n",
    "k12=np.median(tend[tmp1])\n",
    "counts = np.bincount(tend[tmp1])\n",
    "#print(np.argmax(counts))\n",
    "k13=np.argmax(counts)\n",
    "m=[risk=='2']\n",
    "n=[delay=='1']\n",
    "a=np.array(np.where(np.array(m[0])==1))\n",
    "b=np.array(np.where(np.array(n[0])==1))\n",
    "tmp2 = [i for i in a[0] if i in b[0]]\n",
    "tend[tmp2]\n",
    "#plt.hist(tend[tmp2])\n",
    "#print(np.mean(tend[tmp2]))\n",
    "k21=np.mean(tend[tmp2])\n",
    "#print(np.median(tend[tmp2]))\n",
    "k22=np.median(tend[tmp2])\n",
    "counts = np.bincount(tend[tmp2])\n",
    "#print(np.argmax(counts))\n",
    "k23=np.argmax(counts)\n",
    "m=[risk=='1']\n",
    "n=[delay=='2']\n",
    "a=np.array(np.where(np.array(m[0])==1))\n",
    "b=np.array(np.where(np.array(n[0])==1))\n",
    "tmp3 = [i for i in a[0] if i in b[0]]\n",
    "tend[tmp3]\n",
    "#plt.hist(tend[tmp2])\n",
    "#print(np.mean(tend[tmp2]))\n",
    "k31=np.mean(tend[tmp2])\n",
    "#print(np.median(tend[tmp2]))\n",
    "k32=np.median(tend[tmp2])\n",
    "counts = np.bincount(tend[tmp2])\n",
    "#print(np.argmax(counts))\n",
    "k33=np.argmax(counts)\n",
    "m=[risk=='2']\n",
    "n=[delay=='2']\n",
    "a=np.array(np.where(np.array(m[0])==1))\n",
    "b=np.array(np.where(np.array(n[0])==1))\n",
    "tmp4 = [i for i in a[0] if i in b[0]]\n",
    "tend[tmp4]\n",
    "#plt.hist(tend[tmp2])\n",
    "#print(np.mean(tend[tmp2]))\n",
    "k41=np.mean(tend[tmp2])\n",
    "#print(np.median(tend[tmp2]))\n",
    "k42=np.median(tend[tmp2])\n",
    "counts = np.bincount(tend[tmp2])\n",
    "#print(np.argmax(counts))\n",
    "k43=np.argmax(counts)\n",
    "k=np.zeros((4,3))\n",
    "k[0,0]=k11\n",
    "k[1,0]=k21\n",
    "k[2,0]=k31\n",
    "k[3,0]=k41\n",
    "k[0,1]=k12\n",
    "k[1,1]=k22\n",
    "k[2,1]=k32\n",
    "k[3,1]=k42\n",
    "k[0,2]=k13\n",
    "k[1,2]=k23\n",
    "k[2,2]=k33\n",
    "k[3,2]=k43"
   ]
  },
  {
   "cell_type": "code",
   "execution_count": null,
   "metadata": {},
   "outputs": [],
   "source": [
    "m=[risk=='1']\n",
    "n=[delay=='1']\n",
    "a=np.array(np.where(np.array(m[0])==1))\n",
    "b=np.array(np.where(np.array(n[0])==1))\n",
    "tmp1 = [i for i in a[0] if i in b[0]]\n",
    "print(np.mean(tend[tmp1]))\n",
    "k11=np.mean(tend[tmp1])\n",
    "print(np.median(tend[tmp1]))\n",
    "k12=np.median(tend[tmp1])\n",
    "counts = np.bincount(tend[tmp1])\n",
    "print(np.argmax(counts))\n",
    "k13=np.argmax(counts)"
   ]
  },
  {
   "cell_type": "code",
   "execution_count": null,
   "metadata": {},
   "outputs": [],
   "source": [
    "m=[risk=='2']\n",
    "n=[delay=='1']\n",
    "a=np.array(np.where(np.array(m[0])==1))\n",
    "b=np.array(np.where(np.array(n[0])==1))\n",
    "tmp2 = [i for i in a[0] if i in b[0]]\n",
    "tend[tmp2]\n",
    "#plt.hist(tend[tmp2])\n",
    "print(np.mean(tend[tmp2]))\n",
    "k21=np.mean(tend[tmp2])\n",
    "print(np.median(tend[tmp2]))\n",
    "k22=np.median(tend[tmp2])\n",
    "counts = np.bincount(tend[tmp2])\n",
    "print(np.argmax(counts))\n",
    "k23=np.argmax(counts)"
   ]
  },
  {
   "cell_type": "code",
   "execution_count": null,
   "metadata": {},
   "outputs": [],
   "source": [
    "m=[risk=='1']\n",
    "n=[delay=='2']\n",
    "a=np.array(np.where(np.array(m[0])==1))\n",
    "b=np.array(np.where(np.array(n[0])==1))\n",
    "tmp3 = [i for i in a[0] if i in b[0]]\n",
    "tend[tmp3]\n",
    "#plt.hist(tend[tmp2])\n",
    "print(np.mean(tend[tmp2]))\n",
    "k31=np.mean(tend[tmp2])\n",
    "print(np.median(tend[tmp2]))\n",
    "k32=np.median(tend[tmp2])\n",
    "counts = np.bincount(tend[tmp2])\n",
    "print(np.argmax(counts))\n",
    "k33=np.argmax(counts)"
   ]
  },
  {
   "cell_type": "code",
   "execution_count": null,
   "metadata": {},
   "outputs": [],
   "source": [
    "m=[risk=='2']\n",
    "n=[delay=='2']\n",
    "a=np.array(np.where(np.array(m[0])==1))\n",
    "b=np.array(np.where(np.array(n[0])==1))\n",
    "tmp4 = [i for i in a[0] if i in b[0]]\n",
    "tend[tmp4]\n",
    "#plt.hist(tend[tmp2])\n",
    "print(np.mean(tend[tmp2]))\n",
    "k41=np.mean(tend[tmp2])\n",
    "print(np.median(tend[tmp2]))\n",
    "k42=np.median(tend[tmp2])\n",
    "counts = np.bincount(tend[tmp2])\n",
    "print(np.argmax(counts))\n",
    "k43=np.argmax(counts)"
   ]
  },
  {
   "cell_type": "code",
   "execution_count": null,
   "metadata": {},
   "outputs": [],
   "source": [
    "k=np.zeros((4,3))\n",
    "k[0,0]=k11\n",
    "k[1,0]=k21\n",
    "k[2,0]=k31\n",
    "k[3,0]=k41\n",
    "k[0,1]=k12\n",
    "k[1,1]=k22\n",
    "k[2,1]=k32\n",
    "k[3,1]=k42\n",
    "k[0,2]=k13\n",
    "k[1,2]=k23\n",
    "k[2,2]=k33\n",
    "k[3,2]=k43\n",
    "k"
   ]
  },
  {
   "cell_type": "code",
   "execution_count": null,
   "metadata": {},
   "outputs": [],
   "source": [
    "k=np.array([[18.83333333, 20.5       , 21.        ],\n",
    "        [16.95      , 16.        , 16.        ],\n",
    "        [17.7826087 , 17.        , 13.        ],\n",
    "        [17.7826087 , 17.        , 13.        ]])"
   ]
  },
  {
   "cell_type": "code",
   "execution_count": null,
   "metadata": {},
   "outputs": [],
   "source": [
    "f41=np.zeros(86)\n",
    "f41[tmp1]=k11\n",
    "f41[tmp2]=k21\n",
    "f41[tmp3]=k31\n",
    "f41[tmp3]=k41\n",
    "f42=np.zeros(86)\n",
    "f42[tmp1]=k12\n",
    "f42[tmp2]=k22\n",
    "f42[tmp3]=k32\n",
    "f42[tmp3]=k42\n",
    "f43=np.zeros(86)\n",
    "f43[tmp1]=k13\n",
    "f43[tmp2]=k23\n",
    "f43[tmp3]=k33\n",
    "f43[tmp3]=k43\n",
    "X_train, X_test, y_train, y_test = train_test_split(f41.reshape(-1,1), tend, test_size=0.2, random_state=0)\n",
    "lin_reg = LinearRegression()\n",
    "lin_reg.fit(X_train, y_train)\n",
    "print(mean_absolute_error(tend, lin_reg.predict(f41.reshape(-1,1))))\n",
    "print(r2_score(tend, lin_reg.predict(f41.reshape(-1,1))))\n",
    "X_train, X_test, y_train, y_test = train_test_split(f42.reshape(-1,1), tend, test_size=0.2, random_state=0)\n",
    "lin_reg = LinearRegression()\n",
    "lin_reg.fit(X_train, y_train)\n",
    "print(mean_absolute_error(tend, lin_reg.predict(f42.reshape(-1,1))))\n",
    "print(r2_score(tend, lin_reg.predict(f42.reshape(-1,1))))\n",
    "X_train, X_test, y_train, y_test = train_test_split(f43.reshape(-1,1), tend, test_size=0.2, random_state=0)\n",
    "lin_reg = LinearRegression()\n",
    "lin_reg.fit(X_train, y_train)\n",
    "print(mean_absolute_error(tend, lin_reg.predict(f43.reshape(-1,1))))\n",
    "print(r2_score(tend, lin_reg.predict(f43.reshape(-1,1))))\n",
    "X_train, X_test, y_train, y_test = train_test_split(np.vstack((f42,f41,f43)).T, tend, test_size=0.2, random_state=0)\n",
    "lin_reg = LinearRegression()\n",
    "lin_reg.fit(X_train, y_train)\n",
    "print(mean_absolute_error(tend, lin_reg.predict(np.vstack((f42,f41,f43)).T)))\n",
    "print(r2_score(tend, lin_reg.predict(np.vstack((f42,f41,f43)).T)))\n",
    "w=lin_reg.coef_\n",
    "f4=np.sum(np.vstack((f42,f41,f43)).T*w,axis=1)\n",
    "w"
   ]
  },
  {
   "cell_type": "code",
   "execution_count": null,
   "metadata": {},
   "outputs": [],
   "source": [
    "lin_reg = LinearRegression()\n",
    "lin_reg.fit(np.vstack((f42,f41,f43)).T, tend)"
   ]
  },
  {
   "cell_type": "code",
   "execution_count": null,
   "metadata": {},
   "outputs": [],
   "source": [
    "X_train, X_test, y_train, y_test = train_test_split(np.vstack((f1,f2,f3,f4)).T, tend, test_size=0.2, random_state=0)\n",
    "lin_reg = LinearRegression()\n",
    "lin_reg.fit(X_train, y_train)\n",
    "print(mean_absolute_error(tend, lin_reg.predict(np.vstack((f1,f2,f3,f4)).T)))\n",
    "r2_score(tend, lin_reg.predict(np.vstack((f1,f2,f3,f4)).T))"
   ]
  },
  {
   "cell_type": "code",
   "execution_count": null,
   "metadata": {},
   "outputs": [],
   "source": [
    "# polynomial weight\n",
    "w0=np.array([ 0.        , -1.91508998,  0.66987016,  1.23326549,  0.652249  ,\n",
    "       -0.58347982])\n",
    "# f_e weight (familarity_exploration)\n",
    "w=np.array([-0.00605373,  0.00757651, -0.01513362, -0.00152401,  0.01459809,\n",
    "        0.01201937, -0.02436635, -0.01537651, -0.02237698, -0.01520981])\n",
    "# f weight (familarity_exploration)\n",
    "w1=np.array([-1.20174752, -2.69788972, -0.01272427, -1.23121747, -2.15756708,\n",
    "       -0.26401346, -2.54347086,  4.44088608,  1.18509329,  0.26091479])\n",
    "# risk and delay\n",
    "w2=np.array([-0.8100222 ,  0.23049743,  0.64396399])\n",
    "np.save('w0.npy',w0)\n",
    "np.save('w.npy',w)\n",
    "np.save('w1.npy',w1)\n",
    "np.save('w2.npy',w2)"
   ]
  },
  {
   "cell_type": "code",
   "execution_count": null,
   "metadata": {},
   "outputs": [],
   "source": [
    "k=np.array([[18.83333333, 20.5       , 21.        ],\n",
    "       [16.95      , 16.        , 16.        ],\n",
    "       [17.7826087 , 17.        , 13.        ],\n",
    "       [17.7826087 , 17.        , 13.        ]])\n",
    "np.save('k.npy',k)"
   ]
  },
  {
   "cell_type": "code",
   "execution_count": null,
   "metadata": {},
   "outputs": [],
   "source": [
    "from factors import gen_f\n",
    "gen_f(data_E,update=False)"
   ]
  },
  {
   "cell_type": "code",
   "execution_count": null,
   "metadata": {},
   "outputs": [],
   "source": [
    "f1,f2,f3,f4=gen_f(data_E,update=False)\n",
    "X_train, X_test, y_train, y_test = train_test_split(np.vstack((f1,f2,f3,f4)).T, tend, test_size=0.2, random_state=0)\n",
    "lin_reg = LinearRegression()\n",
    "lin_reg.fit(X_train, y_train)\n",
    "print(mean_absolute_error(tend, lin_reg.predict(np.vstack((f1,f2,f3,f4)).T)))\n",
    "r2_score(tend, lin_reg.predict(np.vstack((f1,f2,f3,f4)).T))"
   ]
  },
  {
   "cell_type": "code",
   "execution_count": null,
   "metadata": {},
   "outputs": [],
   "source": [
    "time=np.float32(data_E.iloc[:,1:11])\n",
    "X_train, X_test, y_train, y_test = train_test_split(time, tend, test_size=0.2, random_state=0)\n",
    "from sklearn.linear_model import LinearRegression\n",
    "lin_reg = LinearRegression()\n",
    "lin_reg.fit(X_train, y_train)\n",
    "print(mean_absolute_error(tend, lin_reg.predict(time)))\n",
    "r2_score(tend, lin_reg.predict(time))"
   ]
  },
  {
   "cell_type": "code",
   "execution_count": null,
   "metadata": {},
   "outputs": [],
   "source": [
    "lin_reg = LinearRegression()\n",
    "lin_reg.fit(time, tend)\n",
    "w_t=lin_reg.coef_\n",
    "np.save('w_t.npy',w_t)"
   ]
  },
  {
   "cell_type": "code",
   "execution_count": null,
   "metadata": {},
   "outputs": [],
   "source": [
    "w_t=lin_reg.coef_\n",
    "np.save('w_t.npy',w_t)"
   ]
  },
  {
   "cell_type": "code",
   "execution_count": null,
   "metadata": {},
   "outputs": [],
   "source": [
    "f5=np.sum(time*w_t,axis=1)\n",
    "X_train, X_test, y_train, y_test = train_test_split(f5.reshape(-1,1), tend, test_size=0.2, random_state=0)\n",
    "from sklearn.linear_model import LinearRegression\n",
    "lin_reg = LinearRegression()\n",
    "lin_reg.fit(X_train, y_train)\n",
    "print(mean_absolute_error(tend, lin_reg.predict(f5.reshape(-1,1))))\n",
    "r2_score(tend, lin_reg.predict(f5.reshape(-1,1)))"
   ]
  },
  {
   "cell_type": "code",
   "execution_count": null,
   "metadata": {},
   "outputs": [],
   "source": [
    "X_train, X_test, y_train, y_test = train_test_split(np.vstack((f1,f2,f3,f4,f5)).T, tend, test_size=0.2, random_state=0)\n",
    "lin_reg = LinearRegression()\n",
    "lin_reg.fit(X_train, y_train)\n",
    "print(mean_absolute_error(tend, lin_reg.predict(np.vstack((f1,f2,f3,f4,f5)).T)))\n",
    "r2_score(tend, lin_reg.predict(np.vstack((f1,f2,f3,f4,f5)).T))"
   ]
  },
  {
   "cell_type": "code",
   "execution_count": null,
   "metadata": {},
   "outputs": [],
   "source": [
    "X_train, X_test, y_train, y_test = train_test_split(np.vstack((f1,f3,f4,f5)).T, tend, test_size=0.2, random_state=0)\n",
    "lin_reg = LinearRegression()\n",
    "lin_reg.fit(X_train, y_train)\n",
    "print(mean_absolute_error(tend, lin_reg.predict(np.vstack((f1,f3,f4,f5)).T)))\n",
    "r2_score(tend, lin_reg.predict(np.vstack((f1,f3,f4,f5)).T))"
   ]
  },
  {
   "cell_type": "code",
   "execution_count": null,
   "metadata": {
    "scrolled": true
   },
   "outputs": [],
   "source": [
    "from g_factors import gen_f\n",
    "from sklearn.model_selection import train_test_split \n",
    "f1,f2,f3,f4,f5=gen_f(data_E,update=False)\n",
    "\n",
    "X_train, X_test, y_train, y_test = train_test_split(np.vstack((f1,f2,f3,f4,f5)).T, tend, test_size=0.2, random_state=0)\n",
    "lin_reg = LinearRegression()\n",
    "lin_reg.fit(X_train, y_train)\n",
    "print(mean_absolute_error(tend, lin_reg.predict(np.vstack((f1,f2,f3,f4,f5)).T)))\n",
    "r2_score(tend, lin_reg.predict(np.vstack((f1,f2,f3,f4,f5)).T))"
   ]
  },
  {
   "cell_type": "code",
   "execution_count": null,
   "metadata": {},
   "outputs": [],
   "source": [
    "data_E.iloc[:,34].shape"
   ]
  },
  {
   "cell_type": "code",
   "execution_count": null,
   "metadata": {},
   "outputs": [],
   "source": [
    "test=np.hstack((data_E.iloc[:,21:33],np.array(data_E.iloc[:,34]).reshape(20,1),np.array(data_E.iloc[:,39]).reshape(20,1),data_E.iloc[:,1:11]))"
   ]
  },
  {
   "cell_type": "code",
   "execution_count": null,
   "metadata": {},
   "outputs": [],
   "source": [
    "lin_reg = LinearRegression()\n",
    "lin_reg.fit(X_train, y_train)\n",
    "print(mean_absolute_error(tend, lin_reg.predict(np.vstack((f1,f2,f3,f4,f5)).T)))\n",
    "r2_score(tend, lin_reg.predict(np.vstack((f1,f2,f3,f4,f5)).T))"
   ]
  },
  {
   "cell_type": "code",
   "execution_count": null,
   "metadata": {},
   "outputs": [],
   "source": [
    "choice3_t=data_T.iloc[:,37]\n",
    "choice4_t=data_T.iloc[:,38]\n",
    "tend_t=np.int8(choice3_t)+np.int8(choice4_t)\n",
    "tend_t.shape"
   ]
  },
  {
   "cell_type": "code",
   "execution_count": null,
   "metadata": {},
   "outputs": [],
   "source": [
    "f2.shape"
   ]
  },
  {
   "cell_type": "code",
   "execution_count": null,
   "metadata": {},
   "outputs": [],
   "source": [
    "from sklearn.metrics import mean_absolute_error\n",
    "from sklearn.metrics import r2_score\n",
    "from sklearn.model_selection import train_test_split \n",
    "from g_factors import gen_f\n",
    "f1,f2,f3,f4,f5=gen_f(data_T,update=False)\n",
    "choice3_t=data_T.iloc[:,37]\n",
    "choice4_t=data_T.iloc[:,38]\n",
    "tend_t=np.int8(choice3_t)+np.int8(choice4_t)\n",
    "tend_t.shape\n",
    "print(mean_absolute_error(tend_t, lin_reg.predict(np.vstack((f1,f2,f3,f4,f5)).T)))\n",
    "r2_score(tend_t, lin_reg.predict(np.vstack((f1,f2,f3,f4,f5)).T))"
   ]
  },
  {
   "cell_type": "code",
   "execution_count": null,
   "metadata": {},
   "outputs": [],
   "source": [
    "m1=np.load('m1.npy')\n",
    "m2=np.load('m2.npy')\n",
    "m3=np.load('m3.npy')\n",
    "m4=np.load('m4.npy')\n",
    "w=np.load('w.npy')\n",
    "from scipy.stats import burr\n",
    "f=data_T.iloc[:,21:31]\n",
    "f_e=np.zeros((data_T.shape[0],10))\n",
    "rv1=burr(m1[0], m1[1], m1[2], m1[3])\n",
    "rv2=burr(m2[0], m2[1], m2[2], m2[3])\n",
    "rv3=burr(m3[0], m3[1], m3[2], m3[3])\n",
    "rv4=burr(m4[0], m4[1], m4[2], m4[3])\n",
    "x=np.arange(0,4000)\n",
    "f_e[np.where(f=='0')] = 0\n",
    "f_e[np.where(f=='1')] = x.dot(rv1.pdf(x))\n",
    "f_e[np.where(f=='2')] = x.dot(rv2.pdf(x))\n",
    "f_e[np.where(f=='3')] = x.dot(rv3.pdf(x))\n",
    "f_e[np.where(f=='4')] = x.dot(rv4.pdf(x))\n",
    "f2=np.sum(np.int8(f_e)*w,axis=1)"
   ]
  },
  {
   "cell_type": "code",
   "execution_count": null,
   "metadata": {},
   "outputs": [],
   "source": [
    "f2.shape"
   ]
  },
  {
   "cell_type": "code",
   "execution_count": null,
   "metadata": {},
   "outputs": [],
   "source": [
    "data_E.shape[0]"
   ]
  },
  {
   "cell_type": "code",
   "execution_count": null,
   "metadata": {},
   "outputs": [],
   "source": [
    "from scipy.stats import burr\n",
    "from sklearn.preprocessing import PolynomialFeatures\n",
    "from sklearn.linear_model import LinearRegression\n",
    "from sklearn.metrics import mean_absolute_error\n",
    "from sklearn.metrics import r2_score\n",
    "from distribut import best_fit_distribution\n",
    "import numpy as np\n",
    "update=False\n",
    "data_E=data_T\n",
    "# polynomial weight\n",
    "w0=np.load('w0.npy')\n",
    "# f_e weight (familarity_exploration)\n",
    "w=np.load('w.npy')\n",
    "# f weight (familarity_exploration)\n",
    "w1=np.load('w1.npy')\n",
    "# risk and delay\n",
    "k=np.load('k.npy')\n",
    "w2=np.load('w2.npy')\n",
    "#time\n",
    "w_t=np.load('w_t.npy')\n",
    "# burr\n",
    "m1=np.load('m1.npy')\n",
    "m2=np.load('m2.npy')\n",
    "m3=np.load('m3.npy')\n",
    "m4=np.load('m4.npy')\n",
    "if update==1:\n",
    "    np.save('w0_old.npy',w0)\n",
    "    np.save('w_old.npy',w)\n",
    "    np.save('w1_old.npy',w1)\n",
    "    np.save('w2_old.npy',w2)\n",
    "    np.save('k_old.npy',k)\n",
    "    np.save('w_t_old.npy',w_t)\n",
    "    m1=np.save('m1.npy',m1)\n",
    "    m2=np.save('m2.npy',m2)\n",
    "    m3=np.save('m3.npy',m3)\n",
    "    m4=np.save('m4.npy',m4)\n",
    "    model_update(data_E)\n",
    "stress=np.int8(data_E.iloc[:,31])\n",
    "tired=np.int8(data_E.iloc[:,32])\n",
    "st=np.int8(data_E.iloc[:,31:33])\n",
    "choice3=data_E.iloc[:,37]\n",
    "choice4=data_E.iloc[:,38]\n",
    "tend=np.int8(choice3)+np.int8(choice4)\n",
    "x1=stress\n",
    "x2=tired\n",
    "f1=w0[0]+w0[1]*np.int8(x1)+w0[2]*np.int8(x2)+w0[3]*np.int8(x1)**2+w0[4]*np.int8(x1)*np.int8(x2)+w0[5]*np.int8(x2)**2\n",
    "f=data_E.iloc[:,21:31]\n",
    "f_e=np.zeros((data_E.shape[0],10))\n",
    "rv1=burr(m1[0], m1[1], m1[2], m1[3])\n",
    "rv2=burr(m2[0], m2[1], m2[2], m2[3])\n",
    "rv3=burr(m3[0], m3[1], m3[2], m3[3])\n",
    "rv4=burr(m4[0], m4[1], m4[2], m4[3])\n",
    "x=np.arange(0,4000)\n",
    "f_e[np.where(f=='0')] = 0\n",
    "f_e[np.where(f=='1')] = x.dot(rv1.pdf(x))\n",
    "f_e[np.where(f=='2')] = x.dot(rv2.pdf(x))\n",
    "f_e[np.where(f=='3')] = x.dot(rv3.pdf(x))\n",
    "f_e[np.where(f=='4')] = x.dot(rv4.pdf(x))\n",
    "f2=np.sum(np.int8(f_e)*w,axis=1)\n",
    "f3=np.sum(np.int8(f)*w1,axis=1)\n",
    "\n",
    "risk=data_E.iloc[:,34]\n",
    "delay=data_E.iloc[:,39]\n",
    "m=[risk=='1']\n",
    "n=[delay=='1']\n",
    "a=np.array(np.where(np.array(m[0])==1))\n",
    "b=np.array(np.where(np.array(n[0])==1))\n",
    "tmp1 = [i for i in a[0] if i in b[0]]\n",
    "m=[risk=='2']\n",
    "n=[delay=='1']\n",
    "a=np.array(np.where(np.array(m[0])==1))\n",
    "b=np.array(np.where(np.array(n[0])==1))\n",
    "tmp2 = [i for i in a[0] if i in b[0]]\n",
    "m=[risk=='1']\n",
    "n=[delay=='2']\n",
    "a=np.array(np.where(np.array(m[0])==1))\n",
    "b=np.array(np.where(np.array(n[0])==1))\n",
    "tmp3 = [i for i in a[0] if i in b[0]]\n",
    "m=[risk=='2']\n",
    "n=[delay=='2']\n",
    "a=np.array(np.where(np.array(m[0])==1))\n",
    "b=np.array(np.where(np.array(n[0])==1))\n",
    "tmp4 = [i for i in a[0] if i in b[0]]\n",
    "tend[tmp4]\n",
    "f41=np.zeros(data_E.shape[0])\n",
    "f41[tmp1]=k[0,0]\n",
    "f41[tmp2]=k[1,0]\n",
    "f41[tmp3]=k[2,0]\n",
    "f41[tmp3]=k[3,0]\n",
    "f42=np.zeros(data_E.shape[0])\n",
    "f42[tmp1]=k[0,1]\n",
    "f42[tmp2]=k[1,1]\n",
    "f42[tmp3]=k[2,1]\n",
    "f42[tmp3]=k[3,1]\n",
    "f43=np.zeros(data_E.shape[0])\n",
    "f43[tmp1]=k[0,2]\n",
    "f43[tmp2]=k[1,2]\n",
    "f43[tmp3]=k[2,2]\n",
    "f43[tmp3]=k[3,2]\n",
    "f4=np.sum(np.vstack((f42,f41,f43)).T*w2,axis=1)\n",
    "time=np.float32(data_E.iloc[:,1:11])\n",
    "f5=np.sum(time*w_t,axis=1)"
   ]
  },
  {
   "cell_type": "code",
   "execution_count": null,
   "metadata": {},
   "outputs": [],
   "source": [
    "f2"
   ]
  }
 ],
 "metadata": {
  "kernelspec": {
   "display_name": "Python 3",
   "language": "python",
   "name": "python3"
  },
  "language_info": {
   "codemirror_mode": {
    "name": "ipython",
    "version": 3
   },
   "file_extension": ".py",
   "mimetype": "text/x-python",
   "name": "python",
   "nbconvert_exporter": "python",
   "pygments_lexer": "ipython3",
   "version": "3.6.8"
  }
 },
 "nbformat": 4,
 "nbformat_minor": 2
}
