{
 "cells": [
  {
   "cell_type": "code",
   "execution_count": 1,
   "metadata": {},
   "outputs": [
    {
     "name": "stderr",
     "output_type": "stream",
     "text": [
      "/afs/inf.ed.ac.uk/user/s18/s1883226/miniconda3/envs/mlp/lib/python3.6/site-packages/pandas/core/ops/__init__.py:1115: FutureWarning: elementwise comparison failed; returning scalar instead, but in the future will perform elementwise comparison\n",
      "  result = method(y)\n"
     ]
    }
   ],
   "source": [
    "from g_factors3 import gen_f\n",
    "import pandas as pd\n",
    "import numpy as np\n",
    "data = pd.read_csv(\"data.csv\")\n",
    "data[data==' ']=np.nan\n",
    "data=data.dropna()\n",
    "data.head(5)\n",
    "data_E=data.iloc[0:56,:]\n",
    "data_T=data.iloc[56::,:]\n",
    "stress=np.int8(data_E.iloc[:,31])\n",
    "tired=np.int8(data_E.iloc[:,32])\n",
    "st=np.int8(data_E.iloc[:,31:33])\n",
    "choice3=np.int8(data_E.iloc[:,37])\n",
    "choice4=np.int8(data_E.iloc[:,38])\n",
    "tend=np.int8(choice3)+np.int8(choice4)\n",
    "risk=np.int8(data_E.iloc[:,34])\n",
    "delay=np.int8(data_E.iloc[:,39])"
   ]
  },
  {
   "cell_type": "code",
   "execution_count": 2,
   "metadata": {},
   "outputs": [
    {
     "data": {
      "text/plain": [
       "array([23, 29, 25, 26, 23, 21, 21, 21, 28, 27, 24, 32, 25, 21, 29, 24, 22,\n",
       "       22], dtype=int8)"
      ]
     },
     "execution_count": 2,
     "metadata": {},
     "output_type": "execute_result"
    }
   ],
   "source": [
    "tend[tend>20]"
   ]
  },
  {
   "cell_type": "code",
   "execution_count": 3,
   "metadata": {},
   "outputs": [],
   "source": [
    "fst=np.zeros((3,3))\n",
    "for i in range (0,3):\n",
    "    for j in range (0,3):\n",
    "        fst[i,j]=np.array([i for i in np.where(st[:,0]==i)[0] if i in np.where(st[:,1]==j)[0]]).size\n",
    "fst/=fst.sum()"
   ]
  },
  {
   "cell_type": "code",
   "execution_count": 4,
   "metadata": {
    "scrolled": true
   },
   "outputs": [
    {
     "data": {
      "text/plain": [
       "array([[0.21428571, 0.21428571, 0.        ],\n",
       "       [0.125     , 0.30357143, 0.03571429],\n",
       "       [0.01785714, 0.07142857, 0.01785714]])"
      ]
     },
     "execution_count": 4,
     "metadata": {},
     "output_type": "execute_result"
    }
   ],
   "source": [
    "fst"
   ]
  },
  {
   "cell_type": "code",
   "execution_count": 5,
   "metadata": {},
   "outputs": [
    {
     "data": {
      "text/plain": [
       "array([[0.30357143, 0.17857143],\n",
       "       [0.28571429, 0.23214286]])"
      ]
     },
     "execution_count": 5,
     "metadata": {},
     "output_type": "execute_result"
    }
   ],
   "source": [
    "frd=np.zeros((2,2))\n",
    "for i in range (0,2):\n",
    "    for j in range (0,2):\n",
    "        frd[i,j]=np.array([i for i in np.where(risk==i+1)[0] if i in np.where(delay==j+1)[0]]).size\n",
    "frd/=frd.sum()\n",
    "frd"
   ]
  },
  {
   "cell_type": "code",
   "execution_count": 6,
   "metadata": {},
   "outputs": [],
   "source": [
    "from scipy.stats import norm\n",
    "time=np.float32(data_E.iloc[:,1:11])\n",
    "mu=np.zeros(10)\n",
    "std=np.zeros(10)\n",
    "for i in range (0,10):\n",
    "    mu[i],std[i]=norm.fit(time[:,i])\n"
   ]
  },
  {
   "cell_type": "code",
   "execution_count": 7,
   "metadata": {},
   "outputs": [],
   "source": [
    "from scipy.stats import norm\n",
    "farmiliar=np.float32(data_E.iloc[:,21:31])\n",
    "mu_f=np.zeros(10)\n",
    "std_f=np.zeros(10)\n",
    "for i in range (0,10):\n",
    "    mu_f[i],std_f[i]=norm.fit(farmiliar[:,i])"
   ]
  },
  {
   "cell_type": "code",
   "execution_count": 8,
   "metadata": {},
   "outputs": [],
   "source": [
    "from scipy.stats import burr\n",
    "m1=np.load('m1.npy')\n",
    "m2=np.load('m2.npy')\n",
    "m3=np.load('m3.npy')\n",
    "m4=np.load('m4.npy')\n",
    "f=data_E.iloc[:,21:31]\n",
    "f_e=np.zeros((data_E.shape[0],10))\n",
    "rv1=burr(m1[0], m1[1], m1[2], m1[3])\n",
    "rv2=burr(m2[0], m2[1], m2[2], m2[3])\n",
    "rv3=burr(m3[0], m3[1], m3[2], m3[3])\n",
    "rv4=burr(m4[0], m4[1], m4[2], m4[3])\n",
    "x=np.arange(0,4000)\n",
    "f_e[np.where(f=='0')] = 0\n",
    "f_e[np.where(f=='1')] = x.dot(rv1.pdf(x))\n",
    "f_e[np.where(f=='2')] = x.dot(rv2.pdf(x))\n",
    "f_e[np.where(f=='3')] = x.dot(rv3.pdf(x))\n",
    "f_e[np.where(f=='4')] = x.dot(rv4.pdf(x))\n",
    "mu_fe=np.zeros(10)\n",
    "std_fe=np.zeros(10)\n",
    "for i in range (0,10):\n",
    "    mu_fe[i],std_fe[i]=norm.fit(f_e[:,i])"
   ]
  },
  {
   "cell_type": "code",
   "execution_count": 28,
   "metadata": {
    "scrolled": true
   },
   "outputs": [
    {
     "data": {
      "text/plain": [
       "array([False, False, False, False, False, False, False, False, False,\n",
       "       False, False, False, False, False, False, False, False, False,\n",
       "       False, False, False, False, False, False, False, False, False,\n",
       "       False, False, False, False, False, False, False, False, False,\n",
       "       False, False, False, False, False, False, False, False, False,\n",
       "       False, False, False, False, False, False, False, False, False,\n",
       "       False, False])"
      ]
     },
     "execution_count": 28,
     "metadata": {},
     "output_type": "execute_result"
    }
   ],
   "source": [
    "from\n",
    "tend_p=fst[stress[0],tired[0]]"
   ]
  },
  {
   "cell_type": "code",
   "execution_count": 51,
   "metadata": {},
   "outputs": [
    {
     "data": {
      "text/plain": [
       "0.125"
      ]
     },
     "execution_count": 51,
     "metadata": {},
     "output_type": "execute_result"
    }
   ],
   "source": [
    "tend[tend==tend[0]].size/tend.size"
   ]
  },
  {
   "cell_type": "code",
   "execution_count": null,
   "metadata": {},
   "outputs": [],
   "source": [
    "#different variables lead to different distribution of predicted tend, with mean tend[i]\n",
    "#50 category?"
   ]
  },
  {
   "cell_type": "code",
   "execution_count": 59,
   "metadata": {},
   "outputs": [
    {
     "data": {
      "text/plain": [
       "False"
      ]
     },
     "execution_count": 59,
     "metadata": {},
     "output_type": "execute_result"
    }
   ],
   "source": [
    "tend[i]>20"
   ]
  },
  {
   "cell_type": "code",
   "execution_count": 55,
   "metadata": {},
   "outputs": [],
   "source": [
    "mu_tend,std_tend=norm.fit(tend)"
   ]
  },
  {
   "cell_type": "code",
   "execution_count": 9,
   "metadata": {},
   "outputs": [],
   "source": [
    "def fun(v,i):\n",
    "    fst,frd,mu,std,mu_fe,std_fe,mu_f,std_f=v\n",
    "    #print(frd)\n",
    "    tend_p=fst[stress[i],tired[i]]*frd[risk[i]-1,delay[i]-1]\n",
    "    for i1 in range (0,10):\n",
    "        tend_p*=norm.pdf(time[i,i1],mu[i1],std[i1])\n",
    "    for i1 in range (0,10):\n",
    "        tend_p*=norm.pdf(farmiliar[i,i1],mu_f[i1],std_f[i1])\n",
    "    for i1 in range (0,10):\n",
    "        tend_p*=norm.pdf(f_e[i,i1],mu_fe[i1],std_fe[i1])\n",
    "    return tend_p\n",
    "\n",
    "def err(v):\n",
    "    error=0\n",
    "    p=np.zeros((56))\n",
    "    for i in range(0,56):\n",
    "        p[i]=fun(v,i)\n",
    "    p=p/p.sum()\n",
    "    for i in range (0,56):\n",
    "        if tend[i]>=20:\n",
    "            error+=np.abs(1-p[i])\n",
    "        else:\n",
    "            error+=np.abs(0-p[i])\n",
    "    return error\n",
    "    "
   ]
  },
  {
   "cell_type": "code",
   "execution_count": 66,
   "metadata": {},
   "outputs": [],
   "source": [
    "fst,frd,mu,std,mu_fe,std_fe,mu_f,std_f=v"
   ]
  },
  {
   "cell_type": "code",
   "execution_count": 49,
   "metadata": {},
   "outputs": [
    {
     "data": {
      "text/plain": [
       "3.358240067094914e-62"
      ]
     },
     "execution_count": 49,
     "metadata": {},
     "output_type": "execute_result"
    }
   ],
   "source": [
    "fun(fst,frd,mu,std,mu_fe,std_fe,mu_f,std_f,0)"
   ]
  },
  {
   "cell_type": "code",
   "execution_count": 113,
   "metadata": {},
   "outputs": [],
   "source": [
    "v=[fst,frd,mu,std,mu_fe,std_fe,mu_f,std_f]\n",
    "function1 = lambda fst: err(v)\n",
    "function2 = lambda frd: err(v)\n",
    "function3 = lambda mu: err(v)\n",
    "function4 = lambda std: err(v)\n",
    "function5 = lambda mu_fe: err(v)\n",
    "function6 = lambda std_fe: err(v)\n",
    "function7 = lambda mu_f: err(v)\n",
    "function8 = lambda std_f: err(v)\n",
    "f=[function1,function2,function3,function4,function5,function6,function7,function8]"
   ]
  },
  {
   "cell_type": "code",
   "execution_count": 117,
   "metadata": {},
   "outputs": [],
   "source": [
    "from scipy.optimize import minimize\n",
    "for i in range (0,100):\n",
    "    k=np.random.randint(0,7)\n",
    "    t=1e3\n",
    "    if i>50:\n",
    "        t=1e2  \n",
    "    v[k]=minimize(f[k],v[k],method='Nelder-Mead', tol=t)['x'].reshape(v[k].shape)\n",
    "    if i%10==0:\n",
    "        np.save('v.npy',v)"
   ]
  },
  {
   "cell_type": "code",
   "execution_count": 118,
   "metadata": {},
   "outputs": [
    {
     "data": {
      "text/plain": [
       "[array([[0.21428571, 0.21428571, 0.        ],\n",
       "        [0.125     , 0.30357143, 0.03571429],\n",
       "        [0.01785714, 0.07142857, 0.01785714]]),\n",
       " array([[0.30357143, 0.17857143],\n",
       "        [0.28571429, 0.23214286]]),\n",
       " array([1073.06738281,  445.97631836,  576.67468262,  420.94168091,\n",
       "         469.49908447, 1006.50036621,  823.52203369,  357.80377197,\n",
       "         656.71789551,  475.46951294]),\n",
       " array([604.80895996, 264.51361084, 247.42832947, 242.01841736,\n",
       "        243.51274109, 548.26147461, 426.33520508, 237.43267822,\n",
       "        330.85794067, 306.34744263]),\n",
       " array([682.33426354, 571.84345597, 718.14179681, 564.66108192,\n",
       "        523.20543438, 653.81672693, 726.03211822, 523.8642533 ,\n",
       "        571.02650929, 685.14911084]),\n",
       " array([ 88.50589259,  81.8862712 , 111.12570178,  98.06466544,\n",
       "         65.87059438, 103.91098308, 100.54310357,  65.42862895,\n",
       "         98.65378541, 125.67289857]),\n",
       " array([1.53571427, 2.44642854, 1.10714281, 2.64285707, 3.01785707,\n",
       "        1.76785719, 1.01785719, 3.        , 2.55357146, 1.375     ]),\n",
       " array([0.82297993, 0.75402826, 0.58793133, 1.02519286, 0.79036772,\n",
       "        0.92564785, 0.23076515, 0.7791937 , 0.998564  , 0.79197991])]"
      ]
     },
     "execution_count": 118,
     "metadata": {},
     "output_type": "execute_result"
    }
   ],
   "source": [
    "v"
   ]
  },
  {
   "cell_type": "code",
   "execution_count": 10,
   "metadata": {},
   "outputs": [],
   "source": [
    "import numpy as np\n",
    "v=np.load('v.npy')\n",
    "fst,frd,mu,std,mu_fe,std_fe,mu_f,std_f=v"
   ]
  },
  {
   "cell_type": "code",
   "execution_count": 11,
   "metadata": {},
   "outputs": [],
   "source": [
    "from scipy.stats import norm\n",
    "tend_pre=np.zeros(56)\n",
    "for i in range (0,56):\n",
    "    tend_pre[i]=fun(v,i)"
   ]
  },
  {
   "cell_type": "code",
   "execution_count": 15,
   "metadata": {},
   "outputs": [
    {
     "data": {
      "text/plain": [
       "(array([51.,  1.,  2.,  0.,  0.,  0.,  1.,  0.,  0.,  1.]),\n",
       " array([3.47175516e-96, 9.16192020e-60, 1.83238404e-59, 2.74857606e-59,\n",
       "        3.66476808e-59, 4.58096010e-59, 5.49715212e-59, 6.41334414e-59,\n",
       "        7.32953616e-59, 8.24572818e-59, 9.16192020e-59]),\n",
       " <a list of 10 Patch objects>)"
      ]
     },
     "execution_count": 15,
     "metadata": {},
     "output_type": "execute_result"
    },
    {
     "data": {
      "image/png": "[encoded data removed]",
      "text/plain": [
       "<Figure size 432x288 with 1 Axes>"
      ]
     },
     "metadata": {
      "needs_background": "light"
     },
     "output_type": "display_data"
    }
   ],
   "source": [
    "plt.hist(tend_pre)"
   ]
  },
  {
   "cell_type": "code",
   "execution_count": 21,
   "metadata": {},
   "outputs": [],
   "source": [
    "a=(tend_pre-tend_pre.mean())/tend_pre.std()"
   ]
  },
  {
   "cell_type": "code",
   "execution_count": 16,
   "metadata": {},
   "outputs": [
    {
     "data": {
      "text/plain": [
       "<matplotlib.collections.PathCollection at 0x7f2be6fca748>"
      ]
     },
     "execution_count": 16,
     "metadata": {},
     "output_type": "execute_result"
    },
    {
     "data": {
      "image/png": "[encoded data removed]",
      "text/plain": [
       "<Figure size 432x288 with 1 Axes>"
      ]
     },
     "metadata": {
      "needs_background": "light"
     },
     "output_type": "display_data"
    }
   ],
   "source": [
    "from matplotlib import pyplot as plt\n",
    "plt.scatter(tend,np.log(tend_pre))"
   ]
  },
  {
   "cell_type": "code",
   "execution_count": 18,
   "metadata": {},
   "outputs": [
    {
     "data": {
      "text/plain": [
       "array([array([[0.21428571, 0.21428571, 0.        ],\n",
       "       [0.125     , 0.30357143, 0.03571429],\n",
       "       [0.01785714, 0.07142857, 0.01785714]]),\n",
       "       array([[0.30357143, 0.17857143],\n",
       "       [0.28571429, 0.23214286]]),\n",
       "       array([1073.06738281,  445.97631836,  576.67468262,  420.94168091,\n",
       "        469.49908447, 1006.50036621,  823.52203369,  357.80377197,\n",
       "        656.71789551,  475.46951294]),\n",
       "       array([604.80895996, 264.51361084, 247.42832947, 242.01841736,\n",
       "       243.51274109, 548.26147461, 426.33520508, 237.43267822,\n",
       "       330.85794067, 306.34744263]),\n",
       "       array([682.33426354, 571.84345597, 718.14179681, 564.66108192,\n",
       "       523.20543438, 653.81672693, 726.03211822, 523.8642533 ,\n",
       "       571.02650929, 685.14911084]),\n",
       "       array([ 88.50589259,  81.8862712 , 111.12570178,  98.06466544,\n",
       "        65.87059438, 103.91098308, 100.54310357,  65.42862895,\n",
       "        98.65378541, 125.67289857]),\n",
       "       array([1.53571427, 2.44642854, 1.10714281, 2.64285707, 3.01785707,\n",
       "       1.76785719, 1.01785719, 3.        , 2.55357146, 1.375     ]),\n",
       "       array([0.82297993, 0.75402826, 0.58793133, 1.02519286, 0.79036772,\n",
       "       0.92564785, 0.23076515, 0.7791937 , 0.998564  , 0.79197991])],\n",
       "      dtype=object)"
      ]
     },
     "execution_count": 18,
     "metadata": {},
     "output_type": "execute_result"
    }
   ],
   "source": [
    "v"
   ]
  },
  {
   "cell_type": "code",
   "execution_count": 120,
   "metadata": {},
   "outputs": [
    {
     "data": {
      "text/plain": [
       "-9.438273514851486"
      ]
     },
     "execution_count": 120,
     "metadata": {},
     "output_type": "execute_result"
    }
   ],
   "source": [
    "from sklearn.metrics import r2_score\n",
    "r2_score (tend,tend_pre)"
   ]
  },
  {
   "cell_type": "code",
   "execution_count": 58,
   "metadata": {},
   "outputs": [
    {
     "data": {
      "text/plain": [
       "4"
      ]
     },
     "execution_count": 58,
     "metadata": {},
     "output_type": "execute_result"
    }
   ],
   "source": [
    "np.random.randint(0,7)"
   ]
  },
  {
   "cell_type": "code",
   "execution_count": 47,
   "metadata": {},
   "outputs": [
    {
     "ename": "IndexError",
     "evalue": "index 2 is out of bounds for axis 0 with size 2",
     "output_type": "error",
     "traceback": [
      "\u001b[0;31m---------------------------------------------------------------------------\u001b[0m",
      "\u001b[0;31mIndexError\u001b[0m                                Traceback (most recent call last)",
      "\u001b[0;32m<ipython-input-47-c0692362c537>\u001b[0m in \u001b[0;36m<module>\u001b[0;34m\u001b[0m\n\u001b[0;32m----> 1\u001b[0;31m \u001b[0mfrd\u001b[0m\u001b[0;34m[\u001b[0m\u001b[0mrisk\u001b[0m\u001b[0;34m[\u001b[0m\u001b[0mi\u001b[0m\u001b[0;34m]\u001b[0m\u001b[0;34m,\u001b[0m\u001b[0mdelay\u001b[0m\u001b[0;34m[\u001b[0m\u001b[0mi\u001b[0m\u001b[0;34m]\u001b[0m\u001b[0;34m]\u001b[0m\u001b[0;34m\u001b[0m\u001b[0;34m\u001b[0m\u001b[0m\n\u001b[0m",
      "\u001b[0;31mIndexError\u001b[0m: index 2 is out of bounds for axis 0 with size 2"
     ]
    }
   ],
   "source": [
    "frd[risk[i],delay[i]]"
   ]
  },
  {
   "cell_type": "code",
   "execution_count": 27,
   "metadata": {},
   "outputs": [
    {
     "data": {
      "text/plain": [
       "(17.642857142857142, 5.742786069211937)"
      ]
     },
     "execution_count": 27,
     "metadata": {},
     "output_type": "execute_result"
    },
    {
     "data": {
      "image/png": "[encoded data removed]",
      "text/plain": [
       "<Figure size 432x288 with 1 Axes>"
      ]
     },
     "metadata": {
      "needs_background": "light"
     },
     "output_type": "display_data"
    }
   ],
   "source": [
    "from matplotlib import pyplot as plt\n",
    "plt.hist(tend)\n",
    "norm.fit(tend)\n",
    "norm.pdf"
   ]
  },
  {
   "cell_type": "code",
   "execution_count": 3,
   "metadata": {},
   "outputs": [
    {
     "data": {
      "text/plain": [
       "array([ 3,  4,  6,  7, 10, 12, 14, 15, 18, 19, 21, 24, 26, 28, 29, 32, 34,\n",
       "       36, 43, 46, 49, 52, 53, 55])"
      ]
     },
     "execution_count": 3,
     "metadata": {},
     "output_type": "execute_result"
    }
   ],
   "source": [
    "np.where(st[:,0]==0)[0]"
   ]
  },
  {
   "cell_type": "code",
   "execution_count": 12,
   "metadata": {},
   "outputs": [
    {
     "data": {
      "text/plain": [
       "array([[0, 0],\n",
       "       [0, 0],\n",
       "       [0, 0],\n",
       "       [0, 1],\n",
       "       [0, 1],\n",
       "       [0, 1],\n",
       "       [0, 1],\n",
       "       [0, 0],\n",
       "       [0, 0],\n",
       "       [0, 1],\n",
       "       [0, 0],\n",
       "       [0, 1],\n",
       "       [0, 1],\n",
       "       [0, 0],\n",
       "       [0, 0],\n",
       "       [0, 1],\n",
       "       [0, 0],\n",
       "       [0, 1],\n",
       "       [0, 0],\n",
       "       [0, 0],\n",
       "       [0, 1],\n",
       "       [0, 1],\n",
       "       [0, 1],\n",
       "       [0, 0]], dtype=int8)"
      ]
     },
     "execution_count": 12,
     "metadata": {},
     "output_type": "execute_result"
    }
   ],
   "source": [
    "st[np.where(st[:,0]==0)[0]]"
   ]
  }
 ],
 "metadata": {
  "kernelspec": {
   "display_name": "Python 3",
   "language": "python",
   "name": "python3"
  },
  "language_info": {
   "codemirror_mode": {
    "name": "ipython",
    "version": 3
   },
   "file_extension": ".py",
   "mimetype": "text/x-python",
   "name": "python",
   "nbconvert_exporter": "python",
   "pygments_lexer": "ipython3",
   "version": "3.6.8"
  }
 },
 "nbformat": 4,
 "nbformat_minor": 2
}
