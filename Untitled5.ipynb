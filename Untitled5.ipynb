{
 "cells": [
  {
   "cell_type": "code",
   "execution_count": 1,
   "metadata": {},
   "outputs": [
    {
     "name": "stderr",
     "output_type": "stream",
     "text": [
      "/afs/inf.ed.ac.uk/user/s18/s1883226/miniconda3/envs/mlp/lib/python3.6/site-packages/pandas/core/ops/__init__.py:1115: FutureWarning: elementwise comparison failed; returning scalar instead, but in the future will perform elementwise comparison\n",
      "  result = method(y)\n"
     ]
    }
   ],
   "source": [
    "import pandas as pd\n",
    "import numpy as np\n",
    "data = pd.read_csv(\"data.csv\")\n",
    "data[data==' ']=np.nan\n",
    "data=data.dropna()\n",
    "data.head(5)\n",
    "data_E=data.iloc[0:86,:]\n",
    "data_T=data.iloc[86::,:]\n",
    "stress=np.int8(data_E.iloc[:,31])\n",
    "tired=np.int8(data_E.iloc[:,32])\n",
    "st=np.int8(data_E.iloc[:,31:33])\n",
    "choice3=data_E.iloc[:,37]\n",
    "choice4=data_E.iloc[:,38]\n",
    "tend=np.int8(choice3)+np.int8(choice4)"
   ]
  },
  {
   "cell_type": "code",
   "execution_count": 55,
   "metadata": {},
   "outputs": [
    {
     "name": "stdout",
     "output_type": "stream",
     "text": [
      "3.5908423506486833\n"
     ]
    },
    {
     "data": {
      "text/plain": [
       "0.46084043680827946"
      ]
     },
     "execution_count": 55,
     "metadata": {},
     "output_type": "execute_result"
    }
   ],
   "source": [
    "from g_factors import gen_f\n",
    "from sklearn.model_selection import train_test_split\n",
    "from scipy.stats import burr\n",
    "from sklearn.preprocessing import PolynomialFeatures\n",
    "from sklearn.linear_model import LinearRegression\n",
    "from sklearn.metrics import mean_absolute_error\n",
    "from sklearn.metrics import r2_score\n",
    "from distribut import best_fit_distribution\n",
    "import numpy as np\n",
    "f1,f2,f3,f4,f5=gen_f(data_E,update=False)\n",
    "\n",
    "X_train, X_test, y_train, y_test = train_test_split(np.vstack((f1,f2,f3,f4,f5)).T, tend, test_size=0.2, random_state=0)\n",
    "lin_reg = LinearRegression()\n",
    "lin_reg.fit(X_train, y_train)\n",
    "print(mean_absolute_error(tend, lin_reg.predict(np.vstack((f1,f2,f3,f4,f5)).T)))\n",
    "r2_score(tend, lin_reg.predict(np.vstack((f1,f2,f3,f4,f5)).T))"
   ]
  },
  {
   "cell_type": "code",
   "execution_count": 56,
   "metadata": {},
   "outputs": [
    {
     "name": "stdout",
     "output_type": "stream",
     "text": [
      "(20,)\n",
      "5.415628317541642\n"
     ]
    },
    {
     "data": {
      "text/plain": [
       "-0.7395651046474339"
      ]
     },
     "execution_count": 56,
     "metadata": {},
     "output_type": "execute_result"
    }
   ],
   "source": [
    "from sklearn.metrics import mean_absolute_error\n",
    "from sklearn.metrics import r2_score\n",
    "from sklearn.model_selection import train_test_split \n",
    "from g_factors import gen_f\n",
    "f1,f2,f3,f4,f5=gen_f(data_T,update=False)\n",
    "choice3_t=data_T.iloc[:,37]\n",
    "choice4_t=data_T.iloc[:,38]\n",
    "tend_t=np.int8(choice3_t)+np.int8(choice4_t)\n",
    "print(lin_reg.predict(np.vstack((f1,f2,f3,f4,f5)).T).shape)\n",
    "print(mean_absolute_error(tend_t, lin_reg.predict(np.vstack((f1,f2,f3,f4,f5)).T)))\n",
    "r2_score(tend_t, lin_reg.predict(np.vstack((f1,f2,f3,f4,f5)).T))"
   ]
  },
  {
   "cell_type": "code",
   "execution_count": 6,
   "metadata": {},
   "outputs": [],
   "source": [
    "test=np.hstack((data_E.iloc[:,21:33],np.array(data_E.iloc[:,34]).reshape(86,1),np.array(data_E.iloc[:,39]).reshape(86,1),data_E.iloc[:,1:11]))"
   ]
  },
  {
   "cell_type": "code",
   "execution_count": 8,
   "metadata": {},
   "outputs": [],
   "source": [
    "test_t=np.hstack((data_T.iloc[:,21:33],np.array(data_T.iloc[:,34]).reshape(20,1),np.array(data_T.iloc[:,39]).reshape(20,1),data_T.iloc[:,1:11]))"
   ]
  },
  {
   "cell_type": "code",
   "execution_count": 9,
   "metadata": {},
   "outputs": [
    {
     "name": "stdout",
     "output_type": "stream",
     "text": [
      "5.0897950987578495\n"
     ]
    },
    {
     "data": {
      "text/plain": [
       "-0.6397364515475357"
      ]
     },
     "execution_count": 9,
     "metadata": {},
     "output_type": "execute_result"
    }
   ],
   "source": [
    "lin_reg = LinearRegression()\n",
    "lin_reg.fit(test, tend)\n",
    "print(mean_absolute_error(tend_t, lin_reg.predict(test_t)))\n",
    "r2_score(tend_t, lin_reg.predict(test_t))"
   ]
  },
  {
   "cell_type": "code",
   "execution_count": 17,
   "metadata": {},
   "outputs": [
    {
     "ename": "ValueError",
     "evalue": "shapes (106,5) and (24,) not aligned: 5 (dim 1) != 24 (dim 0)",
     "output_type": "error",
     "traceback": [
      "\u001b[0;31m---------------------------------------------------------------------------\u001b[0m",
      "\u001b[0;31mValueError\u001b[0m                                Traceback (most recent call last)",
      "\u001b[0;32m<ipython-input-17-7a9722111349>\u001b[0m in \u001b[0;36m<module>\u001b[0;34m\u001b[0m\n\u001b[0;32m----> 1\u001b[0;31m \u001b[0mlin_reg\u001b[0m\u001b[0;34m.\u001b[0m\u001b[0mpredict\u001b[0m\u001b[0;34m(\u001b[0m\u001b[0mnp\u001b[0m\u001b[0;34m.\u001b[0m\u001b[0mvstack\u001b[0m\u001b[0;34m(\u001b[0m\u001b[0;34m(\u001b[0m\u001b[0mf1\u001b[0m\u001b[0;34m,\u001b[0m\u001b[0mf2\u001b[0m\u001b[0;34m,\u001b[0m\u001b[0mf3\u001b[0m\u001b[0;34m,\u001b[0m\u001b[0mf4\u001b[0m\u001b[0;34m,\u001b[0m\u001b[0mf5\u001b[0m\u001b[0;34m)\u001b[0m\u001b[0;34m)\u001b[0m\u001b[0;34m.\u001b[0m\u001b[0mT\u001b[0m\u001b[0;34m)\u001b[0m\u001b[0;34m.\u001b[0m\u001b[0mshape\u001b[0m\u001b[0;34m\u001b[0m\u001b[0;34m\u001b[0m\u001b[0m\n\u001b[0m",
      "\u001b[0;32m~/miniconda3/envs/mlp/lib/python3.6/site-packages/sklearn/linear_model/base.py\u001b[0m in \u001b[0;36mpredict\u001b[0;34m(self, X)\u001b[0m\n\u001b[1;32m    211\u001b[0m             \u001b[0mReturns\u001b[0m \u001b[0mpredicted\u001b[0m \u001b[0mvalues\u001b[0m\u001b[0;34m.\u001b[0m\u001b[0;34m\u001b[0m\u001b[0;34m\u001b[0m\u001b[0m\n\u001b[1;32m    212\u001b[0m         \"\"\"\n\u001b[0;32m--> 213\u001b[0;31m         \u001b[0;32mreturn\u001b[0m \u001b[0mself\u001b[0m\u001b[0;34m.\u001b[0m\u001b[0m_decision_function\u001b[0m\u001b[0;34m(\u001b[0m\u001b[0mX\u001b[0m\u001b[0;34m)\u001b[0m\u001b[0;34m\u001b[0m\u001b[0;34m\u001b[0m\u001b[0m\n\u001b[0m\u001b[1;32m    214\u001b[0m \u001b[0;34m\u001b[0m\u001b[0m\n\u001b[1;32m    215\u001b[0m     \u001b[0m_preprocess_data\u001b[0m \u001b[0;34m=\u001b[0m \u001b[0mstaticmethod\u001b[0m\u001b[0;34m(\u001b[0m\u001b[0m_preprocess_data\u001b[0m\u001b[0;34m)\u001b[0m\u001b[0;34m\u001b[0m\u001b[0;34m\u001b[0m\u001b[0m\n",
      "\u001b[0;32m~/miniconda3/envs/mlp/lib/python3.6/site-packages/sklearn/linear_model/base.py\u001b[0m in \u001b[0;36m_decision_function\u001b[0;34m(self, X)\u001b[0m\n\u001b[1;32m    196\u001b[0m         \u001b[0mX\u001b[0m \u001b[0;34m=\u001b[0m \u001b[0mcheck_array\u001b[0m\u001b[0;34m(\u001b[0m\u001b[0mX\u001b[0m\u001b[0;34m,\u001b[0m \u001b[0maccept_sparse\u001b[0m\u001b[0;34m=\u001b[0m\u001b[0;34m[\u001b[0m\u001b[0;34m'csr'\u001b[0m\u001b[0;34m,\u001b[0m \u001b[0;34m'csc'\u001b[0m\u001b[0;34m,\u001b[0m \u001b[0;34m'coo'\u001b[0m\u001b[0;34m]\u001b[0m\u001b[0;34m)\u001b[0m\u001b[0;34m\u001b[0m\u001b[0;34m\u001b[0m\u001b[0m\n\u001b[1;32m    197\u001b[0m         return safe_sparse_dot(X, self.coef_.T,\n\u001b[0;32m--> 198\u001b[0;31m                                dense_output=True) + self.intercept_\n\u001b[0m\u001b[1;32m    199\u001b[0m \u001b[0;34m\u001b[0m\u001b[0m\n\u001b[1;32m    200\u001b[0m     \u001b[0;32mdef\u001b[0m \u001b[0mpredict\u001b[0m\u001b[0;34m(\u001b[0m\u001b[0mself\u001b[0m\u001b[0;34m,\u001b[0m \u001b[0mX\u001b[0m\u001b[0;34m)\u001b[0m\u001b[0;34m:\u001b[0m\u001b[0;34m\u001b[0m\u001b[0;34m\u001b[0m\u001b[0m\n",
      "\u001b[0;32m~/miniconda3/envs/mlp/lib/python3.6/site-packages/sklearn/utils/extmath.py\u001b[0m in \u001b[0;36msafe_sparse_dot\u001b[0;34m(a, b, dense_output)\u001b[0m\n\u001b[1;32m    171\u001b[0m         \u001b[0;32mreturn\u001b[0m \u001b[0mret\u001b[0m\u001b[0;34m\u001b[0m\u001b[0;34m\u001b[0m\u001b[0m\n\u001b[1;32m    172\u001b[0m     \u001b[0;32melse\u001b[0m\u001b[0;34m:\u001b[0m\u001b[0;34m\u001b[0m\u001b[0;34m\u001b[0m\u001b[0m\n\u001b[0;32m--> 173\u001b[0;31m         \u001b[0;32mreturn\u001b[0m \u001b[0mnp\u001b[0m\u001b[0;34m.\u001b[0m\u001b[0mdot\u001b[0m\u001b[0;34m(\u001b[0m\u001b[0ma\u001b[0m\u001b[0;34m,\u001b[0m \u001b[0mb\u001b[0m\u001b[0;34m)\u001b[0m\u001b[0;34m\u001b[0m\u001b[0;34m\u001b[0m\u001b[0m\n\u001b[0m\u001b[1;32m    174\u001b[0m \u001b[0;34m\u001b[0m\u001b[0m\n\u001b[1;32m    175\u001b[0m \u001b[0;34m\u001b[0m\u001b[0m\n",
      "\u001b[0;31mValueError\u001b[0m: shapes (106,5) and (24,) not aligned: 5 (dim 1) != 24 (dim 0)"
     ]
    }
   ],
   "source": [
    "lin_reg.predict(np.vstack((f1,f2,f3,f4,f5)).T).shape"
   ]
  },
  {
   "cell_type": "code",
   "execution_count": 20,
   "metadata": {},
   "outputs": [
    {
     "name": "stdout",
     "output_type": "stream",
     "text": [
      "3.9351415896850908\n"
     ]
    },
    {
     "data": {
      "text/plain": [
       "0.2698261566475315"
      ]
     },
     "execution_count": 20,
     "metadata": {},
     "output_type": "execute_result"
    }
   ],
   "source": [
    "from sklearn.metrics import mean_absolute_error\n",
    "from sklearn.metrics import r2_score\n",
    "from sklearn.model_selection import train_test_split \n",
    "from g_factors import gen_f\n",
    "f1,f2,f3,f4,f5=gen_f(data,update=False)\n",
    "choice3_t=data.iloc[:,37]\n",
    "choice4_t=data.iloc[:,38]\n",
    "tend_t=np.int8(choice3_t)+np.int8(choice4_t)\n",
    "tend_t.shape\n",
    "print(mean_absolute_error(tend_t, lin_reg.predict(np.vstack((f1,f2,f3,f4,f5)).T)))\n",
    "r2_score(tend_t, lin_reg.predict(np.vstack((f1,f2,f3,f4,f5)).T))"
   ]
  },
  {
   "cell_type": "code",
   "execution_count": 43,
   "metadata": {},
   "outputs": [],
   "source": [
    "test=np.hstack((data_E.iloc[:,21:33],np.array(data_E.iloc[:,34]).reshape(86,1),np.array(data_E.iloc[:,39]).reshape(86,1),data_E.iloc[:,1:11]))"
   ]
  },
  {
   "cell_type": "code",
   "execution_count": null,
   "metadata": {},
   "outputs": [],
   "source": [
    "test_t=np.hstack((data_T.iloc[:,21:33],np.array(data_T.iloc[:,34]).reshape(20,1),np.array(data_T.iloc[:,39]).reshape(20,1),data_T.iloc[:,1:11]))\n",
    "choice3_t=data_T.iloc[:,37]\n",
    "choice4_t=data_T.iloc[:,38]\n",
    "tend_t=np.int8(choice3_t)+np.int8(choice4_t)\n",
    "tend_t.shape\n",
    "lin_reg = LinearRegression()\n",
    "lin_reg.fit(test_t, tend_t)\n",
    "print(mean_absolute_error(tend_t, lin_reg.predict(test_t)))\n",
    "r2_score(tend_t, lin_reg.predict(test_t))"
   ]
  },
  {
   "cell_type": "code",
   "execution_count": 50,
   "metadata": {},
   "outputs": [
    {
     "name": "stdout",
     "output_type": "stream",
     "text": [
      "5.0897950987578495\n"
     ]
    },
    {
     "data": {
      "text/plain": [
       "-0.6397364515475357"
      ]
     },
     "execution_count": 50,
     "metadata": {},
     "output_type": "execute_result"
    }
   ],
   "source": [
    "test_t=np.hstack((data_T.iloc[:,21:33],np.array(data_T.iloc[:,34]).reshape(20,1),np.array(data_T.iloc[:,39]).reshape(20,1),data_T.iloc[:,1:11]))\n",
    "choice3_t=data_T.iloc[:,37]\n",
    "choice4_t=data_T.iloc[:,38]\n",
    "tend_t=np.int8(choice3_t)+np.int8(choice4_t)\n",
    "tend_t.shape\n",
    "lin_reg = LinearRegression()\n",
    "lin_reg.fit(test, tend)\n",
    "print(mean_absolute_error(tend_t, lin_reg.predict(test_t)))\n",
    "r2_score(tend_t, lin_reg.predict(test_t))"
   ]
  },
  {
   "cell_type": "code",
   "execution_count": 23,
   "metadata": {},
   "outputs": [
    {
     "name": "stdout",
     "output_type": "stream",
     "text": [
      "3.563766131213319\n"
     ]
    },
    {
     "data": {
      "text/plain": [
       "0.44464346251300557"
      ]
     },
     "execution_count": 23,
     "metadata": {},
     "output_type": "execute_result"
    }
   ],
   "source": [
    "from g_factors import gen_f\n",
    "from sklearn.model_selection import train_test_split\n",
    "from scipy.stats import burr\n",
    "from sklearn.preprocessing import PolynomialFeatures\n",
    "from sklearn.linear_model import LinearRegression\n",
    "from sklearn.metrics import mean_absolute_error\n",
    "from sklearn.metrics import r2_score\n",
    "from distribut import best_fit_distribution\n",
    "import numpy as np\n",
    "f1,f2,f3,f4,f5=gen_f(data_E,update=False)\n",
    "\n",
    "X_train, X_test, y_train, y_test = train_test_split(np.vstack((f1,f3,f4,f5)).T, tend, test_size=0.2, random_state=0)\n",
    "lin_reg = LinearRegression()\n",
    "lin_reg.fit(X_train, y_train)\n",
    "print(mean_absolute_error(tend, lin_reg.predict(np.vstack((f1,f3,f4,f5)).T)))\n",
    "r2_score(tend, lin_reg.predict(np.vstack((f1,f3,f4,f5)).T))"
   ]
  },
  {
   "cell_type": "code",
   "execution_count": 24,
   "metadata": {},
   "outputs": [
    {
     "name": "stdout",
     "output_type": "stream",
     "text": [
      "3.848192211713033\n"
     ]
    },
    {
     "data": {
      "text/plain": [
       "0.27662155482574935"
      ]
     },
     "execution_count": 24,
     "metadata": {},
     "output_type": "execute_result"
    }
   ],
   "source": [
    "from sklearn.metrics import mean_absolute_error\n",
    "from sklearn.metrics import r2_score\n",
    "from sklearn.model_selection import train_test_split \n",
    "from g_factors import gen_f\n",
    "f1,f2,f3,f4,f5=gen_f(data,update=False)\n",
    "choice3_t=data.iloc[:,37]\n",
    "choice4_t=data.iloc[:,38]\n",
    "tend_t=np.int8(choice3_t)+np.int8(choice4_t)\n",
    "tend_t.shape\n",
    "print(mean_absolute_error(tend_t, lin_reg.predict(np.vstack((f1,f3,f4,f5)).T)))\n",
    "r2_score(tend_t, lin_reg.predict(np.vstack((f1,f3,f4,f5)).T))"
   ]
  },
  {
   "cell_type": "code",
   "execution_count": 30,
   "metadata": {},
   "outputs": [
    {
     "name": "stdout",
     "output_type": "stream",
     "text": [
      "4.465304619171997\n"
     ]
    },
    {
     "data": {
      "text/plain": [
       "0.1838388473945447"
      ]
     },
     "execution_count": 30,
     "metadata": {},
     "output_type": "execute_result"
    }
   ],
   "source": [
    "from g_factors import gen_f\n",
    "from sklearn.model_selection import train_test_split\n",
    "from scipy.stats import burr\n",
    "from sklearn.preprocessing import PolynomialFeatures\n",
    "from sklearn.linear_model import LinearRegression\n",
    "from sklearn.metrics import mean_absolute_error\n",
    "from sklearn.metrics import r2_score\n",
    "from distribut import best_fit_distribution\n",
    "import numpy as np\n",
    "f1,f2,f3,f4,f5=gen_f(data_E,update=False)\n",
    "\n",
    "X_train, X_test, y_train, y_test = train_test_split(np.vstack((f1,f2,f3,f4)).T, tend, test_size=0.2, random_state=0)\n",
    "lin_reg = LinearRegression()\n",
    "lin_reg.fit(X_train, y_train)\n",
    "print(mean_absolute_error(tend, lin_reg.predict(np.vstack((f1,f2,f3,f4)).T)))\n",
    "r2_score(tend, lin_reg.predict(np.vstack((f1,f2,f3,f4)).T))"
   ]
  },
  {
   "cell_type": "code",
   "execution_count": 31,
   "metadata": {},
   "outputs": [
    {
     "name": "stdout",
     "output_type": "stream",
     "text": [
      "4.5365260762998725\n"
     ]
    },
    {
     "data": {
      "text/plain": [
       "0.0970447769206374"
      ]
     },
     "execution_count": 31,
     "metadata": {},
     "output_type": "execute_result"
    }
   ],
   "source": [
    "from sklearn.metrics import mean_absolute_error\n",
    "from sklearn.metrics import r2_score\n",
    "from sklearn.model_selection import train_test_split \n",
    "from g_factors import gen_f\n",
    "f1,f2,f3,f4,f5=gen_f(data,update=False)\n",
    "choice3_t=data.iloc[:,37]\n",
    "choice4_t=data.iloc[:,38]\n",
    "tend_t=np.int8(choice3_t)+np.int8(choice4_t)\n",
    "tend_t.shape\n",
    "print(mean_absolute_error(tend_t, lin_reg.predict(np.vstack((f1,f2,f3,f4)).T)))\n",
    "r2_score(tend_t, lin_reg.predict(np.vstack((f1,f2,f3,f4)).T))"
   ]
  },
  {
   "cell_type": "code",
   "execution_count": 29,
   "metadata": {},
   "outputs": [
    {
     "name": "stdout",
     "output_type": "stream",
     "text": [
      "4.106213\n"
     ]
    },
    {
     "data": {
      "text/plain": [
       "0.23158838134783244"
      ]
     },
     "execution_count": 29,
     "metadata": {},
     "output_type": "execute_result"
    }
   ],
   "source": [
    "from sklearn.metrics import mean_absolute_error\n",
    "from sklearn.metrics import r2_score\n",
    "from sklearn.model_selection import train_test_split \n",
    "from g_factors import gen_f\n",
    "f1,f2,f3,f4,f5=gen_f(data,update=False)\n",
    "choice3_t=data.iloc[:,37]\n",
    "choice4_t=data.iloc[:,38]\n",
    "tend_t=np.int8(choice3_t)+np.int8(choice4_t)\n",
    "tend_t.shape\n",
    "print(mean_absolute_error(tend_t, lin_reg.predict(f5.reshape(-1,1))))\n",
    "r2_score(tend_t, lin_reg.predict(f5.reshape(-1,1)))"
   ]
  },
  {
   "cell_type": "code",
   "execution_count": 34,
   "metadata": {},
   "outputs": [
    {
     "name": "stdout",
     "output_type": "stream",
     "text": [
      "4.296480953128022\n"
     ]
    },
    {
     "data": {
      "text/plain": [
       "-0.25631016198565026"
      ]
     },
     "execution_count": 34,
     "metadata": {},
     "output_type": "execute_result"
    }
   ],
   "source": [
    "X_train, X_test, y_train, y_test = train_test_split(test_t, tend_t, test_size=0.2, random_state=0)\n",
    "from sklearn.linear_model import LinearRegression\n",
    "lin_reg = LinearRegression()\n",
    "lin_reg.fit(X_train, y_train)\n",
    "print(mean_absolute_error(y_test, lin_reg.predict(X_test)))\n",
    "r2_score(y_test, lin_reg.predict(X_test))"
   ]
  },
  {
   "cell_type": "code",
   "execution_count": 39,
   "metadata": {},
   "outputs": [
    {
     "data": {
      "text/plain": [
       "(86,)"
      ]
     },
     "execution_count": 39,
     "metadata": {},
     "output_type": "execute_result"
    }
   ],
   "source": [
    "tend_t[0:86].shape"
   ]
  },
  {
   "cell_type": "code",
   "execution_count": 46,
   "metadata": {},
   "outputs": [
    {
     "name": "stdout",
     "output_type": "stream",
     "text": [
      "5.0897950987578495\n"
     ]
    },
    {
     "data": {
      "text/plain": [
       "-0.6397364515475357"
      ]
     },
     "execution_count": 46,
     "metadata": {},
     "output_type": "execute_result"
    }
   ],
   "source": [
    "lin_reg.fit(test_t[0:86,:], tend_t[0:86])\n",
    "print(mean_absolute_error(tend_t[86:106], lin_reg.predict(test_t[86:106,:])))\n",
    "r2_score(tend_t[86:106], lin_reg.predict(test_t[86:106,:]))"
   ]
  },
  {
   "cell_type": "code",
   "execution_count": null,
   "metadata": {},
   "outputs": [],
   "source": [
    "from sklearn.metrics import mean_absolute_error\n",
    "from sklearn.metrics import r2_score\n",
    "from sklearn.model_selection import train_test_split \n",
    "from g_factors import gen_f\n",
    "f1,f2,f3,f4,f5=gen_f(data,update=False)\n",
    "choice3_t=data.iloc[:,37]\n",
    "choice4_t=data.iloc[:,38]\n",
    "tend_t=np.int8(choice3_t)+np.int8(choice4_t)\n",
    "tend_t.shape\n",
    "print(mean_absolute_error(tend_t, lin_reg.predict(np.vstack((f1,f2,f3,f4,f5)).T)))\n",
    "r2_score(tend_t, lin_reg.predict(np.vstack((f1,f2,f3,f4,f5)).T))"
   ]
  },
  {
   "cell_type": "code",
   "execution_count": 51,
   "metadata": {},
   "outputs": [
    {
     "name": "stdout",
     "output_type": "stream",
     "text": [
      "3.315675430781428\n"
     ]
    },
    {
     "data": {
      "text/plain": [
       "0.15405863768255912"
      ]
     },
     "execution_count": 51,
     "metadata": {},
     "output_type": "execute_result"
    }
   ],
   "source": [
    "from sklearn.metrics import mean_absolute_error\n",
    "from sklearn.metrics import r2_score\n",
    "from sklearn.model_selection import train_test_split \n",
    "from g_factors import gen_f\n",
    "f1,f2,f3,f4,f5=gen_f(data,update=False)\n",
    "choice3_t=data.iloc[:,37]\n",
    "choice4_t=data.iloc[:,38]\n",
    "tend_t=np.int8(choice3_t)+np.int8(choice4_t)\n",
    "tend_t.shape\n",
    "# print(mean_absolute_error(tend_t, lin_reg.predict(np.vstack((f1,f2,f3,f4,f5)).T)))\n",
    "# r2_score(tend_t, lin_reg.predict(np.vstack((f1,f2,f3,f4,f5)).T))\n",
    "X_train, X_test, y_train, y_test = train_test_split(np.vstack((f1,f2,f3,f4,f5)).T, tend_t, test_size=0.2, random_state=0)\n",
    "from sklearn.linear_model import LinearRegression\n",
    "lin_reg = LinearRegression()\n",
    "lin_reg.fit(X_train, y_train)\n",
    "print(mean_absolute_error(y_test, lin_reg.predict(X_test)))\n",
    "r2_score(y_test, lin_reg.predict(X_test))"
   ]
  },
  {
   "cell_type": "code",
   "execution_count": 54,
   "metadata": {},
   "outputs": [
    {
     "name": "stdout",
     "output_type": "stream",
     "text": [
      "3.4689728668766837\n"
     ]
    },
    {
     "data": {
      "text/plain": [
       "0.44859088289691296"
      ]
     },
     "execution_count": 54,
     "metadata": {},
     "output_type": "execute_result"
    }
   ],
   "source": [
    "test_t=np.hstack((data.iloc[:,21:33],np.array(data.iloc[:,34]).reshape(106,1),np.array(data.iloc[:,39]).reshape(106,1),data.iloc[:,1:11]))\n",
    "choice3_t=data.iloc[:,37]\n",
    "choice4_t=data.iloc[:,38]\n",
    "tend_t=np.int8(choice3_t)+np.int8(choice4_t)\n",
    "tend_t.shape\n",
    "lin_reg.fit(test_t[26:106,:], tend_t[26:106])\n",
    "print(mean_absolute_error(tend_t, lin_reg.predict(test_t)))\n",
    "r2_score(tend_t, lin_reg.predict(test_t))"
   ]
  }
 ],
 "metadata": {
  "kernelspec": {
   "display_name": "Python 3",
   "language": "python",
   "name": "python3"
  },
  "language_info": {
   "codemirror_mode": {
    "name": "ipython",
    "version": 3
   },
   "file_extension": ".py",
   "mimetype": "text/x-python",
   "name": "python",
   "nbconvert_exporter": "python",
   "pygments_lexer": "ipython3",
   "version": "3.6.8"
  }
 },
 "nbformat": 4,
 "nbformat_minor": 2
}
