{
 "cells": [
  {
   "cell_type": "code",
   "execution_count": 1,
   "metadata": {},
   "outputs": [],
   "source": [
    "import pandas as pd\n",
    "data = pd.read_csv(\"data.csv\") "
   ]
  },
  {
   "cell_type": "code",
   "execution_count": 2,
   "metadata": {},
   "outputs": [],
   "source": [
    "import numpy as np\n",
    "data_p=np.zeros((105*10,13))\n",
    "# data_clean=np.array(data)\n",
    "# data_clean=np.delete(data_clean,[10,33,36,37,43,55,64,72,87,114],0)\n",
    "data_clean=np.array(data)\n",
    "data_clean[np.where(data_clean==' ')]=np.nan\n",
    "for i in range (0,105):\n",
    "    data_p[i*10:i*10+10,0]=data_clean[i,0] #ID\n",
    "    data_p[i*10:i*10+10,1]=data_clean[i,1:11] #time\n",
    "    data_p[i*10:i*10+10,2]=data_clean[i,11:21] #choice\n",
    "    data_p[i*10:i*10+10,3]=data_clean[i,21:31] #familarity\n",
    "    data_p[i*10:i*10+10,4]=data_clean[i,31] #stress\n",
    "    data_p[i*10:i*10+10,5]=data_clean[i,32] #tired\n",
    "    data_p[i*10:i*10+10,6]=data_clean[i,33] #pay off\n",
    "    data_p[i*10:i*10+10,7]=data_clean[i,34] #risk\n",
    "    data_p[i*10:i*10+10,8]=data_clean[i,35] #bounce 4\n",
    "    data_p[i*10:i*10+10,9]=data_clean[i,36] #bounce 3\n",
    "    data_p[i*10:i*10+10,10]=data_clean[i,37] #choice 4\n",
    "    data_p[i*10:i*10+10,11]=data_clean[i,38] #choice 3\n",
    "    data_p[i*10:i*10+10,12]=data_clean[i,39] #delay"
   ]
  },
  {
   "cell_type": "code",
   "execution_count": 3,
   "metadata": {},
   "outputs": [],
   "source": [
    "np.save('data_p.npy',data_p)"
   ]
  },
  {
   "cell_type": "code",
   "execution_count": 4,
   "metadata": {},
   "outputs": [
    {
     "data": {
      "text/plain": [
       "(1, 456)"
      ]
     },
     "execution_count": 4,
     "metadata": {},
     "output_type": "execute_result"
    }
   ],
   "source": [
    "data_p[np.where(data_p[:,3]==1),1].shape"
   ]
  },
  {
   "cell_type": "code",
   "execution_count": 106,
   "metadata": {},
   "outputs": [],
   "source": [
    "def pdf(x, mu=0.0, sigma=1.0):\n",
    "    x = (x - mu) / sigma\n",
    "    return np.exp(-x*x/2.0) / np.sqrt(2.0*np.pi) / sigma"
   ]
  },
  {
   "cell_type": "code",
   "execution_count": 40,
   "metadata": {},
   "outputs": [],
   "source": [
    "def func(x, a, b, c):\n",
    "     return a * np.exp(pdf(x,b,c))"
   ]
  },
  {
   "cell_type": "code",
   "execution_count": 64,
   "metadata": {},
   "outputs": [
    {
     "data": {
      "text/plain": [
       "array([False, False, False, ..., False, False, False])"
      ]
     },
     "execution_count": 64,
     "metadata": {},
     "output_type": "execute_result"
    }
   ],
   "source": [
    "mask = np.all(np.isnan(data_p) | np.equal(data_p, 0), axis=1)\n",
    "#data_p=data_p[~mask]\n",
    "mask"
   ]
  },
  {
   "cell_type": "code",
   "execution_count": 69,
   "metadata": {},
   "outputs": [
    {
     "data": {
      "text/plain": [
       "array([ 25.   , 567.443,   0.   , ...,   7.   ,   9.   ,   2.   ])"
      ]
     },
     "execution_count": 69,
     "metadata": {},
     "output_type": "execute_result"
    }
   ],
   "source": [
    "data_p[np.where(np.isnan(data_p)==0)[0],np.where(np.isnan(data_p)==0)[1]]\n"
   ]
  },
  {
   "cell_type": "code",
   "execution_count": 115,
   "metadata": {},
   "outputs": [],
   "source": [
    "xdata = np.ones(430)\n"
   ]
  },
  {
   "cell_type": "code",
   "execution_count": 43,
   "metadata": {},
   "outputs": [],
   "source": [
    "import matplotlib.pyplot as plt\n",
    "from scipy.optimize import curve_fit"
   ]
  },
  {
   "cell_type": "code",
   "execution_count": 5,
   "metadata": {},
   "outputs": [],
   "source": [
    "y=data_p[np.where(data_p[:,3]==1),1]\n",
    "y=y[~np.isnan(y)]"
   ]
  },
  {
   "cell_type": "code",
   "execution_count": 104,
   "metadata": {},
   "outputs": [
    {
     "data": {
      "text/plain": [
       "(430,)"
      ]
     },
     "execution_count": 104,
     "metadata": {},
     "output_type": "execute_result"
    }
   ],
   "source": [
    "xdata.shape"
   ]
  },
  {
   "cell_type": "code",
   "execution_count": 129,
   "metadata": {},
   "outputs": [],
   "source": [
    "popt, pcov = curve_fit(func, xdata, y)"
   ]
  },
  {
   "cell_type": "code",
   "execution_count": 130,
   "metadata": {},
   "outputs": [
    {
     "data": {
      "text/plain": [
       "array([7.46938177e+02, 1.00000000e+00, 3.53218725e+04])"
      ]
     },
     "execution_count": 130,
     "metadata": {},
     "output_type": "execute_result"
    }
   ],
   "source": [
    "popt"
   ]
  },
  {
   "cell_type": "code",
   "execution_count": 134,
   "metadata": {},
   "outputs": [
    {
     "data": {
      "text/plain": [
       "<matplotlib.collections.PathCollection at 0x101e2ba250>"
      ]
     },
     "execution_count": 134,
     "metadata": {},
     "output_type": "execute_result"
    },
    {
     "data": {
      "image/png": "[encoded data removed]",
      "text/plain": [
       "<Figure size 432x288 with 1 Axes>"
      ]
     },
     "metadata": {
      "needs_background": "light"
     },
     "output_type": "display_data"
    }
   ],
   "source": [
    "plt.scatter(np.linspace(0, 4000, 430),func(xdata,7.46938177e+02,1,3.53218725e+04))\n",
    "#plt.scatter(xdata,y)"
   ]
  },
  {
   "cell_type": "code",
   "execution_count": 11,
   "metadata": {
    "scrolled": true
   },
   "outputs": [],
   "source": [
    "%matplotlib inline\n",
    "\n",
    "import warnings\n",
    "import numpy as np\n",
    "import pandas as pd\n",
    "import scipy.stats as st\n",
    "import statsmodels as sm\n",
    "import matplotlib\n",
    "import matplotlib.pyplot as plt\n",
    "\n",
    "matplotlib.rcParams['figure.figsize'] = (16.0, 12.0)\n",
    "matplotlib.style.use('ggplot')\n",
    "\n",
    "# Create models from data\n",
    "def best_fit_distribution(data, bins=200, ax=None):\n",
    "    \"\"\"Model data by finding best fit distribution to data\"\"\"\n",
    "    # Get histogram of original data\n",
    "    y, x = np.histogram(data, bins=bins, density=True)\n",
    "    x = (x + np.roll(x, -1))[:-1] / 2.0\n",
    "\n",
    "    # Distributions to check\n",
    "    DISTRIBUTIONS = [        \n",
    "        st.alpha,st.anglit,st.arcsine,st.beta,st.betaprime,st.bradford,st.burr,st.cauchy,st.chi,st.chi2,st.cosine,\n",
    "        st.dgamma,st.dweibull,st.erlang,st.expon,st.exponnorm,st.exponweib,st.exponpow,st.f,st.fatiguelife,st.fisk,\n",
    "        st.foldcauchy,st.foldnorm,st.frechet_r,st.frechet_l,st.genlogistic,st.genpareto,st.gennorm,st.genexpon,\n",
    "        st.genextreme,st.gausshyper,st.gamma,st.gengamma,st.genhalflogistic,st.gilbrat,st.gompertz,st.gumbel_r,\n",
    "        st.gumbel_l,st.halfcauchy,st.halflogistic,st.halfnorm,st.halfgennorm,st.hypsecant,st.invgamma,st.invgauss,\n",
    "        st.invweibull,st.johnsonsb,st.johnsonsu,st.ksone,st.kstwobign,st.laplace,st.levy,st.levy_l,st.levy_stable,\n",
    "        st.logistic,st.loggamma,st.loglaplace,st.lognorm,st.lomax,st.maxwell,st.mielke,st.nakagami,st.ncx2,st.ncf,\n",
    "        st.nct,st.norm,st.pareto,st.pearson3,st.powerlaw,st.powerlognorm,st.powernorm,st.rdist,st.reciprocal,\n",
    "        st.rayleigh,st.rice,st.recipinvgauss,st.semicircular,st.t,st.triang,st.truncexpon,st.truncnorm,st.tukeylambda,\n",
    "        st.uniform,st.vonmises,st.vonmises_line,st.wald,st.weibull_min,st.weibull_max,st.wrapcauchy\n",
    "    ]\n",
    "\n",
    "    # Best holders\n",
    "    best_distribution = st.norm\n",
    "    best_params = (0.0, 1.0)\n",
    "    best_sse = np.inf\n",
    "\n",
    "    # Estimate distribution parameters from data\n",
    "    for distribution in DISTRIBUTIONS:\n",
    "\n",
    "        # Try to fit the distribution\n",
    "        try:\n",
    "            # Ignore warnings from data that can't be fit\n",
    "            with warnings.catch_warnings():\n",
    "                warnings.filterwarnings('ignore')\n",
    "\n",
    "                # fit dist to data\n",
    "                params = distribution.fit(data)\n",
    "\n",
    "                # Separate parts of parameters\n",
    "                arg = params[:-2]\n",
    "                loc = params[-2]\n",
    "                scale = params[-1]\n",
    "\n",
    "                # Calculate fitted PDF and error with fit in distribution\n",
    "                pdf = distribution.pdf(x, loc=loc, scale=scale, *arg)\n",
    "                sse = np.sum(np.power(y - pdf, 2.0))\n",
    "\n",
    "                # if axis pass in add to plot\n",
    "                try:\n",
    "                    if ax:\n",
    "                        pd.Series(pdf, x).plot(ax=ax)\n",
    "                    end\n",
    "                except Exception:\n",
    "                    pass\n",
    "\n",
    "                # identify if this distribution is better\n",
    "                if best_sse > sse > 0:\n",
    "                    best_distribution = distribution\n",
    "                    best_params = params\n",
    "                    best_sse = sse\n",
    "\n",
    "        except Exception:\n",
    "            pass\n",
    "\n",
    "    return (best_distribution.name, best_params)\n",
    "\n",
    "# def make_pdf(dist, params, size=10000):\n",
    "#     \"\"\"Generate distributions's Probability Distribution Function \"\"\"\n",
    "\n",
    "#     # Separate parts of parameters\n",
    "#     arg = params[:-2]\n",
    "#     loc = params[-2]\n",
    "#     scale = params[-1]\n",
    "\n",
    "#     # Get sane start and end points of distribution\n",
    "#     start = dist.ppf(0.01, *arg, loc=loc, scale=scale) if arg else dist.ppf(0.01, loc=loc, scale=scale)\n",
    "#     end = dist.ppf(0.99, *arg, loc=loc, scale=scale) if arg else dist.ppf(0.99, loc=loc, scale=scale)\n",
    "\n",
    "#     # Build PDF and turn into pandas Series\n",
    "#     x = np.linspace(start, end, size)\n",
    "#     y = dist.pdf(x, loc=loc, scale=scale, *arg)\n",
    "#     pdf = pd.Series(y, x)\n",
    "\n",
    "#     return pdf\n",
    "\n",
    "# # Load data from statsmodels datasets\n",
    "# data = pd.Series(sm.datasets.elnino.load_pandas().data.set_index('YEAR').values.ravel())\n",
    "\n",
    "# # Plot for comparison\n",
    "# plt.figure(figsize=(12,8))\n",
    "# ax = data.plot(kind='hist', bins=50, normed=True, alpha=0.5, color=plt.rcParams['axes.color_cycle'][1])\n",
    "# # Save plot limits\n",
    "# dataYLim = ax.get_ylim()\n",
    "\n",
    "# # Find best fit distribution\n",
    "# best_fit_name, best_fit_params = best_fit_distribution(data, 200, ax)\n",
    "# best_dist = getattr(st, best_fit_name)\n",
    "\n",
    "# # Update plots\n",
    "# ax.set_ylim(dataYLim)\n",
    "# ax.set_title(u'El Niño sea temp.\\n All Fitted Distributions')\n",
    "# ax.set_xlabel(u'Temp (°C)')\n",
    "# ax.set_ylabel('Frequency')\n",
    "\n",
    "# # Make PDF with best params \n",
    "# pdf = make_pdf(best_dist, best_fit_params)\n",
    "\n",
    "# # Display\n",
    "# plt.figure(figsize=(12,8))\n",
    "# ax = pdf.plot(lw=2, label='PDF', legend=True)\n",
    "# data.plot(kind='hist', bins=50, normed=True, alpha=0.5, label='Data', legend=True, ax=ax)\n",
    "\n",
    "# param_names = (best_dist.shapes + ', loc, scale').split(', ') if best_dist.shapes else ['loc', 'scale']\n",
    "# param_str = ', '.join(['{}={:0.2f}'.format(k,v) for k,v in zip(param_names, best_fit_params)])\n",
    "# dist_str = '{}({})'.format(best_fit_name, param_str)\n",
    "\n",
    "# ax.set_title(u'El Niño sea temp. with best fit distribution \\n' + dist_str)\n",
    "# ax.set_xlabel(u'Temp. (°C)')\n",
    "# ax.set_ylabel('Frequency')"
   ]
  },
  {
   "cell_type": "code",
   "execution_count": 12,
   "metadata": {},
   "outputs": [
    {
     "data": {
      "text/plain": [
       "('genextreme', (-0.15419966666313223, 511.7228387990196, 312.7722836897374))"
      ]
     },
     "execution_count": 12,
     "metadata": {},
     "output_type": "execute_result"
    }
   ],
   "source": [
    "best_fit_distribution(y, bins=200, ax=None)"
   ]
  },
  {
   "cell_type": "code",
   "execution_count": null,
   "metadata": {},
   "outputs": [],
   "source": [
    "distribution=st.genextreme\n",
    "x = np.linspace(start, end, size)\n",
    "y = dist.pdf(x, loc=loc, scale=scale, *arg)\n",
    "pdf = pd.Series(y, x)"
   ]
  },
  {
   "cell_type": "code",
   "execution_count": null,
   "metadata": {},
   "outputs": [],
   "source": []
  }
 ],
 "metadata": {
  "kernelspec": {
   "display_name": "Python 3",
   "language": "python",
   "name": "python3"
  },
  "language_info": {
   "codemirror_mode": {
    "name": "ipython",
    "version": 3
   },
   "file_extension": ".py",
   "mimetype": "text/x-python",
   "name": "python",
   "nbconvert_exporter": "python",
   "pygments_lexer": "ipython3",
   "version": "3.6.8"
  }
 },
 "nbformat": 4,
 "nbformat_minor": 2
}
