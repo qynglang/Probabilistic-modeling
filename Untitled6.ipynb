{
 "cells": [
  {
   "cell_type": "code",
   "execution_count": 39,
   "metadata": {},
   "outputs": [
    {
     "name": "stderr",
     "output_type": "stream",
     "text": [
      "/afs/inf.ed.ac.uk/user/s18/s1883226/miniconda3/envs/mlp/lib/python3.6/site-packages/pandas/core/ops/__init__.py:1115: FutureWarning: elementwise comparison failed; returning scalar instead, but in the future will perform elementwise comparison\n",
      "  result = method(y)\n"
     ]
    }
   ],
   "source": [
    "from g_factors2 import gen_f\n",
    "import pandas as pd\n",
    "import numpy as np\n",
    "data = pd.read_csv(\"data.csv\")\n",
    "data[data==' ']=np.nan\n",
    "data=data.dropna()\n",
    "data.head(5)\n",
    "data_E=data.iloc[0:56,:]\n",
    "data_T=data.iloc[56::,:]\n",
    "stress=np.int8(data_E.iloc[:,31])\n",
    "tired=np.int8(data_E.iloc[:,32])\n",
    "st=np.int8(data_E.iloc[:,31:33])\n",
    "choice3=np.int8(data_E.iloc[:,37])\n",
    "choice4=np.int8(data_E.iloc[:,38])\n",
    "tend=np.int8(choice3)+np.int8(choice4)"
   ]
  },
  {
   "cell_type": "code",
   "execution_count": 4,
   "metadata": {},
   "outputs": [],
   "source": [
    "f1,f2,f3,f4,f5=gen_f(data_E)"
   ]
  },
  {
   "cell_type": "code",
   "execution_count": 77,
   "metadata": {},
   "outputs": [],
   "source": [
    "choice=np.int8(data_E.iloc[:,11:21])\n",
    "payoff=np.float32(data_E.iloc[:,33])\n",
    "bounce3=np.int8(data_E.iloc[:,35])\n",
    "bounce4=np.int8(data_E.iloc[:,36])"
   ]
  },
  {
   "cell_type": "code",
   "execution_count": 66,
   "metadata": {},
   "outputs": [
    {
     "name": "stdout",
     "output_type": "stream",
     "text": [
      "95.45435153725717\n",
      "0.1281781125253596\n"
     ]
    }
   ],
   "source": [
    "from sklearn.linear_model import LinearRegression\n",
    "from sklearn.metrics import mean_absolute_error\n",
    "from sklearn.metrics import r2_score\n",
    "from sklearn.model_selection import train_test_split\n",
    "X_train, X_test, y_train, y_test = train_test_split(choice, payoff, test_size=0.2, random_state=0)\n",
    "lin_reg = LinearRegression()\n",
    "lin_reg.fit(X_train, y_train)\n",
    "print(mean_absolute_error(payoff, lin_reg.predict(choice)))\n",
    "print(r2_score(payoff, lin_reg.predict(choice)))\n",
    "w_c=lin_reg.coef_\n",
    "np.save('w_c.npy',w_c)\n",
    "f6=choice.dot(w_c)"
   ]
  },
  {
   "cell_type": "code",
   "execution_count": 69,
   "metadata": {},
   "outputs": [
    {
     "name": "stdout",
     "output_type": "stream",
     "text": [
      "66.1935238788335\n",
      "0.6186520322320432\n"
     ]
    }
   ],
   "source": [
    "X_train, X_test, y_train, y_test = train_test_split(np.vstack((choice3,choice4)).T, payoff, test_size=0.2, random_state=0)\n",
    "lin_reg = LinearRegression()\n",
    "lin_reg.fit(X_train, y_train)\n",
    "print(mean_absolute_error(payoff, lin_reg.predict(np.vstack((choice3,choice4)).T)))\n",
    "print(r2_score(payoff, lin_reg.predict(np.vstack((choice3,choice4)).T)))\n",
    "w_cc=lin_reg.coef_\n",
    "np.save('w_cc.npy',w_cc)\n",
    "f7=np.vstack((choice3,choice4)).T.dot(w_cc)"
   ]
  },
  {
   "cell_type": "code",
   "execution_count": null,
   "metadata": {},
   "outputs": [],
   "source": [
    "lin_reg = LinearRegression()\n",
    "lin_reg.fit(np.vstack((choice3,choice4)).T, payoff)\n",
    "w_cc=lin_reg.coef_\n",
    "np.save('w_cc.npy',w_cc)"
   ]
  },
  {
   "cell_type": "code",
   "execution_count": 47,
   "metadata": {},
   "outputs": [
    {
     "name": "stdout",
     "output_type": "stream",
     "text": [
      "60.81021101691007\n",
      "0.6887144061506633\n"
     ]
    }
   ],
   "source": [
    "X_train, X_test, y_train, y_test = train_test_split(np.vstack((f6,f7)).T, payoff, test_size=0.2, random_state=0)\n",
    "lin_reg = LinearRegression()\n",
    "lin_reg.fit(X_train, y_train)\n",
    "print(mean_absolute_error(payoff, lin_reg.predict(np.vstack((f6,f7)).T)))\n",
    "print(r2_score(payoff, lin_reg.predict(np.vstack((f6,f7)).T)))\n",
    "# w_t=lin_reg.coef_\n",
    "# f7=np.vstack((f,choice4)).T.dot(w_t)"
   ]
  },
  {
   "cell_type": "code",
   "execution_count": 70,
   "metadata": {},
   "outputs": [
    {
     "name": "stdout",
     "output_type": "stream",
     "text": [
      "50.194817\n",
      "0.70002228068424\n"
     ]
    }
   ],
   "source": [
    "time=np.float32(data_E.iloc[:,1:11])\n",
    "X_train, X_test, y_train, y_test = train_test_split(time, payoff, test_size=0.2, random_state=0)\n",
    "lin_reg = LinearRegression()\n",
    "lin_reg.fit(X_train, y_train)\n",
    "print(mean_absolute_error(payoff, lin_reg.predict(time)))\n",
    "print(r2_score(payoff, lin_reg.predict(time)))\n",
    "w_e=lin_reg.coef_\n",
    "np.save('w_e.npy',w_e)\n",
    "f8=time.dot(w_e)"
   ]
  },
  {
   "cell_type": "code",
   "execution_count": null,
   "metadata": {},
   "outputs": [],
   "source": [
    "lin_reg = LinearRegression()\n",
    "lin_reg.fit(time, payoff)\n",
    "w_e_1=lin_reg.coef_\n",
    "np.save('w_e.npy',w_e)"
   ]
  },
  {
   "cell_type": "code",
   "execution_count": 54,
   "metadata": {},
   "outputs": [
    {
     "name": "stdout",
     "output_type": "stream",
     "text": [
      "46.816523731488466\n",
      "0.752626134730926\n"
     ]
    }
   ],
   "source": [
    "X_train, X_test, y_train, y_test = train_test_split(np.vstack((f6,f7,f8)).T, payoff, test_size=0.2, random_state=0)\n",
    "lin_reg = LinearRegression()\n",
    "lin_reg.fit(X_train, y_train)\n",
    "print(mean_absolute_error(payoff, lin_reg.predict(np.vstack((f6,f7,f8)).T)))\n",
    "print(r2_score(payoff, lin_reg.predict(np.vstack((f6,f7,f8)).T)))"
   ]
  },
  {
   "cell_type": "code",
   "execution_count": 72,
   "metadata": {},
   "outputs": [
    {
     "name": "stdout",
     "output_type": "stream",
     "text": [
      "91.97119\n",
      "0.3183166499672182\n"
     ]
    }
   ],
   "source": [
    "farmiliar=np.float32(data_E.iloc[:,21:31])\n",
    "X_train, X_test, y_train, y_test = train_test_split(farmiliar, payoff, test_size=0.2, random_state=0)\n",
    "lin_reg = LinearRegression()\n",
    "lin_reg.fit(X_train, y_train)\n",
    "print(mean_absolute_error(payoff, lin_reg.predict(farmiliar)))\n",
    "print(r2_score(payoff, lin_reg.predict(farmiliar)))\n",
    "w_far=lin_reg.coef_\n",
    "np.save('w_far.npy',w_far)\n",
    "f9=farmiliar.dot(w_far)"
   ]
  },
  {
   "cell_type": "code",
   "execution_count": null,
   "metadata": {},
   "outputs": [],
   "source": [
    "farmiliar=np.float32(data_E.iloc[:,21:31])\n",
    "lin_reg = LinearRegression()\n",
    "lin_reg.fit(farmiliar, payoff)\n",
    "w_far_1=lin_reg.coef_\n",
    "np.save('w_far.npy',w_far)"
   ]
  },
  {
   "cell_type": "code",
   "execution_count": 73,
   "metadata": {},
   "outputs": [
    {
     "name": "stdout",
     "output_type": "stream",
     "text": [
      "42.88763004117431\n",
      "0.7891486314398596\n",
      "42.88763004117431\n",
      "0.7891486314398596\n"
     ]
    }
   ],
   "source": [
    "X_train, X_test, y_train, y_test = train_test_split(np.vstack((f6,f7,f8,f9)).T, payoff, test_size=0.2, random_state=0)\n",
    "lin_reg = LinearRegression()\n",
    "lin_reg.fit(X_train, y_train)\n",
    "print(mean_absolute_error(payoff, lin_reg.predict(np.vstack((f6,f7,f8,f9)).T)))\n",
    "print(r2_score(payoff, lin_reg.predict(np.vstack((f6,f7,f8,f9)).T)))\n",
    "print(mean_absolute_error(payoff, lin_reg.predict(np.vstack((f6,f7,f8,f9)).T)))\n",
    "print(r2_score(payoff, lin_reg.predict(np.vstack((f6,f7,f8,f9)).T)))"
   ]
  },
  {
   "cell_type": "code",
   "execution_count": 64,
   "metadata": {},
   "outputs": [],
   "source": [
    "test=np.hstack((data_E.iloc[:,21:33],np.array(data_E.iloc[:,34]).reshape(56,1),np.array(data_E.iloc[:,39]).reshape(56,1),data_E.iloc[:,1:11],data_E.iloc[:,37:38],data_E.iloc[:,11:21]))"
   ]
  },
  {
   "cell_type": "code",
   "execution_count": 65,
   "metadata": {},
   "outputs": [
    {
     "name": "stdout",
     "output_type": "stream",
     "text": [
      "39.44023513325224\n",
      "0.7659382494140197\n"
     ]
    }
   ],
   "source": [
    "X_train, X_test, y_train, y_test = train_test_split(test, payoff, test_size=0.2, random_state=0)\n",
    "lin_reg = LinearRegression()\n",
    "lin_reg.fit(X_train, y_train)\n",
    "print(mean_absolute_error(payoff, lin_reg.predict(test)))\n",
    "print(r2_score(payoff, lin_reg.predict(test)))"
   ]
  },
  {
   "cell_type": "code",
   "execution_count": 75,
   "metadata": {},
   "outputs": [
    {
     "name": "stdout",
     "output_type": "stream",
     "text": [
      "12.017445738863008\n",
      "0.44141908020045906\n",
      "486.1189039073205\n",
      "0.44141908020045906\n"
     ]
    }
   ],
   "source": [
    "X_train, X_test, y_train, y_test = train_test_split(np.vstack((f6,f7,f8,f9)).T, bounce3, test_size=0.2, random_state=0)\n",
    "lin_reg = LinearRegression()\n",
    "lin_reg.fit(X_train, y_train)\n",
    "print(mean_absolute_error(bounce3, lin_reg.predict(np.vstack((f6,f7,f8,f9)).T)))\n",
    "print(r2_score(bounce3, lin_reg.predict(np.vstack((f6,f7,f8,f9)).T)))\n",
    "print(mean_absolute_error(payoff, lin_reg.predict(np.vstack((f6,f7,f8,f9)).T)))\n",
    "print(r2_score(bounce3, lin_reg.predict(np.vstack((f6,f7,f8,f9)).T)))"
   ]
  },
  {
   "cell_type": "code",
   "execution_count": 78,
   "metadata": {},
   "outputs": [
    {
     "name": "stdout",
     "output_type": "stream",
     "text": [
      "11.15410583869311\n",
      "0.6508069850818212\n",
      "467.7725317715159\n",
      "0.6508069850818212\n"
     ]
    }
   ],
   "source": [
    "X_train, X_test, y_train, y_test = train_test_split(np.vstack((f6,f7,f8,f9)).T, bounce4, test_size=0.2, random_state=0)\n",
    "lin_reg = LinearRegression()\n",
    "lin_reg.fit(X_train, y_train)\n",
    "print(mean_absolute_error(bounce4, lin_reg.predict(np.vstack((f6,f7,f8,f9)).T)))\n",
    "print(r2_score(bounce4, lin_reg.predict(np.vstack((f6,f7,f8,f9)).T)))\n",
    "print(mean_absolute_error(payoff, lin_reg.predict(np.vstack((f6,f7,f8,f9)).T)))\n",
    "print(r2_score(bounce4, lin_reg.predict(np.vstack((f6,f7,f8,f9)).T)))"
   ]
  },
  {
   "cell_type": "code",
   "execution_count": 21,
   "metadata": {},
   "outputs": [
    {
     "name": "stderr",
     "output_type": "stream",
     "text": [
      "/afs/inf.ed.ac.uk/user/s18/s1883226/miniconda3/envs/mlp/lib/python3.6/site-packages/pandas/core/ops/__init__.py:1115: FutureWarning: elementwise comparison failed; returning scalar instead, but in the future will perform elementwise comparison\n",
      "  result = method(y)\n"
     ]
    }
   ],
   "source": [
    "from g_factors3 import gen_f\n",
    "import pandas as pd\n",
    "import numpy as np\n",
    "data = pd.read_csv(\"data.csv\")\n",
    "data[data==' ']=np.nan\n",
    "data=data.dropna()\n",
    "data.head(5)\n",
    "data_E=data.iloc[0:56,:]\n",
    "data_T=data.iloc[56::,:]\n",
    "stress=np.int8(data_E.iloc[:,31])\n",
    "tired=np.int8(data_E.iloc[:,32])\n",
    "st=np.int8(data_E.iloc[:,31:33])\n",
    "choice3=np.int8(data_E.iloc[:,37])\n",
    "choice4=np.int8(data_E.iloc[:,38])\n",
    "tend=np.int8(choice3)+np.int8(choice4)\n",
    "payoff=np.float32(data_E.iloc[:,33])"
   ]
  },
  {
   "cell_type": "code",
   "execution_count": 23,
   "metadata": {},
   "outputs": [
    {
     "data": {
      "text/plain": [
       "LinearRegression(copy_X=True, fit_intercept=True, n_jobs=None,\n",
       "         normalize=False)"
      ]
     },
     "execution_count": 23,
     "metadata": {},
     "output_type": "execute_result"
    }
   ],
   "source": [
    "from sklearn.linear_model import LinearRegression\n",
    "from sklearn.metrics import mean_absolute_error\n",
    "from sklearn.metrics import r2_score\n",
    "from sklearn.model_selection import train_test_split\n",
    "f1,f2,f3,f4,f5,f6,f7,f8,f9=gen_f(data_E)\n",
    "Fy=f1*f2*f3*f4*f5\n",
    "Fy1=f6*f7*f8*f9\n",
    "lin_reg = LinearRegression()\n",
    "lin_reg.fit(Fy.reshape(-1, 1) , tend[0:56])"
   ]
  },
  {
   "cell_type": "code",
   "execution_count": 24,
   "metadata": {
    "scrolled": true
   },
   "outputs": [
    {
     "data": {
      "text/plain": [
       "<matplotlib.collections.PathCollection at 0x7f00176436a0>"
      ]
     },
     "execution_count": 24,
     "metadata": {},
     "output_type": "execute_result"
    },
    {
     "data": {
      "image/png": "[encoded data removed]",
      "text/plain": [
       "<Figure size 432x288 with 1 Axes>"
      ]
     },
     "metadata": {
      "needs_background": "light"
     },
     "output_type": "display_data"
    }
   ],
   "source": []
  },
  {
   "cell_type": "code",
   "execution_count": 36,
   "metadata": {},
   "outputs": [],
   "source": [
    "x1=[0,1,2]\n",
    "x2=[0,1,2]\n",
    "w0=np.load('w0.npy')\n",
    "fy1=np.zeros((3,3))\n",
    "for i in range (0,2):\n",
    "    for j in range (0,2):\n",
    "        fy1[i,j]=w0[0]+w0[1]*np.int8(x1[i])+w0[2]*np.int8(x2[j])+w0[3]*np.int8(x1[i])**2+w0[4]*np.int8(x1[i])*np.int8(x2[j])+w0[5]*np.int8(x2[j])**2\n",
    "fy1+=fy1.min()\n",
    "fy1/=fy1.sum()"
   ]
  },
  {
   "cell_type": "code",
   "execution_count": 37,
   "metadata": {},
   "outputs": [
    {
     "data": {
      "text/plain": [
       "array([[0.10214538, 0.08920309, 0.10214538],\n",
       "       [0.20429077, 0.09363385, 0.10214538],\n",
       "       [0.10214538, 0.10214538, 0.10214538]])"
      ]
     },
     "execution_count": 37,
     "metadata": {},
     "output_type": "execute_result"
    }
   ],
   "source": [
    "fy1"
   ]
  },
  {
   "cell_type": "code",
   "execution_count": 44,
   "metadata": {},
   "outputs": [],
   "source": [
    "from scipy.stats import burr\n",
    "m1=np.load('m1.npy')\n",
    "m2=np.load('m2.npy')\n",
    "m3=np.load('m3.npy')\n",
    "m4=np.load('m4.npy')\n",
    "# f_e weight (familarity_exploration)\n",
    "w=np.load('w.npy')\n",
    "# f weight (familarity_exploration)\n",
    "w1=np.load('w1.npy')\n",
    "f=data_E.iloc[:,21:31]\n",
    "f_e=np.zeros((data_E.shape[0],10))\n",
    "rv1=burr(m1[0], m1[1], m1[2], m1[3])\n",
    "rv2=burr(m2[0], m2[1], m2[2], m2[3])\n",
    "rv3=burr(m3[0], m3[1], m3[2], m3[3])\n",
    "rv4=burr(m4[0], m4[1], m4[2], m4[3])\n",
    "x=np.arange(0,4000)\n",
    "f_e[np.where(f=='0')] = 0\n",
    "f_e[np.where(f=='1')] = x.dot(rv1.pdf(x))\n",
    "f_e[np.where(f=='2')] = x.dot(rv2.pdf(x))\n",
    "f_e[np.where(f=='3')] = x.dot(rv3.pdf(x))\n",
    "f_e[np.where(f=='4')] = x.dot(rv4.pdf(x))\n",
    "f2=np.sum(np.int8(f_e)*w,axis=1)\n",
    "f3=np.sum(np.int8(f)*w1,axis=1)\n"
   ]
  },
  {
   "cell_type": "code",
   "execution_count": 45,
   "metadata": {},
   "outputs": [
    {
     "data": {
      "text/plain": [
       "array([ 2.03598704,  3.29551649, -0.42581637, -2.08236763, -0.42581637,\n",
       "        2.28784066, -2.51974056,  1.40788747, -2.82025498,  2.60395418,\n",
       "        1.6383918 , -0.6285097 ,  1.53591161,  0.44811931, -0.6285097 ,\n",
       "        4.00563394,  2.33119982,  0.28583667, -0.40521385,  0.44811931,\n",
       "       -0.6285097 ,  1.8191105 ,  2.48994521,  1.7141569 , -1.63618553,\n",
       "        1.40636157,  4.08894661, -0.90118084,  2.93852902,  0.56090375,\n",
       "        1.475147  , -1.43365579,  1.35107202, -0.73521096, -0.88603586,\n",
       "        1.2532654 ,  0.384153  ,  2.36844208,  1.05551766,  2.74493872,\n",
       "       -1.96217393,  2.88626998, -0.61700572, -2.64128116, -0.53276404,\n",
       "       -0.42581637,  0.13390144,  1.54264614,  5.80119901, -2.65141443,\n",
       "       -0.11316959,  4.24464384,  3.62770276,  1.54248255, -1.3577271 ,\n",
       "        4.01516957])"
      ]
     },
     "execution_count": 45,
     "metadata": {},
     "output_type": "execute_result"
    }
   ],
   "source": [
    "from scipy.stats import burr\n",
    "m1=np.load('m1.npy')\n",
    "m2=np.load('m2.npy')\n",
    "m3=np.load('m3.npy')\n",
    "m4=np.load('m4.npy')\n",
    "# f_e weight (familarity_exploration)\n",
    "w=np.load('w.npy')\n",
    "# f weight (familarity_exploration)\n",
    "w1=np.load('w1.npy')\n",
    "f=data_E.iloc[:,21:31]\n",
    "f_e=np.zeros((data_E.shape[0],10))\n",
    "rv1=burr(m1[0], m1[1], m1[2], m1[3])\n",
    "rv2=burr(m2[0], m2[1], m2[2], m2[3])\n",
    "rv3=burr(m3[0], m3[1], m3[2], m3[3])\n",
    "rv4=burr(m4[0], m4[1], m4[2], m4[3])\n",
    "x=np.arange(0,4000)\n",
    "f_e[np.where(f=='0')] = 0\n",
    "f_e[np.where(f=='1')] = x.dot(rv1.pdf(x))\n",
    "f_e[np.where(f=='2')] = x.dot(rv2.pdf(x))\n",
    "f_e[np.where(f=='3')] = x.dot(rv3.pdf(x))\n",
    "f_e[np.where(f=='4')] = x.dot(rv4.pdf(x))\n",
    "f2=np.sum(np.int8(f_e)*w,axis=1)\n",
    "f3=np.sum(np.int8(f)*w1,axis=1)"
   ]
  },
  {
   "cell_type": "code",
   "execution_count": 48,
   "metadata": {},
   "outputs": [
    {
     "data": {
      "text/plain": [
       "array([0.32016462, 0.26700165, 0.21435806, 0.19847567])"
      ]
     },
     "execution_count": 48,
     "metadata": {},
     "output_type": "execute_result"
    }
   ],
   "source": [
    "fy2=np.zeros(4)\n",
    "fy2[0]=x.dot(rv1.pdf(x))\n",
    "fy2[1]=x.dot(rv2.pdf(x))\n",
    "fy2[2]=x.dot(rv3.pdf(x))\n",
    "fy2[3]=x.dot(rv4.pdf(x))\n",
    "fy2/=fy2.sum()\n",
    "fy2"
   ]
  },
  {
   "cell_type": "code",
   "execution_count": 50,
   "metadata": {},
   "outputs": [
    {
     "data": {
      "text/plain": [
       "(56, 10)"
      ]
     },
     "execution_count": 50,
     "metadata": {},
     "output_type": "execute_result"
    }
   ],
   "source": [
    "f.shape"
   ]
  },
  {
   "cell_type": "code",
   "execution_count": 110,
   "metadata": {
    "scrolled": true
   },
   "outputs": [],
   "source": [
    "for i in range (0,10):\n",
    "    name='prior'+str(i)\n",
    "    exec(name + \" = np.bincount(np.int8(f.iloc[:,i]))/np.bincount(np.int8(f.iloc[:,i])).sum()\")\n",
    "    if eval(name).size < 5:\n",
    "        exec(name + \" = np.zeros(5)\")\n",
    "        m=np.int(f.iloc[:,i].min())\n",
    "        n=np.int(f.iloc[:,i].max())\n",
    "        exec(name + \" = np.hstack((np.zeros(m),np.bincount(np.int8(f.iloc[:,i]))/np.bincount(np.int8(f.iloc[:,i])).sum(),np.zeros(4-n)))\")\n",
    "    #name.eval()=np.bincount(np.int8(f.iloc[:,0]))[0::]"
   ]
  },
  {
   "cell_type": "code",
   "execution_count": 95,
   "metadata": {},
   "outputs": [
    {
     "data": {
      "text/plain": [
       "array([], dtype=float64)"
      ]
     },
     "execution_count": 95,
     "metadata": {},
     "output_type": "execute_result"
    }
   ],
   "source": [
    "np.zeros(0)"
   ]
  },
  {
   "cell_type": "code",
   "execution_count": 114,
   "metadata": {
    "scrolled": false
   },
   "outputs": [
    {
     "data": {
      "text/plain": [
       "array([0.09966122, 0.05791118, 0.11084911, 0.0917573 , 0.01963023,\n",
       "       0.0538413 , 0.12291919, 0.15491264, 0.17143086, 0.11708698])"
      ]
     },
     "execution_count": 114,
     "metadata": {},
     "output_type": "execute_result"
    }
   ],
   "source": [
    "fy3=np.zeros(10,5)\n",
    "for j in range (0,10):\n",
    "    fy3[j]=np.sum(np.arange(5)*eval('prior'+str(j)))\n",
    "    fy3[j]*=w[j]\n",
    "fy3+=fy3.min()\n",
    "fy3/=fy3.sum()\n",
    "fy3"
   ]
  },
  {
   "cell_type": "code",
   "execution_count": 121,
   "metadata": {},
   "outputs": [
    {
     "data": {
      "text/plain": [
       "array([[0.02150532, 0.02107231, 0.01925368, 0.01951349],\n",
       "       [0.01793235, 0.01305501, 0.01132085, 0.01674011],\n",
       "       [0.02973191, 0.01890726, 0.01847427, 0.02020622],\n",
       "       [0.01864869, 0.01930274, 0.01938994, 0.01978237],\n",
       "       [0.01847427, 0.01137399, 0.00531786, 0.00343837],\n",
       "       [0.01348795, 0.01365989, 0.013316  , 0.01641097],\n",
       "       [0.03694855, 0.01986856, 0.01847427, 0.01847427],\n",
       "       [0.01847427, 0.02595317, 0.03299214, 0.03343207],\n",
       "       [0.02135529, 0.03063854, 0.03383967, 0.03383967],\n",
       "       [0.02739517, 0.0219556 , 0.02108527, 0.02021494]])"
      ]
     },
     "execution_count": 121,
     "metadata": {},
     "output_type": "execute_result"
    }
   ],
   "source": [
    "fy3=np.zeros((10,5))\n",
    "for j in range (0,10):\n",
    "    fy3[j,:]=np.arange(5)*eval('prior'+str(j))\n",
    "    fy3[j,:]*=w[j]\n",
    "fy3+=fy3.min()\n",
    "fy3/=fy3.sum()\n",
    "fy3=fy3[:,1::]\n",
    "fy3"
   ]
  },
  {
   "cell_type": "code",
   "execution_count": 129,
   "metadata": {},
   "outputs": [],
   "source": [
    "k=np.load('k.npy')\n",
    "w2=np.load('w2.npy')\n",
    "risk=data_E.iloc[:,34]\n",
    "delay=data_E.iloc[:,39]\n",
    "m=[risk=='1']\n",
    "n=[delay=='1']\n",
    "a=np.array(np.where(np.array(m[0])==1))\n",
    "b=np.array(np.where(np.array(n[0])==1))\n",
    "tmp1 = [i for i in a[0] if i in b[0]]\n",
    "m=[risk=='2']\n",
    "n=[delay=='1']\n",
    "a=np.array(np.where(np.array(m[0])==1))\n",
    "b=np.array(np.where(np.array(n[0])==1))\n",
    "tmp2 = [i for i in a[0] if i in b[0]]\n",
    "m=[risk=='1']\n",
    "n=[delay=='2']\n",
    "a=np.array(np.where(np.array(m[0])==1))\n",
    "b=np.array(np.where(np.array(n[0])==1))\n",
    "tmp3 = [i for i in a[0] if i in b[0]]\n",
    "m=[risk=='2']\n",
    "n=[delay=='2']\n",
    "a=np.array(np.where(np.array(m[0])==1))\n",
    "b=np.array(np.where(np.array(n[0])==1))\n",
    "tmp4 = [i for i in a[0] if i in b[0]]\n",
    "tend[tmp4]\n",
    "f41=np.zeros(data_E.shape[0])\n",
    "f41[tmp1]=k[0,0]\n",
    "f41[tmp2]=k[1,0]\n",
    "f41[tmp3]=k[2,0]\n",
    "f41[tmp4]=k[3,0]\n",
    "f42=np.zeros(data_E.shape[0])\n",
    "f42[tmp1]=k[0,1]\n",
    "f42[tmp2]=k[1,1]\n",
    "f42[tmp3]=k[2,1]\n",
    "f42[tmp4]=k[3,1]\n",
    "f43=np.zeros(data_E.shape[0])\n",
    "f43[tmp1]=k[0,2]\n",
    "f43[tmp2]=k[1,2]\n",
    "f43[tmp3]=k[2,2]\n",
    "f43[tmp4]=k[3,2]\n",
    "f4=np.sum(np.vstack((f42,f41,f43)).T*w2,axis=1)"
   ]
  },
  {
   "cell_type": "code",
   "execution_count": 198,
   "metadata": {},
   "outputs": [
    {
     "data": {
      "text/plain": [
       "array([0.00778207, 0.00944967, 0.49138413, 0.49138413])"
      ]
     },
     "execution_count": 198,
     "metadata": {},
     "output_type": "execute_result"
    }
   ],
   "source": [
    "fy4=np.zeros(4)\n",
    "for i in range (0,4):\n",
    "    fy4[i]=np.sum(np.array([k[i,1],k[i,0],k[i,2]])*w2)\n",
    "fy4+=fy4.min()\n",
    "fy4/=fy4.sum()\n",
    "fy4"
   ]
  },
  {
   "cell_type": "code",
   "execution_count": 195,
   "metadata": {},
   "outputs": [
    {
     "data": {
      "text/plain": [
       "array([20.5       , 18.83333333, 21.        ])"
      ]
     },
     "execution_count": 195,
     "metadata": {},
     "output_type": "execute_result"
    }
   ],
   "source": [
    "np.array([k[j,1],k[i,0],k[w,2]])"
   ]
  },
  {
   "cell_type": "code",
   "execution_count": 190,
   "metadata": {},
   "outputs": [
    {
     "data": {
      "text/plain": [
       "array([16.95      , 17.7826087 , 18.83333333])"
      ]
     },
     "execution_count": 190,
     "metadata": {},
     "output_type": "execute_result"
    }
   ],
   "source": [
    "np.unique(f41)"
   ]
  },
  {
   "cell_type": "code",
   "execution_count": 244,
   "metadata": {},
   "outputs": [
    {
     "data": {
      "text/plain": [
       "array([ 0.73649091, -0.25417307, -5.45768595, -1.05517995, -3.36909342,\n",
       "       -0.81878775, -2.20227337,  1.67848372, -3.75638795,  0.09118973])"
      ]
     },
     "execution_count": 244,
     "metadata": {},
     "output_type": "execute_result"
    }
   ],
   "source": [
    "from scipy.stats import norm\n",
    "w_t=np.load('w_t.npy')\n",
    "time=np.float32(data_E.iloc[:,1:11])\n",
    "f5=np.sum(time*w_t,axis=1)\n",
    "fa=time*w_t\n",
    "mu=np.zeros(10)\n",
    "std=np.zeros(10)\n",
    "for i in range (0,10):\n",
    "    mu[i], std[i] = norm.fit(fa[:,i]) \n",
    "mu"
   ]
  },
  {
   "cell_type": "code",
   "execution_count": 238,
   "metadata": {},
   "outputs": [
    {
     "data": {
      "text/plain": [
       "array([[  0.3894598 ,  -0.3358329 ,  -8.24391   ,  -1.0642024 ,\n",
       "         -4.593687  ,  -0.9087801 ,  -2.4302044 ,   2.3150306 ,\n",
       "         -5.18233   ,   0.15624113],\n",
       "       [  0.97751665,  -0.0363293 ,  -3.375983  ,  -0.817028  ,\n",
       "         -0.75448465,  -0.77385545,  -3.104034  ,   0.72937274,\n",
       "         -5.1478963 ,   0.03287548],\n",
       "       [  0.9065737 ,  -0.10480238, -10.861707  ,  -2.0219471 ,\n",
       "         -4.086686  ,  -0.7355591 ,  -4.0313115 ,   1.3803765 ,\n",
       "         -2.2519467 ,   0.01414174],\n",
       "       [  0.61610013,  -0.38854355,  -3.4887946 ,  -1.8226761 ,\n",
       "         -5.1900716 ,  -0.8705602 ,  -2.3381393 ,   2.9841185 ,\n",
       "         -3.3909702 ,   0.11625298],\n",
       "       [  0.74045086,  -0.34865507,  -4.379136  ,  -1.915061  ,\n",
       "         -4.5016413 ,  -0.6423679 ,  -1.541855  ,   1.3971469 ,\n",
       "         -3.0636237 ,   0.23390123],\n",
       "       [  2.350537  ,  -0.08217864,  -4.9781165 ,  -0.40215194,\n",
       "         -1.5015781 ,  -1.8257619 ,  -0.31054297,   0.683935  ,\n",
       "         -0.64754885,   0.02229756],\n",
       "       [  0.7393074 ,  -0.45789889,  -3.0580094 ,  -0.96605456,\n",
       "         -3.15591   ,  -0.91290045,  -3.7721484 ,   3.0240345 ,\n",
       "         -2.827001  ,   0.0698913 ],\n",
       "       [  0.56159294,  -0.26204526,  -9.7126    ,  -2.1337843 ,\n",
       "         -4.1345778 ,  -0.67273825,  -1.5260397 ,   4.893179  ,\n",
       "         -2.7662153 ,   0.10169467],\n",
       "       [  0.715645  ,  -0.72564226,  -2.24498   ,  -0.6349078 ,\n",
       "         -5.8080053 ,  -1.2859706 ,  -1.0058303 ,   1.5083067 ,\n",
       "         -6.4432454 ,   0.02684353],\n",
       "       [  0.69655997,  -0.30344918, -10.086676  ,  -1.6269594 ,\n",
       "         -4.166784  ,  -0.4874873 ,  -2.8635366 ,   1.1678333 ,\n",
       "         -3.603592  ,   0.07900798],\n",
       "       [  0.04696568,  -0.05094845,  -2.8757885 ,  -1.3404197 ,\n",
       "         -0.5753877 ,  -0.04579841,  -0.7095061 ,   0.2306413 ,\n",
       "         -3.2364514 ,   0.0777531 ],\n",
       "       [  1.3654968 ,  -0.20206408,  -7.242138  ,  -0.91296494,\n",
       "         -2.2217906 ,  -0.56629264,  -5.1799664 ,   0.76509994,\n",
       "         -2.060586  ,   0.05017963],\n",
       "       [  0.67389697,  -0.18879166,  -7.7051864 ,  -0.6458094 ,\n",
       "         -1.7086468 ,  -0.710601  ,  -1.15714   ,   3.523423  ,\n",
       "         -6.4345455 ,   0.14924699],\n",
       "       [  0.7248647 ,  -0.34074906,  -7.2299485 ,  -0.58643043,\n",
       "         -3.6348605 ,  -1.1559612 ,  -1.8987072 ,   1.9605777 ,\n",
       "         -5.9771614 ,   0.04286921],\n",
       "       [  0.40075496,  -0.23086639,  -3.924927  ,  -0.59606373,\n",
       "         -1.5557061 ,  -0.5539909 ,  -2.0162175 ,   1.5292946 ,\n",
       "         -1.7452915 ,   0.03453062],\n",
       "       [  1.4387274 ,  -0.22965302,  -3.7578201 ,  -0.57464135,\n",
       "         -1.5348887 ,  -1.6067823 ,  -1.874872  ,   0.5538844 ,\n",
       "         -1.0267353 ,   0.07276736],\n",
       "       [  0.3684042 ,  -0.16822591,  -3.0814328 ,  -0.7720701 ,\n",
       "         -2.6423287 ,  -0.19728427,  -2.0246494 ,   1.015852  ,\n",
       "         -2.9110613 ,   0.03235842],\n",
       "       [  1.4117788 ,  -0.34083   ,  -5.0721793 ,  -0.70484257,\n",
       "         -1.4496028 ,  -1.081146  ,  -4.52272   ,   0.6293778 ,\n",
       "         -0.9550472 ,   0.04009882],\n",
       "       [  0.5765867 ,  -0.39881703,  -4.997158  ,  -1.3731474 ,\n",
       "         -3.852794  ,  -0.8794745 ,  -3.207178  ,   3.5779753 ,\n",
       "         -2.8721943 ,   0.09638999],\n",
       "       [  1.5545241 ,  -0.23435034,  -3.4580553 ,  -0.15147565,\n",
       "         -3.093659  ,  -1.9356827 ,  -0.7283058 ,   0.97214043,\n",
       "         -2.427097  ,   0.07714839],\n",
       "       [  0.37685308,  -0.26282835,  -3.447143  ,  -0.7191107 ,\n",
       "         -5.1110573 ,  -0.7195812 ,  -1.1185484 ,   1.6956728 ,\n",
       "         -3.34787   ,   0.07094269],\n",
       "       [  0.4457824 ,  -0.5117545 ,  -4.8720717 ,  -1.0701759 ,\n",
       "        -10.6849985 ,  -1.5778413 ,  -1.1716689 ,   1.532339  ,\n",
       "         -1.8123692 ,   0.03956699],\n",
       "       [  0.5983877 ,  -0.2944552 ,  -7.063693  ,  -0.48029122,\n",
       "         -3.6945143 ,  -1.7583902 ,  -0.64395845,   1.2851571 ,\n",
       "         -3.6254878 ,   0.20838487],\n",
       "       [  1.6878804 ,  -0.15574342,  -6.5005813 ,  -0.39277935,\n",
       "         -2.513004  ,  -0.57238   ,  -4.485674  ,   0.7291194 ,\n",
       "         -5.4899826 ,   0.06720568],\n",
       "       [  0.8451989 ,  -0.12781994,  -2.0473893 ,  -1.7189384 ,\n",
       "         -3.6877828 ,  -0.2471998 ,  -2.344346  ,   1.4127917 ,\n",
       "         -4.9228106 ,   0.071991  ],\n",
       "       [  0.29984623,  -0.13088442, -10.108207  ,  -1.4859946 ,\n",
       "         -2.3490915 ,  -0.35785365,  -1.168952  ,   1.9876453 ,\n",
       "         -1.2292898 ,   0.23414135],\n",
       "       [  0.7294742 ,  -0.21550234,  -3.8501513 ,  -0.4263392 ,\n",
       "         -6.6734805 ,  -0.6103249 ,  -2.6942964 ,   4.203638  ,\n",
       "         -4.1107216 ,   0.17114083],\n",
       "       [  0.530199  ,  -0.1354501 ,  -6.4430304 ,  -0.82836086,\n",
       "         -2.5033813 ,  -0.4851094 ,  -3.5673814 ,   2.1852193 ,\n",
       "         -2.289864  ,   0.05608979],\n",
       "       [  1.0487336 ,  -0.8089767 ,  -2.5717268 ,  -0.5389182 ,\n",
       "         -1.0610476 ,  -0.7582647 ,  -1.022924  ,   1.7025218 ,\n",
       "         -5.00023   ,   0.03223567],\n",
       "       [  0.6719855 ,  -0.38429135,  -4.600519  ,  -1.6464843 ,\n",
       "         -4.0499525 ,  -0.7165875 ,  -2.5514424 ,   2.5004594 ,\n",
       "         -7.188651  ,   0.04120142],\n",
       "       [  1.014514  ,  -0.08238381,  -2.1936185 ,  -0.18311287,\n",
       "         -0.61121   ,  -0.6967072 ,  -2.1181023 ,   0.47277105,\n",
       "         -0.6382025 ,   0.0691113 ],\n",
       "       [  0.2637268 ,  -0.2694047 ,  -4.6626415 ,  -1.5717566 ,\n",
       "         -4.378151  ,  -1.7976555 ,  -1.1700135 ,   1.0639635 ,\n",
       "         -8.2319565 ,   0.05869889],\n",
       "       [  0.7960356 ,  -0.11146537,  -1.893267  ,  -0.73208547,\n",
       "         -1.2739575 ,  -0.8437529 ,  -1.4980112 ,   0.35315335,\n",
       "         -2.4333546 ,   0.01898594],\n",
       "       [  0.15110637,  -0.03136412,  -4.6662564 ,  -0.9360668 ,\n",
       "         -3.6855443 ,  -0.4711359 ,  -1.4906491 ,   0.09956803,\n",
       "         -1.5514369 ,   0.10088034],\n",
       "       [  0.33333078,  -0.24461754,  -7.968808  ,  -0.7727093 ,\n",
       "         -4.3050857 ,  -0.87542415,  -3.3401372 ,   1.7507601 ,\n",
       "         -5.206737  ,   0.16825806],\n",
       "       [  0.55638707,  -0.22018144,  -7.4128036 ,  -1.3175257 ,\n",
       "         -2.4473157 ,  -0.59439903,  -2.1811094 ,   0.5708848 ,\n",
       "         -2.8491943 ,   0.08579232],\n",
       "       [  0.58197457,  -0.16581002,  -8.052338  ,  -1.1399453 ,\n",
       "         -3.242653  ,  -1.0533724 ,  -2.9714918 ,   1.923584  ,\n",
       "         -5.157128  ,   0.11422156],\n",
       "       [  0.6254577 ,  -0.3280916 ,  -5.338101  ,  -3.4363074 ,\n",
       "         -3.6652362 ,  -0.6185038 ,  -1.5130322 ,   3.9241908 ,\n",
       "         -3.1858873 ,   0.11051716],\n",
       "       [  0.6147488 ,  -0.35306743,  -6.825719  ,  -1.6460657 ,\n",
       "         -2.7025206 ,  -0.8773278 ,  -1.7087257 ,   2.8060172 ,\n",
       "         -4.850259  ,   0.14708707],\n",
       "       [  0.6726279 ,  -0.3958044 ,  -8.000977  ,  -1.5724033 ,\n",
       "         -4.9758344 ,  -0.58648527,  -1.1631008 ,   4.5401473 ,\n",
       "         -4.712471  ,   0.08904985],\n",
       "       [  0.868249  ,  -0.13510758,  -6.1556067 ,  -0.51678395,\n",
       "         -5.5016146 ,  -0.34875545,  -2.2821705 ,   1.224994  ,\n",
       "         -7.4097953 ,   0.17564097],\n",
       "       [  0.72917014,  -0.37040514,  -8.163276  ,  -0.77773523,\n",
       "         -3.4812813 ,  -1.501243  ,  -2.6290455 ,   1.1003381 ,\n",
       "         -2.4734514 ,   0.07047587],\n",
       "       [  0.6616643 ,  -0.21797411,  -9.36701   ,  -1.4506348 ,\n",
       "         -3.4784756 ,  -0.5983461 ,  -3.4535105 ,   1.6773636 ,\n",
       "         -3.9532921 ,   0.13434768],\n",
       "       [  0.7339642 ,  -0.39749423,  -3.8275416 ,  -0.49560973,\n",
       "         -5.17788   ,  -0.9845877 ,  -2.5979338 ,   1.3970767 ,\n",
       "         -7.801348  ,   0.02553726],\n",
       "       [  1.0284824 ,  -0.10040769,  -2.5719066 ,  -1.6548742 ,\n",
       "         -2.4617465 ,  -1.3777984 ,  -2.6544585 ,   0.79619706,\n",
       "         -6.392103  ,   0.05316463],\n",
       "       [  0.8307631 ,  -0.07920135,  -6.1574144 ,  -0.42463467,\n",
       "         -3.5023067 ,  -0.4114226 ,  -4.9348507 ,   1.9790792 ,\n",
       "         -6.627479  ,   0.11163701],\n",
       "       [  0.76542264,  -0.27150944,  -3.9044468 ,  -0.25766   ,\n",
       "         -3.6908689 ,  -0.13346602,  -1.5373088 ,   0.18894705,\n",
       "         -1.6377337 ,   0.05945492],\n",
       "       [  0.22207204,  -0.11274543,  -3.3511207 ,  -0.22086647,\n",
       "         -1.363427  ,  -1.20164   ,  -1.0566056 ,   0.35674202,\n",
       "         -3.8697808 ,   0.02133344],\n",
       "       [  0.8944865 ,  -0.30652738,  -5.169745  ,  -1.4345968 ,\n",
       "         -6.060835  ,  -0.6758426 ,  -1.262552  ,   2.1449697 ,\n",
       "         -4.2935367 ,   0.15189616],\n",
       "       [  0.57367873,  -0.19677006,  -7.256211  ,  -1.3298965 ,\n",
       "         -4.233491  ,  -0.458329  ,  -1.9508623 ,   2.409307  ,\n",
       "         -4.9247155 ,   0.28260982],\n",
       "       [  0.39003357,  -0.26161554,  -6.993356  ,  -1.8578001 ,\n",
       "         -2.7596195 ,  -0.34259564,  -2.365772  ,   1.6615031 ,\n",
       "         -2.893524  ,   0.09646383],\n",
       "       [  0.31949413,  -0.17106415,  -4.522195  ,  -1.1164198 ,\n",
       "         -1.5572848 ,  -0.19355436,  -0.8306667 ,   1.5477632 ,\n",
       "         -2.3330097 ,   0.07062853],\n",
       "       [  1.5611137 ,  -0.1282206 ,  -2.9848049 ,  -0.84864014,\n",
       "         -1.1551958 ,  -1.2024877 ,  -3.5948107 ,   0.4556768 ,\n",
       "         -3.738445  ,   0.07742418],\n",
       "       [  0.7716883 ,  -0.27489707,  -8.580631  ,  -1.2466561 ,\n",
       "         -3.9163725 ,  -1.0292903 ,  -1.6370301 ,   2.5424678 ,\n",
       "         -4.301568  ,   0.09073778],\n",
       "       [  0.38401574,  -0.40245485,  -4.74548   ,  -1.0496911 ,\n",
       "         -3.4716656 ,  -0.91648877,  -1.2012806 ,   1.9843475 ,\n",
       "         -3.8461175 ,   0.08700097],\n",
       "       [  0.40919694,  -0.14672777,  -3.5860662 ,  -0.7295713 ,\n",
       "         -3.0782666 ,  -0.4089756 ,  -3.1719775 ,   0.9471089 ,\n",
       "         -1.0573713 ,   0.11627907]], dtype=float32)"
      ]
     },
     "execution_count": 238,
     "metadata": {},
     "output_type": "execute_result"
    }
   ],
   "source": [
    "fa"
   ]
  },
  {
   "cell_type": "code",
   "execution_count": 212,
   "metadata": {},
   "outputs": [
    {
     "data": {
      "text/plain": [
       "array([0.32016462, 0.32016462, 0.32016462, 0.26700165, 0.32016462,\n",
       "       0.32016462, 0.26700165, 0.32016462, 0.32016462, 0.19847567,\n",
       "       0.32016462, 0.32016462, 0.32016462, 0.26700165, 0.32016462,\n",
       "       0.32016462, 0.19847567, 0.32016462, 0.21435806, 0.26700165,\n",
       "       0.32016462, 0.32016462, 0.32016462, 0.32016462, 0.32016462,\n",
       "       0.26700165, 0.26700165, 0.26700165, 0.32016462, 0.26700165,\n",
       "       0.32016462, 0.26700165, 0.32016462, 0.32016462, 0.21435806,\n",
       "       0.32016462, 0.32016462, 0.19847567, 0.21435806, 0.26700165,\n",
       "       0.26700165, 0.32016462, 0.26700165, 0.32016462, 0.32016462,\n",
       "       0.32016462, 0.32016462, 0.32016462, 0.32016462, 0.32016462,\n",
       "       0.26700165, 0.32016462, 0.26700165, 0.26700165, 0.32016462,\n",
       "       0.32016462])"
      ]
     },
     "execution_count": 212,
     "metadata": {},
     "output_type": "execute_result"
    }
   ],
   "source": [
    "d=np.zeros((56,10))\n",
    "d[np.where(f=='1')] = 0\n",
    "d[np.where(f=='2')] = 1\n",
    "d[np.where(f=='3')] = 2\n",
    "d[np.where(f=='4')] = 3\n",
    "fy2[np.int8(d[:,0])]"
   ]
  },
  {
   "cell_type": "code",
   "execution_count": 181,
   "metadata": {},
   "outputs": [
    {
     "data": {
      "text/plain": [
       "array([[1, 1],\n",
       "       [2, 2],\n",
       "       [1, 1],\n",
       "       [0, 0],\n",
       "       [0, 0],\n",
       "       [2, 1],\n",
       "       [0, 0],\n",
       "       [0, 1],\n",
       "       [1, 1],\n",
       "       [1, 1],\n",
       "       [0, 1],\n",
       "       [2, 1],\n",
       "       [0, 1],\n",
       "       [1, 1],\n",
       "       [0, 1],\n",
       "       [0, 0],\n",
       "       [2, 1],\n",
       "       [1, 0],\n",
       "       [0, 0],\n",
       "       [0, 1],\n",
       "       [1, 1],\n",
       "       [0, 0],\n",
       "       [1, 1],\n",
       "       [1, 0],\n",
       "       [0, 1],\n",
       "       [2, 0],\n",
       "       [0, 1],\n",
       "       [1, 1],\n",
       "       [0, 0],\n",
       "       [0, 0],\n",
       "       [1, 1],\n",
       "       [1, 1],\n",
       "       [0, 1],\n",
       "       [1, 0],\n",
       "       [0, 0],\n",
       "       [1, 1],\n",
       "       [0, 1],\n",
       "       [1, 0],\n",
       "       [1, 0],\n",
       "       [1, 0],\n",
       "       [1, 0],\n",
       "       [1, 1],\n",
       "       [1, 1],\n",
       "       [0, 0],\n",
       "       [1, 1],\n",
       "       [1, 1],\n",
       "       [0, 0],\n",
       "       [2, 1],\n",
       "       [1, 2],\n",
       "       [0, 1],\n",
       "       [1, 2],\n",
       "       [1, 1],\n",
       "       [0, 1],\n",
       "       [0, 1],\n",
       "       [1, 1],\n",
       "       [0, 0]], dtype=int8)"
      ]
     },
     "execution_count": 181,
     "metadata": {},
     "output_type": "execute_result"
    }
   ],
   "source": [
    "st"
   ]
  },
  {
   "cell_type": "code",
   "execution_count": 186,
   "metadata": {},
   "outputs": [
    {
     "data": {
      "text/plain": [
       "array([1, 1, 1, 2, 1, 1, 2, 1, 1, 4, 1, 1, 1, 2, 1, 1, 4, 1, 3, 2, 1, 1,\n",
       "       1, 1, 1, 2, 2, 2, 1, 2, 1, 2, 1, 1, 3, 1, 1, 4, 3, 2, 2, 1, 2, 1,\n",
       "       1, 1, 1, 1, 1, 1, 2, 1, 2, 2, 1, 1], dtype=int8)"
      ]
     },
     "execution_count": 186,
     "metadata": {},
     "output_type": "execute_result"
    }
   ],
   "source": [
    "np.int8(np.array(f))[:,0]"
   ]
  },
  {
   "cell_type": "code",
   "execution_count": 189,
   "metadata": {},
   "outputs": [
    {
     "data": {
      "text/plain": [
       "[2, 5, 6, 7, 9, 12, 16, 19, 21, 23, 26, 27, 28, 30, 43, 51, 53]"
      ]
     },
     "execution_count": 189,
     "metadata": {},
     "output_type": "execute_result"
    }
   ],
   "source": [
    "tmp1"
   ]
  },
  {
   "cell_type": "code",
   "execution_count": 203,
   "metadata": {},
   "outputs": [
    {
     "data": {
      "text/plain": [
       "array([0.49138413, 0.49138413, 0.00778207, 0.00944967, 0.49138413,\n",
       "       0.00778207, 0.00778207, 0.00778207, 0.00944967, 0.00778207,\n",
       "       0.00944967, 0.49138413, 0.00778207, 0.49138413, 0.00944967,\n",
       "       0.49138413, 0.00778207, 0.00944967, 0.49138413, 0.00778207,\n",
       "       0.49138413, 0.00778207, 0.00944967, 0.00778207, 0.00944967,\n",
       "       0.00944967, 0.00778207, 0.00778207, 0.00778207, 0.00944967,\n",
       "       0.00778207, 0.49138413, 0.00944967, 0.00944967, 0.49138413,\n",
       "       0.49138413, 0.49138413, 0.49138413, 0.00944967, 0.49138413,\n",
       "       0.00944967, 0.49138413, 0.49138413, 0.00778207, 0.49138413,\n",
       "       0.00944967, 0.49138413, 0.49138413, 0.49138413, 0.00944967,\n",
       "       0.49138413, 0.00778207, 0.49138413, 0.00778207, 0.00944967,\n",
       "       0.49138413])"
      ]
     },
     "execution_count": 203,
     "metadata": {},
     "output_type": "execute_result"
    }
   ],
   "source": [
    "fb=np.zeros(56)\n",
    "fb[tmp1]=0\n",
    "fb[tmp2]=1\n",
    "fb[tmp3]=2\n",
    "fb[tmp4]=3\n",
    "fb\n",
    "fy4[np.int8(fb)]"
   ]
  },
  {
   "cell_type": "code",
   "execution_count": 255,
   "metadata": {},
   "outputs": [],
   "source": [
    "p=fy1[st[:,0],st[:,1]]\n",
    "for i in range (0,10):\n",
    "    p*=fy2[np.int8(d[:,i])]*(d[:,i]+1)\n",
    "for i in range (0,10):\n",
    "    p*=fy3[i,np.int8(np.array(f))[:,0]-1]*np.int8(np.array(f))[:,0]\n",
    "p*=fy4[np.int8(fb)]*np.int8(risk)*np.int8(delay)\n",
    "for i in range (0,10):\n",
    "    p*=time[:,i]*norm.pdf(fa[:,i],mu[i],std[i])"
   ]
  },
  {
   "cell_type": "code",
   "execution_count": 263,
   "metadata": {
    "scrolled": true
   },
   "outputs": [
    {
     "data": {
      "text/plain": [
       "(array([ 2.,  0.,  4.,  7., 11.,  8.,  7.,  8.,  3.,  6.]),\n",
       " array([-16.85263554, -13.01868104,  -9.18472655,  -5.35077205,\n",
       "         -1.51681755,   2.31713694,   6.15109144,   9.98504593,\n",
       "         13.81900043,  17.65295493,  21.48690942]),\n",
       " <a list of 10 Patch objects>)"
      ]
     },
     "execution_count": 263,
     "metadata": {},
     "output_type": "execute_result"
    },
    {
     "data": {
      "image/png": "[encoded data removed]",
      "text/plain": [
       "<Figure size 432x288 with 1 Axes>"
      ]
     },
     "metadata": {
      "needs_background": "light"
     },
     "output_type": "display_data"
    }
   ],
   "source": [
    "plt.hist(np.log(p))"
   ]
  },
  {
   "cell_type": "code",
   "execution_count": 265,
   "metadata": {},
   "outputs": [
    {
     "data": {
      "text/plain": [
       "<matplotlib.collections.PathCollection at 0x7f0016d2afd0>"
      ]
     },
     "execution_count": 265,
     "metadata": {},
     "output_type": "execute_result"
    },
    {
     "data": {
      "image/png": "[encoded data removed]",
      "text/plain": [
       "<Figure size 432x288 with 1 Axes>"
      ]
     },
     "metadata": {
      "needs_background": "light"
     },
     "output_type": "display_data"
    }
   ],
   "source": [
    "plt.scatter(np.log(p),tend)"
   ]
  },
  {
   "cell_type": "code",
   "execution_count": 252,
   "metadata": {},
   "outputs": [
    {
     "data": {
      "text/plain": [
       "(array([ 4.,  2.,  7., 14., 10.,  5.,  6.,  3.,  4.,  1.]),\n",
       " array([ 6. ,  8.6, 11.2, 13.8, 16.4, 19. , 21.6, 24.2, 26.8, 29.4, 32. ]),\n",
       " <a list of 10 Patch objects>)"
      ]
     },
     "execution_count": 252,
     "metadata": {},
     "output_type": "execute_result"
    },
    {
     "data": {
      "image/png": "[encoded data removed]",
      "text/plain": [
       "<Figure size 432x288 with 1 Axes>"
      ]
     },
     "metadata": {
      "needs_background": "light"
     },
     "output_type": "display_data"
    }
   ],
   "source": [
    "plt.hist(tend)"
   ]
  },
  {
   "cell_type": "code",
   "execution_count": 250,
   "metadata": {},
   "outputs": [
    {
     "data": {
      "text/plain": [
       "<matplotlib.collections.PathCollection at 0x7f0017028c50>"
      ]
     },
     "execution_count": 250,
     "metadata": {},
     "output_type": "execute_result"
    },
    {
     "data": {
      "image/png": "[encoded data removed]",
      "text/plain": [
       "<Figure size 432x288 with 1 Axes>"
      ]
     },
     "metadata": {
      "needs_background": "light"
     },
     "output_type": "display_data"
    }
   ],
   "source": [
    "plt.scatter(p,tend)"
   ]
  },
  {
   "cell_type": "code",
   "execution_count": 226,
   "metadata": {},
   "outputs": [
    {
     "data": {
      "text/plain": [
       "(56, 10)"
      ]
     },
     "execution_count": 226,
     "metadata": {},
     "output_type": "execute_result"
    }
   ],
   "source": [
    "time.shape"
   ]
  },
  {
   "cell_type": "code",
   "execution_count": 246,
   "metadata": {},
   "outputs": [
    {
     "data": {
      "text/plain": [
       "array([6.77619114e-01, 8.11974794e-01, 8.83682775e-01, 9.21480824e-01,\n",
       "       9.61018395e-01, 5.00917027e-04, 9.61040003e-01, 8.79433563e-01,\n",
       "       9.59851048e-01, 9.56625843e-01, 2.41879370e-01, 3.04900502e-01,\n",
       "       9.50197807e-01, 9.60685253e-01, 6.92953704e-01, 2.29776055e-01,\n",
       "       6.48650325e-01, 2.55909305e-01, 8.92337502e-01, 1.37866150e-01,\n",
       "       6.60326732e-01, 7.52056936e-01, 9.09319362e-01, 6.95180691e-02,\n",
       "       9.28665288e-01, 5.52694140e-01, 9.60924834e-01, 8.49419517e-01,\n",
       "       7.24249668e-01, 9.49528197e-01, 7.67966964e-01, 5.02447715e-01,\n",
       "       9.51225228e-01, 3.55561462e-01, 5.99683489e-01, 8.74730128e-01,\n",
       "       8.96734694e-01, 9.27289482e-01, 9.20606329e-01, 9.49755439e-01,\n",
       "       9.13848622e-01, 9.60912679e-01, 9.45574204e-01, 9.61044321e-01,\n",
       "       7.50427239e-01, 9.36594955e-01, 9.58730675e-01, 4.45934043e-01,\n",
       "       8.93909927e-01, 8.89910865e-01, 6.78401978e-01, 5.80258012e-01,\n",
       "       1.33603139e-01, 9.57613511e-01, 6.70172559e-01, 7.04300335e-01])"
      ]
     },
     "execution_count": 246,
     "metadata": {},
     "output_type": "execute_result"
    }
   ],
   "source": [
    "norm.pdf(fa[:,0],mu[0],std[0])"
   ]
  },
  {
   "cell_type": "code",
   "execution_count": 219,
   "metadata": {},
   "outputs": [
    {
     "data": {
      "text/plain": [
       "array([0.01847427, 0.01847427, 0.01847427, 0.01137399, 0.01847427,\n",
       "       0.01847427, 0.01137399, 0.01847427, 0.01847427, 0.00343837,\n",
       "       0.01847427, 0.01847427, 0.01847427, 0.01137399, 0.01847427,\n",
       "       0.01847427, 0.00343837, 0.01847427, 0.00531786, 0.01137399,\n",
       "       0.01847427, 0.01847427, 0.01847427, 0.01847427, 0.01847427,\n",
       "       0.01137399, 0.01137399, 0.01137399, 0.01847427, 0.01137399,\n",
       "       0.01847427, 0.01137399, 0.01847427, 0.01847427, 0.00531786,\n",
       "       0.01847427, 0.01847427, 0.00343837, 0.00531786, 0.01137399,\n",
       "       0.01137399, 0.01847427, 0.01137399, 0.01847427, 0.01847427,\n",
       "       0.01847427, 0.01847427, 0.01847427, 0.01847427, 0.01847427,\n",
       "       0.01137399, 0.01847427, 0.01137399, 0.01137399, 0.01847427,\n",
       "       0.01847427])"
      ]
     },
     "execution_count": 219,
     "metadata": {},
     "output_type": "execute_result"
    }
   ],
   "source": [
    "fy3[i,np.int8(np.array(f))[:,0]-1]"
   ]
  },
  {
   "cell_type": "code",
   "execution_count": 218,
   "metadata": {},
   "outputs": [
    {
     "data": {
      "text/plain": [
       "array([1, 1, 1, 2, 1, 1, 2, 1, 1, 4, 1, 1, 1, 2, 1, 1, 4, 1, 3, 2, 1, 1,\n",
       "       1, 1, 1, 2, 2, 2, 1, 2, 1, 2, 1, 1, 3, 1, 1, 4, 3, 2, 2, 1, 2, 1,\n",
       "       1, 1, 1, 1, 1, 1, 2, 1, 2, 2, 1, 1], dtype=int8)"
      ]
     },
     "execution_count": 218,
     "metadata": {},
     "output_type": "execute_result"
    }
   ],
   "source": [
    "np.int8(np.array(f))[:,0]"
   ]
  },
  {
   "cell_type": "code",
   "execution_count": 172,
   "metadata": {},
   "outputs": [
    {
     "data": {
      "text/plain": [
       "(array([38, 38, 38]), array([2, 6, 9]))"
      ]
     },
     "execution_count": 172,
     "metadata": {},
     "output_type": "execute_result"
    }
   ],
   "source": [
    "np.where(f=='0')"
   ]
  },
  {
   "cell_type": "code",
   "execution_count": 136,
   "metadata": {},
   "outputs": [
    {
     "data": {
      "text/plain": [
       "array([-12.9603552 ,   3.90693144,   8.37153187])"
      ]
     },
     "execution_count": 136,
     "metadata": {},
     "output_type": "execute_result"
    }
   ],
   "source": [
    "np.array([b[j],a[i],c[k]])*w2"
   ]
  },
  {
   "cell_type": "code",
   "execution_count": 108,
   "metadata": {},
   "outputs": [
    {
     "data": {
      "text/plain": [
       "array([0.01785714, 0.94642857, 0.03571429, 0.        , 0.        ,\n",
       "       0.        ])"
      ]
     },
     "execution_count": 108,
     "metadata": {},
     "output_type": "execute_result"
    }
   ],
   "source": [
    "np.hstack((np.zeros(m),np.bincount(np.int8(f.iloc[:,6]))/np.bincount(np.int8(f.iloc[:,6])).sum(),np.zeros(5-n)))"
   ]
  },
  {
   "cell_type": "code",
   "execution_count": 109,
   "metadata": {},
   "outputs": [
    {
     "data": {
      "text/plain": [
       "array([0., 0., 0.])"
      ]
     },
     "execution_count": 109,
     "metadata": {},
     "output_type": "execute_result"
    }
   ],
   "source": [
    "np.zeros(5-n)"
   ]
  },
  {
   "cell_type": "code",
   "execution_count": 86,
   "metadata": {},
   "outputs": [
    {
     "data": {
      "text/plain": [
       "array([0.01818182, 0.96363636, 0.03636364])"
      ]
     },
     "execution_count": 86,
     "metadata": {},
     "output_type": "execute_result"
    }
   ],
   "source": [
    "np.bincount(np.int8(f.iloc[:,6]))[0::]/np.bincount(np.int8(f.iloc[:,6]))[1::].sum()"
   ]
  },
  {
   "cell_type": "code",
   "execution_count": 85,
   "metadata": {},
   "outputs": [
    {
     "data": {
      "text/plain": [
       "array([1, 1, 1, 1, 1, 1, 2, 1, 2, 1, 1, 1, 1, 1, 1, 1, 1, 1, 1, 1, 1, 1,\n",
       "       1, 1, 1, 1, 1, 1, 1, 1, 1, 1, 1, 1, 1, 1, 1, 1, 0, 1, 1, 1, 1, 1,\n",
       "       1, 1, 1, 1, 1, 1, 1, 1, 1, 1, 1, 1], dtype=int8)"
      ]
     },
     "execution_count": 85,
     "metadata": {},
     "output_type": "execute_result"
    }
   ],
   "source": [
    "np.int8(f.iloc[:,6])"
   ]
  },
  {
   "cell_type": "code",
   "execution_count": 81,
   "metadata": {},
   "outputs": [
    {
     "ename": "ValueError",
     "evalue": "operands could not be broadcast together with shapes (4,) (2,) ",
     "output_type": "error",
     "traceback": [
      "\u001b[0;31m---------------------------------------------------------------------------\u001b[0m",
      "\u001b[0;31mValueError\u001b[0m                                Traceback (most recent call last)",
      "\u001b[0;32m<ipython-input-81-c28ee289e209>\u001b[0m in \u001b[0;36m<module>\u001b[0;34m\u001b[0m\n\u001b[0;32m----> 1\u001b[0;31m \u001b[0mnp\u001b[0m\u001b[0;34m.\u001b[0m\u001b[0msum\u001b[0m\u001b[0;34m(\u001b[0m\u001b[0mnp\u001b[0m\u001b[0;34m.\u001b[0m\u001b[0marange\u001b[0m\u001b[0;34m(\u001b[0m\u001b[0;36m5\u001b[0m\u001b[0;34m)\u001b[0m\u001b[0;34m[\u001b[0m\u001b[0;36m1\u001b[0m\u001b[0;34m:\u001b[0m\u001b[0;34m:\u001b[0m\u001b[0;34m]\u001b[0m\u001b[0;34m*\u001b[0m\u001b[0meval\u001b[0m\u001b[0;34m(\u001b[0m\u001b[0;34m'prior'\u001b[0m\u001b[0;34m+\u001b[0m\u001b[0mstr\u001b[0m\u001b[0;34m(\u001b[0m\u001b[0;36m6\u001b[0m\u001b[0;34m)\u001b[0m\u001b[0;34m)\u001b[0m\u001b[0;34m)\u001b[0m\u001b[0;34m\u001b[0m\u001b[0;34m\u001b[0m\u001b[0m\n\u001b[0m",
      "\u001b[0;31mValueError\u001b[0m: operands could not be broadcast together with shapes (4,) (2,) "
     ]
    }
   ],
   "source": [
    "np.sum(np.arange(5)[1::]*eval('prior'+str(6)))"
   ]
  },
  {
   "cell_type": "code",
   "execution_count": 64,
   "metadata": {},
   "outputs": [
    {
     "data": {
      "text/plain": [
       "'prior1'"
      ]
     },
     "execution_count": 64,
     "metadata": {},
     "output_type": "execute_result"
    }
   ],
   "source": [
    "name='prior'+str(i)\n",
    "name"
   ]
  },
  {
   "cell_type": "code",
   "execution_count": 58,
   "metadata": {},
   "outputs": [
    {
     "data": {
      "text/plain": [
       "array([ 0,  5, 25, 22,  4])"
      ]
     },
     "execution_count": 58,
     "metadata": {},
     "output_type": "execute_result"
    }
   ],
   "source": [
    "np.bincount(np.int8(f.iloc[:,1]))"
   ]
  },
  {
   "cell_type": "code",
   "execution_count": 20,
   "metadata": {},
   "outputs": [
    {
     "data": {
      "text/plain": [
       "<matplotlib.collections.PathCollection at 0x7f0017681908>"
      ]
     },
     "execution_count": 20,
     "metadata": {},
     "output_type": "execute_result"
    },
    {
     "data": {
      "image/png": "[encoded data removed]",
      "text/plain": [
       "<Figure size 432x288 with 1 Axes>"
      ]
     },
     "metadata": {
      "needs_background": "light"
     },
     "output_type": "display_data"
    }
   ],
   "source": [
    "import matplotlib.pyplot as plt\n",
    "plt.scatter(tend,Fy)"
   ]
  },
  {
   "cell_type": "code",
   "execution_count": 16,
   "metadata": {},
   "outputs": [
    {
     "name": "stdout",
     "output_type": "stream",
     "text": [
      "5.157225537441618\n",
      "-0.0018088047061173285\n"
     ]
    }
   ],
   "source": [
    "choice3_t=np.int8(data_T.iloc[:,37])\n",
    "choice4_t=np.int8(data_T.iloc[:,38])\n",
    "tend_t=np.int8(choice3_t)+np.int8(choice4_t)\n",
    "f1,f2,f3,f4,f5,f6,f7,f8,f9=gen_f(data_T)\n",
    "Fy_t=f1*f2*f3*f4*f5\n",
    "print(mean_absolute_error(tend_t, lin_reg.predict(Fy_t.reshape(-1, 1))))\n",
    "print(r2_score(tend_t, lin_reg.predict(Fy_t.reshape(-1, 1))))"
   ]
  }
 ],
 "metadata": {
  "kernelspec": {
   "display_name": "Python 3",
   "language": "python",
   "name": "python3"
  },
  "language_info": {
   "codemirror_mode": {
    "name": "ipython",
    "version": 3
   },
   "file_extension": ".py",
   "mimetype": "text/x-python",
   "name": "python",
   "nbconvert_exporter": "python",
   "pygments_lexer": "ipython3",
   "version": "3.6.8"
  }
 },
 "nbformat": 4,
 "nbformat_minor": 2
}
