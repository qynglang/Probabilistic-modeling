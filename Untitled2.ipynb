{
 "cells": [
  {
   "cell_type": "code",
   "execution_count": 1,
   "metadata": {},
   "outputs": [],
   "source": [
    "import pandas as pd\n",
    "data = pd.read_csv(\"data.csv\") "
   ]
  },
  {
   "cell_type": "code",
   "execution_count": 2,
   "metadata": {},
   "outputs": [],
   "source": [
    "import numpy as np\n",
    "data_p=np.zeros((105*10,13))\n",
    "# data_clean=np.array(data)\n",
    "# data_clean=np.delete(data_clean,[10,33,36,37,43,55,64,72,87,114],0)\n",
    "data_clean=np.array(data)\n",
    "data_clean[np.where(data_clean==' ')]=np.nan\n",
    "for i in range (0,105):\n",
    "    data_p[i*10:i*10+10,0]=data_clean[i,0] #ID\n",
    "    data_p[i*10:i*10+10,1]=data_clean[i,1:11] #time\n",
    "    data_p[i*10:i*10+10,2]=data_clean[i,11:21] #choice\n",
    "    data_p[i*10:i*10+10,3]=data_clean[i,21:31] #familarity\n",
    "    data_p[i*10:i*10+10,4]=data_clean[i,31] #stress\n",
    "    data_p[i*10:i*10+10,5]=data_clean[i,32] #tired\n",
    "    data_p[i*10:i*10+10,6]=data_clean[i,33] #pay off\n",
    "    data_p[i*10:i*10+10,7]=data_clean[i,34] #risk\n",
    "    data_p[i*10:i*10+10,8]=data_clean[i,35] #bounce 4\n",
    "    data_p[i*10:i*10+10,9]=data_clean[i,36] #bounce 3\n",
    "    data_p[i*10:i*10+10,10]=data_clean[i,37] #choice 4 include 3?\n",
    "    data_p[i*10:i*10+10,11]=data_clean[i,38] #choice 3\n",
    "    data_p[i*10:i*10+10,12]=data_clean[i,39] #delay"
   ]
  },
  {
   "cell_type": "code",
   "execution_count": 22,
   "metadata": {},
   "outputs": [],
   "source": [
    "y=data_p[np.where(data_p[:,3]==1),1]\n",
    "y=y[~np.isnan(y)]"
   ]
  },
  {
   "cell_type": "code",
   "execution_count": 4,
   "metadata": {},
   "outputs": [
    {
     "data": {
      "text/plain": [
       "746.9362255813953"
      ]
     },
     "execution_count": 4,
     "metadata": {},
     "output_type": "execute_result"
    }
   ],
   "source": [
    "y.mean()"
   ]
  },
  {
   "cell_type": "code",
   "execution_count": 5,
   "metadata": {},
   "outputs": [
    {
     "data": {
      "text/plain": [
       "500.47255173221646"
      ]
     },
     "execution_count": 5,
     "metadata": {},
     "output_type": "execute_result"
    }
   ],
   "source": [
    "y.std()"
   ]
  },
  {
   "cell_type": "code",
   "execution_count": 6,
   "metadata": {},
   "outputs": [],
   "source": [
    "def pdf(x, mu=0.0, sigma=1.0):\n",
    "    x = (x - mu) / sigma\n",
    "    return np.exp(-x*x/2.0) / np.sqrt(2.0*np.pi) / sigma"
   ]
  },
  {
   "cell_type": "code",
   "execution_count": 24,
   "metadata": {},
   "outputs": [],
   "source": [
    "x=np.linspace(0, 4000, 1000)"
   ]
  },
  {
   "cell_type": "code",
   "execution_count": 26,
   "metadata": {},
   "outputs": [
    {
     "data": {
      "text/plain": [
       "(array([ 97., 156., 101.,  39.,  17.,  11.,   5.,   1.,   0.,   3.]),\n",
       " array([  56.298 ,  400.5274,  744.7568, 1088.9862, 1433.2156, 1777.445 ,\n",
       "        2121.6744, 2465.9038, 2810.1332, 3154.3626, 3498.592 ]),\n",
       " <a list of 10 Patch objects>)"
      ]
     },
     "execution_count": 26,
     "metadata": {},
     "output_type": "execute_result"
    },
    {
     "data": {
      "image/png": "[encoded data removed]",
      "text/plain": [
       "<Figure size 432x288 with 1 Axes>"
      ]
     },
     "metadata": {
      "needs_background": "light"
     },
     "output_type": "display_data"
    }
   ],
   "source": [
    "plt.hist(y)"
   ]
  },
  {
   "cell_type": "code",
   "execution_count": 25,
   "metadata": {},
   "outputs": [
    {
     "data": {
      "text/plain": [
       "[<matplotlib.lines.Line2D at 0x11668c950>]"
      ]
     },
     "execution_count": 25,
     "metadata": {},
     "output_type": "execute_result"
    },
    {
     "data": {
      "image/png": "[encoded data removed]",
      "text/plain": [
       "<Figure size 432x288 with 1 Axes>"
      ]
     },
     "metadata": {
      "needs_background": "light"
     },
     "output_type": "display_data"
    }
   ],
   "source": [
    "import matplotlib.pyplot as plt\n",
    "plt.plot(pdf(x,y.mean(),y.std()))"
   ]
  },
  {
   "cell_type": "code",
   "execution_count": 17,
   "metadata": {},
   "outputs": [],
   "source": [
    "import random\n",
    "y=random.sample(pdf(x,y.mean(),y.std())**2,430)"
   ]
  },
  {
   "cell_type": "code",
   "execution_count": 20,
   "metadata": {},
   "outputs": [
    {
     "data": {
      "text/plain": [
       "[4.770578753778992e-09,\n",
       " 4.0124580432610236e-22,\n",
       " 3.4513794604881786e-09,\n",
       " 5.885564999217894e-09,\n",
       " 5.313879365177828e-16,\n",
       " 2.430982764668555e-12,\n",
       " 4.2627097654023384e-08,\n",
       " 2.7802531219102436e-17,\n",
       " 2.2430226156324121e-07,\n",
       " 3.255987268997304e-08,\n",
       " 2.099058059137472e-07,\n",
       " 3.2790276068794595e-23,\n",
       " 3.674264129146481e-11,\n",
       " 5.504653047822114e-24,\n",
       " 1.4636175004729744e-11,\n",
       " 2.5813999060372356e-11,\n",
       " 2.9476044435869153e-16,\n",
       " 3.459885946377559e-07,\n",
       " 3.323870101428987e-11,\n",
       " 6.34612281464804e-07,\n",
       " 1.6711350111225218e-07,\n",
       " 3.2171818091731962e-18,\n",
       " 2.0507032416843626e-12,\n",
       " 7.354568549865424e-08,\n",
       " 1.8767266388875365e-14,\n",
       " 1.1790245292334818e-15,\n",
       " 1.5358391281975983e-14,\n",
       " 1.173528561994732e-14,\n",
       " 9.193790257068277e-18,\n",
       " 3.0306559890066315e-07,\n",
       " 2.6006226488334516e-08,\n",
       " 1.8598071228270669e-07,\n",
       " 1.9421056354414863e-15,\n",
       " 8.660743403626406e-08,\n",
       " 3.7121158115626335e-09,\n",
       " 5.855336942350049e-10,\n",
       " 7.808141797721518e-15,\n",
       " 1.2905527281097348e-10,\n",
       " 3.1849472282577213e-14,\n",
       " 1.011261313504033e-07,\n",
       " 2.31884547721857e-18,\n",
       " 3.681782665708535e-24,\n",
       " 1.1991788541518474e-16,\n",
       " 1.2380382654151746e-21,\n",
       " 5.299310694271187e-25,\n",
       " 1.7867953027804956e-13,\n",
       " 6.033309956846825e-07,\n",
       " 4.540851534131137e-07,\n",
       " 1.4613332853501829e-15,\n",
       " 3.599320341090232e-12,\n",
       " 5.836086902985246e-07,\n",
       " 5.661888425813535e-07,\n",
       " 4.789663560860885e-07,\n",
       " 4.281097201955678e-07,\n",
       " 4.979037466948821e-24,\n",
       " 2.2065549438855503e-07,\n",
       " 2.368512527903177e-21,\n",
       " 4.731489363458448e-10,\n",
       " 5.255766502653332e-07,\n",
       " 3.241437452304089e-07,\n",
       " 6.516976110103233e-17,\n",
       " 9.536811725278286e-14,\n",
       " 2.8002540255217877e-10,\n",
       " 4.7895301438101406e-17,\n",
       " 3.6331965556734417e-07,\n",
       " 1.3437422088525136e-08,\n",
       " 1.3428604643539877e-14,\n",
       " 1.7028014779099755e-22,\n",
       " 6.052920791110074e-07,\n",
       " 1.1469054091097223e-07,\n",
       " 1.0697509569329467e-10,\n",
       " 8.621142934622534e-12,\n",
       " 3.2840598157818193e-07,\n",
       " 4.285170873051376e-07,\n",
       " 2.94758996625044e-07,\n",
       " 1.6245496633649388e-11,\n",
       " 6.337269545726977e-07,\n",
       " 3.803255783111374e-07,\n",
       " 2.2464902555666688e-07,\n",
       " 6.184769504682604e-07,\n",
       " 3.404386926332586e-12,\n",
       " 5.692377636888257e-07,\n",
       " 2.6144554852940686e-14,\n",
       " 2.434029022774462e-13,\n",
       " 2.744881376813342e-22,\n",
       " 6.927784722632503e-10,\n",
       " 2.7632896196864413e-15,\n",
       " 1.8637576302053733e-19,\n",
       " 5.985773158164699e-07,\n",
       " 7.70646067449813e-08,\n",
       " 1.4602958271561584e-20,\n",
       " 3.833113582454727e-08,\n",
       " 3.6801422415622833e-16,\n",
       " 5.648951024684747e-08,\n",
       " 4.2643243183117376e-16,\n",
       " 9.243196712998021e-08,\n",
       " 5.4582303059214014e-11,\n",
       " 3.5422892632546467e-07,\n",
       " 1.1752774683841624e-10,\n",
       " 1.3605966387981413e-15,\n",
       " 5.636140498734341e-19,\n",
       " 1.7101398173046934e-19,\n",
       " 5.252297186651699e-07,\n",
       " 1.0038934745043432e-09,\n",
       " 1.171095639873351e-07,\n",
       " 1.1595130541493705e-22,\n",
       " 2.625818707004855e-19,\n",
       " 1.9671448315003947e-18,\n",
       " 1.557628299209165e-09,\n",
       " 6.305929194557189e-09,\n",
       " 8.609978400174373e-13,\n",
       " 1.2644971813207618e-17,\n",
       " 7.25359731676653e-19,\n",
       " 6.23704091944159e-12,\n",
       " 5.2394453104591504e-08,\n",
       " 3.30511674927726e-13,\n",
       " 5.564051306562223e-07,\n",
       " 1.492192832936656e-07,\n",
       " 3.981754803586618e-07,\n",
       " 7.887985931814217e-19,\n",
       " 1.577557692500074e-13,\n",
       " 5.215415169949288e-07,\n",
       " 9.732010603684424e-11,\n",
       " 2.4575185905129267e-24,\n",
       " 3.885642202029022e-25,\n",
       " 2.197951740732838e-17,\n",
       " 2.1345687414371523e-07,\n",
       " 8.948537575790989e-15,\n",
       " 1.5183610578966861e-07,\n",
       " 2.3310447845382526e-11,\n",
       " 4.502908323462335e-21,\n",
       " 1.2221578119974468e-08,\n",
       " 9.324481900008927e-19,\n",
       " 2.517132933209381e-18,\n",
       " 4.243708315203622e-20,\n",
       " 2.6636201646012965e-07,\n",
       " 1.278148497874934e-09,\n",
       " 3.327322624193709e-09,\n",
       " 1.0091866775413715e-07,\n",
       " 3.409191437879573e-15,\n",
       " 4.340973028758087e-10,\n",
       " 5.939959187691671e-07,\n",
       " 3.6725689667813086e-07,\n",
       " 3.585653048356193e-07,\n",
       " 1.9635352260563933e-07,\n",
       " 1.9999458023349062e-08,\n",
       " 4.376030023762225e-08,\n",
       " 3.1790595057795335e-15,\n",
       " 1.0881920151544421e-24,\n",
       " 1.901236677986376e-13,\n",
       " 3.1144677011166894e-07,\n",
       " 1.1230710750328402e-07,\n",
       " 1.6992592420348434e-07,\n",
       " 1.307476688172139e-13,\n",
       " 8.071055789479755e-08,\n",
       " 4.4917877481684876e-08,\n",
       " 4.7076571173829846e-07,\n",
       " 1.1979848364879752e-07,\n",
       " 2.7839457830730893e-07,\n",
       " 2.006238535500978e-24,\n",
       " 6.543825595016909e-08,\n",
       " 1.0075088196130347e-08,\n",
       " 8.223061327786173e-16,\n",
       " 3.8509854243677485e-07,\n",
       " 1.3009922971910703e-18,\n",
       " 4.107189053789226e-18,\n",
       " 7.222973426342155e-10,\n",
       " 7.036317756091136e-17,\n",
       " 1.5537433695026821e-10,\n",
       " 1.2202394307429863e-20,\n",
       " 5.53134928587413e-07,\n",
       " 7.432758904716086e-24,\n",
       " 6.951252447928612e-12,\n",
       " 1.7336534979539238e-07,\n",
       " 3.5348205800326805e-08,\n",
       " 3.934057881719077e-07,\n",
       " 1.5971854496577338e-20,\n",
       " 3.750177484528042e-21,\n",
       " 7.887156455231338e-08,\n",
       " 2.7435963055085714e-07,\n",
       " 4.662358217230174e-07,\n",
       " 3.9617330997258406e-16,\n",
       " 2.4106230560437517e-19,\n",
       " 1.8022540398408022e-11,\n",
       " 3.629083077396805e-07,\n",
       " 3.763790746151391e-07,\n",
       " 4.610017388773683e-08,\n",
       " 5.716817395830141e-16,\n",
       " 4.503034161540862e-24,\n",
       " 1.6316201479384637e-12,\n",
       " 3.160803402513792e-11,\n",
       " 8.950149138720564e-14,\n",
       " 2.9128947080057844e-08,\n",
       " 5.8752594431118395e-25,\n",
       " 5.935784999854751e-08,\n",
       " 6.23399042402705e-08,\n",
       " 6.353323113104386e-07,\n",
       " 2.442456253728033e-23,\n",
       " 1.1102188634194108e-19,\n",
       " 1.8961220008465364e-07,\n",
       " 4.0211743774265834e-07,\n",
       " 2.6782597033318234e-10,\n",
       " 2.7474050482903097e-07,\n",
       " 1.8172226932482223e-23,\n",
       " 1.6100464000636402e-07,\n",
       " 1.1838223617108146e-08,\n",
       " 1.1017983670576556e-07,\n",
       " 4.4562543053293936e-07,\n",
       " 6.268691164050154e-07,\n",
       " 1.6270135969634849e-10,\n",
       " 5.102395204780345e-07,\n",
       " 8.521494105280416e-22,\n",
       " 1.5355577608074051e-18,\n",
       " 6.084976592125781e-24,\n",
       " 6.703183599540163e-08,\n",
       " 9.058662339609701e-08,\n",
       " 3.245465419094113e-07,\n",
       " 3.5127735856835026e-17,\n",
       " 6.245036198179632e-07,\n",
       " 6.406025771138427e-13,\n",
       " 1.3726900438531822e-12,\n",
       " 2.5659822458639867e-09,\n",
       " 2.1024050219652292e-07,\n",
       " 4.5828704080934545e-07,\n",
       " 6.083450019902941e-08,\n",
       " 1.7482387425803095e-16,\n",
       " 5.9149547581591e-07,\n",
       " 2.6277449527179764e-07,\n",
       " 6.31794397835853e-07,\n",
       " 4.751004080770012e-13,\n",
       " 6.583037319216012e-20,\n",
       " 1.9296577371124952e-07,\n",
       " 3.7965947286137984e-17,\n",
       " 1.4911376772584753e-23,\n",
       " 9.437231577324648e-09,\n",
       " 2.4951342127185905e-20,\n",
       " 3.0444507501625225e-12,\n",
       " 6.512970632256299e-25,\n",
       " 1.6198453151695698e-09,\n",
       " 5.7317449938370964e-11,\n",
       " 4.760538447697382e-19,\n",
       " 1.669079418116172e-08,\n",
       " 5.363742476374065e-07,\n",
       " 1.2738827638821275e-07,\n",
       " 9.331903174308595e-20,\n",
       " 6.3580532465609974e-15,\n",
       " 2.5067401231137286e-07,\n",
       " 5.689516179429788e-07,\n",
       " 1.0136093496225494e-18,\n",
       " 3.6320437839581923e-08,\n",
       " 1.0304052883564809e-16,\n",
       " 6.281001293735855e-07,\n",
       " 6.301058599780123e-07,\n",
       " 3.8073821584667755e-07,\n",
       " 7.151781946009312e-23,\n",
       " 5.906809513019396e-12,\n",
       " 4.409665378430428e-07,\n",
       " 4.473608347847673e-13,\n",
       " 8.448572755552805e-08,\n",
       " 2.005895282587224e-14,\n",
       " 2.1854370143923273e-08,\n",
       " 3.219598611524298e-12,\n",
       " 2.0309455521503844e-16,\n",
       " 7.732102050758696e-09,\n",
       " 7.839880850162319e-20,\n",
       " 1.6361158475840023e-21,\n",
       " 2.3773647008654406e-17,\n",
       " 6.1548091617933726e-18,\n",
       " 4.938782090308851e-10,\n",
       " 6.113773764253183e-07,\n",
       " 1.6843318597527695e-09,\n",
       " 3.369698906870715e-07,\n",
       " 2.792611426588721e-14,\n",
       " 7.759293472712016e-22,\n",
       " 4.745636786300628e-12,\n",
       " 2.4681956200090954e-07,\n",
       " 5.748888250907316e-07,\n",
       " 3.8854612287947545e-20,\n",
       " 1.636989676427193e-24,\n",
       " 1.1251001132839002e-11,\n",
       " 1.809153219282948e-15,\n",
       " 4.1028224805799803e-17,\n",
       " 4.0189070296988324e-19,\n",
       " 5.63084164506058e-07,\n",
       " 1.3587816037027273e-21,\n",
       " 1.8929658195259577e-07,\n",
       " 5.464421745710786e-07,\n",
       " 3.512305047758332e-13,\n",
       " 1.812349916952146e-24,\n",
       " 6.010989747143698e-07,\n",
       " 5.751640194705253e-07,\n",
       " 1.6375220736280902e-07,\n",
       " 4.532316979298952e-10,\n",
       " 5.301878811644911e-09,\n",
       " 1.392109238699245e-13,\n",
       " 6.168127949686798e-07,\n",
       " 4.9332185142939105e-21,\n",
       " 7.528940783862668e-08,\n",
       " 1.3179526610089112e-11,\n",
       " 1.3300531888490962e-09,\n",
       " 9.577912373685267e-15,\n",
       " 1.5503967979622724e-07,\n",
       " 2.0323042853753231e-07,\n",
       " 2.9515030935754653e-07,\n",
       " 6.584891525733575e-12,\n",
       " 9.751569769410572e-09,\n",
       " 1.0973272649002076e-15,\n",
       " 1.941185382093276e-08,\n",
       " 3.492104309494531e-10,\n",
       " 1.2554229798876247e-14,\n",
       " 5.343555039454678e-23,\n",
       " 5.912554473369102e-07,\n",
       " 6.318152153900728e-11,\n",
       " 5.588312857152154e-17,\n",
       " 5.288762942474851e-07,\n",
       " 3.5796033971552876e-09,\n",
       " 1.9977517183785578e-07,\n",
       " 2.1706248357089216e-12,\n",
       " 3.589760792559094e-07,\n",
       " 6.169734902307063e-07,\n",
       " 1.088615655751683e-09,\n",
       " 5.02887987552635e-07,\n",
       " 4.950376468513226e-07,\n",
       " 3.400671737645472e-14,\n",
       " 9.822712743243896e-25,\n",
       " 1.1072996509236913e-23,\n",
       " 4.785806056898889e-07,\n",
       " 5.935697936244048e-15,\n",
       " 1.6679325322601327e-18,\n",
       " 4.826441599071285e-07,\n",
       " 6.094201860788851e-07,\n",
       " 3.2029727142588904e-07,\n",
       " 1.7022161908479654e-07,\n",
       " 2.3578267879778808e-07,\n",
       " 1.7279190512248703e-12,\n",
       " 1.522144366376841e-08,\n",
       " 3.3308700720182383e-07,\n",
       " 8.839220420429874e-08,\n",
       " 4.866799111629358e-07,\n",
       " 1.0118297092620608e-11,\n",
       " 2.2057171194639767e-09,\n",
       " 1.413507897212542e-18,\n",
       " 6.503267970254552e-14,\n",
       " 5.889301622430878e-07,\n",
       " 2.96488634189516e-18,\n",
       " 4.194788591497143e-07,\n",
       " 3.288100908729366e-07,\n",
       " 2.2827449452539017e-20,\n",
       " 7.337057134891911e-12,\n",
       " 6.986722838463087e-09,\n",
       " 1.3349676675756307e-20,\n",
       " 2.2832979557446617e-07,\n",
       " 2.471831673170257e-07,\n",
       " 6.031227000395517e-07,\n",
       " 7.392271113629869e-14,\n",
       " 1.323772724400254e-07,\n",
       " 3.6919049141933715e-19,\n",
       " 8.213196606116395e-24,\n",
       " 5.295840816944596e-12,\n",
       " 5.324800179307666e-07,\n",
       " 3.319542507262787e-22,\n",
       " 6.48199244162901e-21,\n",
       " 6.490455868592393e-23,\n",
       " 5.718248561394192e-14,\n",
       " 5.596230222306444e-07,\n",
       " 1.6462308866488173e-23,\n",
       " 7.848605421399448e-10,\n",
       " 2.7034855313538654e-07,\n",
       " 5.918859900491256e-21,\n",
       " 2.3542728617246468e-07,\n",
       " 6.798021744027521e-13,\n",
       " 6.150743739115588e-07,\n",
       " 6.725619240807274e-24,\n",
       " 2.2886888514415425e-13,\n",
       " 3.7314633448732716e-08,\n",
       " 4.4946376583750007e-07,\n",
       " 4.0720161626218744e-24,\n",
       " 1.3865461344546679e-08,\n",
       " 1.6790275581786333e-13,\n",
       " 4.830273333177978e-07,\n",
       " 1.7736984792483645e-08,\n",
       " 2.787776763660583e-07,\n",
       " 9.501584641781581e-16,\n",
       " 1.2225410587348632e-12,\n",
       " 2.1436797208251665e-14,\n",
       " 6.643809243082929e-10,\n",
       " 3.005351887027778e-11,\n",
       " 6.525986348870571e-09,\n",
       " 7.370937876156926e-08,\n",
       " 8.46676153057738e-08,\n",
       " 1.2974249364803578e-07,\n",
       " 9.131856875837026e-09,\n",
       " 5.43021944772618e-07,\n",
       " 5.119165262825536e-09,\n",
       " 2.9727695413962673e-23,\n",
       " 6.336770485330499e-07,\n",
       " 5.373225577814213e-08,\n",
       " 1.250410253356844e-11,\n",
       " 1.994498863730809e-07,\n",
       " 1.2205486718212626e-07,\n",
       " 7.218975945445787e-25,\n",
       " 8.258185742924018e-08,\n",
       " 5.540689680929841e-15,\n",
       " 9.63852914963088e-10,\n",
       " 6.115588839272404e-07,\n",
       " 6.331056295002407e-07,\n",
       " 4.7037516783649967e-07,\n",
       " 4.1122242266753364e-07,\n",
       " 7.665303759084324e-11,\n",
       " 1.326285156003598e-07,\n",
       " 7.743283232363604e-12,\n",
       " 6.215799839944471e-07,\n",
       " 1.969046899951326e-21,\n",
       " 2.495530373034136e-22,\n",
       " 5.395540474412336e-07,\n",
       " 8.85803556529211e-08,\n",
       " 1.580041250838558e-07,\n",
       " 6.430848090270593e-22,\n",
       " 5.567119458817394e-07,\n",
       " 1.1278799643311702e-21,\n",
       " 2.9890257319163297e-07,\n",
       " 1.0408007222712606e-08,\n",
       " 1.1213452426793192e-10,\n",
       " 1.205380135660374e-24,\n",
       " 3.655514619027494e-15,\n",
       " 2.238297219659315e-10,\n",
       " 3.7596660625113057e-07,\n",
       " 1.19564301549927e-07,\n",
       " 2.5882674738275244e-13,\n",
       " 2.8571798513753748e-11]"
      ]
     },
     "execution_count": 20,
     "metadata": {},
     "output_type": "execute_result"
    }
   ],
   "source": [
    "y"
   ]
  },
  {
   "cell_type": "code",
   "execution_count": 27,
   "metadata": {},
   "outputs": [],
   "source": [
    "%matplotlib inline\n",
    "\n",
    "import warnings\n",
    "import numpy as np\n",
    "import pandas as pd\n",
    "import scipy.stats as st\n",
    "import statsmodels as sm\n",
    "import matplotlib\n",
    "import matplotlib.pyplot as plt\n",
    "\n",
    "matplotlib.rcParams['figure.figsize'] = (16.0, 12.0)\n",
    "matplotlib.style.use('ggplot')"
   ]
  },
  {
   "cell_type": "code",
   "execution_count": 38,
   "metadata": {},
   "outputs": [
    {
     "data": {
      "text/plain": [
       "[<matplotlib.lines.Line2D at 0x1a199c0b50>]"
      ]
     },
     "execution_count": 38,
     "metadata": {},
     "output_type": "execute_result"
    },
    {
     "data": {
      "image/png": "[encoded data removed]",
      "text/plain": [
       "<Figure size 1152x864 with 1 Axes>"
      ]
     },
     "metadata": {},
     "output_type": "display_data"
    }
   ],
   "source": [
    "from scipy.stats import genextreme\n",
    "import matplotlib.pyplot as plt\n",
    "fig, ax = plt.subplots(1, 1)\n",
    "c = -0.15419966666313223\n",
    "mean, var, skew, kurt = genextreme.stats(c, moments='mvsk')\n",
    "x = np.linspace(genextreme.ppf(0.01, c),\n",
    "                 genextreme.ppf(0.99, c), 430)\n",
    "#ax.plot(x, genextreme.pdf(x, c, 511.7228387990196, 312.7722836897374),\n",
    "#        'r-', lw=5, alpha=0.6, label='genextreme pdf')\n",
    "ax.plot(x, genextreme.pdf(x, c, 511.7228387990196, 312.7722836897374),\n",
    "        'r-', label='genextreme pdf')\n",
    "rv = genextreme(-0.15419966666313223, 511.7228387990196, 312.7722836897374)\n",
    "ax.plot(x, rv.pdf(x), 'k-', label='frozen pdf')"
   ]
  },
  {
   "cell_type": "code",
   "execution_count": 35,
   "metadata": {},
   "outputs": [],
   "source": [
    "rv = genextreme(-0.15419966666313223, 511.7228387990196, 312.7722836897374)"
   ]
  },
  {
   "cell_type": "code",
   "execution_count": 37,
   "metadata": {},
   "outputs": [
    {
     "data": {
      "text/plain": [
       "[<matplotlib.lines.Line2D at 0x1a18a8af10>]"
      ]
     },
     "execution_count": 37,
     "metadata": {},
     "output_type": "execute_result"
    }
   ],
   "source": [
    "ax.plot(x, rv.pdf(x), 'k-', label='frozen pdf')"
   ]
  },
  {
   "cell_type": "code",
   "execution_count": 39,
   "metadata": {},
   "outputs": [],
   "source": [
    "r = genextreme.rvs(-0.15419966666313223, 511.7228387990196, 312.7722836897374, size=1000)"
   ]
  },
  {
   "cell_type": "code",
   "execution_count": 40,
   "metadata": {},
   "outputs": [
    {
     "data": {
      "text/plain": [
       "(array([187., 497., 213.,  56.,  25.,  13.,   2.,   5.,   1.,   1.]),\n",
       " array([-126.30390822,  367.28836946,  860.88064713, 1354.47292481,\n",
       "        1848.06520249, 2341.65748017, 2835.24975785, 3328.84203553,\n",
       "        3822.43431321, 4316.02659089, 4809.61886857]),\n",
       " <a list of 10 Patch objects>)"
      ]
     },
     "execution_count": 40,
     "metadata": {},
     "output_type": "execute_result"
    },
    {
     "data": {
      "image/png": "[encoded data removed]",
      "text/plain": [
       "<Figure size 1152x864 with 1 Axes>"
      ]
     },
     "metadata": {},
     "output_type": "display_data"
    }
   ],
   "source": [
    "plt.hist(r)"
   ]
  },
  {
   "cell_type": "code",
   "execution_count": 41,
   "metadata": {},
   "outputs": [],
   "source": [
    "y=data_p[np.where(data_p[:,3]==2),1]\n",
    "y=y[~np.isnan(y)]"
   ]
  },
  {
   "cell_type": "code",
   "execution_count": 44,
   "metadata": {
    "scrolled": true
   },
   "outputs": [
    {
     "data": {
      "text/plain": [
       "(array([61., 74., 48., 27.,  6.,  7.,  3.,  2.,  3.,  1.]),\n",
       " array([  43.284 ,  315.3936,  587.5032,  859.6128, 1131.7224, 1403.832 ,\n",
       "        1675.9416, 1948.0512, 2220.1608, 2492.2704, 2764.38  ]),\n",
       " <a list of 10 Patch objects>)"
      ]
     },
     "execution_count": 44,
     "metadata": {},
     "output_type": "execute_result"
    },
    {
     "data": {
      "image/png": "[encoded data removed]",
      "text/plain": [
       "<Figure size 1152x864 with 1 Axes>"
      ]
     },
     "metadata": {},
     "output_type": "display_data"
    }
   ],
   "source": []
  },
  {
   "cell_type": "code",
   "execution_count": 47,
   "metadata": {},
   "outputs": [],
   "source": [
    "%matplotlib inline\n",
    "\n",
    "import warnings\n",
    "import numpy as np\n",
    "import pandas as pd\n",
    "import scipy.stats as st\n",
    "import statsmodels as sm\n",
    "import matplotlib\n",
    "import matplotlib.pyplot as plt\n",
    "\n",
    "matplotlib.rcParams['figure.figsize'] = (16.0, 12.0)\n",
    "matplotlib.style.use('ggplot')\n",
    "\n",
    "# Create models from data\n",
    "def best_fit_distribution(data, bins=200, ax=None):\n",
    "    \"\"\"Model data by finding best fit distribution to data\"\"\"\n",
    "    # Get histogram of original data\n",
    "    y, x = np.histogram(data, bins=bins, density=True)\n",
    "    x = (x + np.roll(x, -1))[:-1] / 2.0\n",
    "\n",
    "    # Distributions to check\n",
    "#     DISTRIBUTIONS = [        \n",
    "#         st.alpha,st.anglit,st.arcsine,st.beta,st.betaprime,st.bradford,st.burr,st.cauchy,st.chi,st.chi2,st.cosine,\n",
    "#         st.dgamma,st.dweibull,st.erlang,st.expon,st.exponnorm,st.exponweib,st.exponpow,st.f,st.fatiguelife,st.fisk,\n",
    "#         st.foldcauchy,st.foldnorm,st.frechet_r,st.frechet_l,st.genlogistic,st.genpareto,st.gennorm,st.genexpon,\n",
    "#         st.genextreme,st.gausshyper,st.gamma,st.gengamma,st.genhalflogistic,st.gilbrat,st.gompertz,st.gumbel_r,\n",
    "#         st.gumbel_l,st.halfcauchy,st.halflogistic,st.halfnorm,st.halfgennorm,st.hypsecant,st.invgamma,st.invgauss,\n",
    "#         st.invweibull,st.johnsonsb,st.johnsonsu,st.ksone,st.kstwobign,st.laplace,st.levy,st.levy_l,st.levy_stable,\n",
    "#         st.logistic,st.loggamma,st.loglaplace,st.lognorm,st.lomax,st.maxwell,st.mielke,st.nakagami,st.ncx2,st.ncf,\n",
    "#         st.nct,st.norm,st.pareto,st.pearson3,st.powerlaw,st.powerlognorm,st.powernorm,st.rdist,st.reciprocal,\n",
    "#         st.rayleigh,st.rice,st.recipinvgauss,st.semicircular,st.t,st.triang,st.truncexpon,st.truncnorm,st.tukeylambda,\n",
    "#         st.uniform,st.vonmises,st.vonmises_line,st.wald,st.weibull_min,st.weibull_max,st.wrapcauchy\n",
    "#     ]\n",
    "    DISTRIBUTIONS = [st.genextreme]\n",
    "\n",
    "    # Best holders\n",
    "    best_distribution = st.norm\n",
    "    best_params = (0.0, 1.0)\n",
    "    best_sse = np.inf\n",
    "\n",
    "    # Estimate distribution parameters from data\n",
    "    for distribution in DISTRIBUTIONS:\n",
    "\n",
    "        # Try to fit the distribution\n",
    "        try:\n",
    "            # Ignore warnings from data that can't be fit\n",
    "            with warnings.catch_warnings():\n",
    "                warnings.filterwarnings('ignore')\n",
    "\n",
    "                # fit dist to data\n",
    "                params = distribution.fit(data)\n",
    "\n",
    "                # Separate parts of parameters\n",
    "                arg = params[:-2]\n",
    "                loc = params[-2]\n",
    "                scale = params[-1]\n",
    "\n",
    "                # Calculate fitted PDF and error with fit in distribution\n",
    "                pdf = distribution.pdf(x, loc=loc, scale=scale, *arg)\n",
    "                sse = np.sum(np.power(y - pdf, 2.0))\n",
    "\n",
    "                # if axis pass in add to plot\n",
    "                try:\n",
    "                    if ax:\n",
    "                        pd.Series(pdf, x).plot(ax=ax)\n",
    "                    end\n",
    "                except Exception:\n",
    "                    pass\n",
    "\n",
    "                # identify if this distribution is better\n",
    "                if best_sse > sse > 0:\n",
    "                    best_distribution = distribution\n",
    "                    best_params = params\n",
    "                    best_sse = sse\n",
    "\n",
    "        except Exception:\n",
    "            pass\n",
    "\n",
    "    return (best_distribution.name, best_params)\n",
    "\n",
    "# def make_pdf(dist, params, size=10000):\n",
    "#     \"\"\"Generate distributions's Probability Distribution Function \"\"\"\n",
    "\n",
    "#     # Separate parts of parameters\n",
    "#     arg = params[:-2]\n",
    "#     loc = params[-2]\n",
    "#     scale = params[-1]\n",
    "\n",
    "#     # Get sane start and end points of distribution\n",
    "#     start = dist.ppf(0.01, *arg, loc=loc, scale=scale) if arg else dist.ppf(0.01, loc=loc, scale=scale)\n",
    "#     end = dist.ppf(0.99, *arg, loc=loc, scale=scale) if arg else dist.ppf(0.99, loc=loc, scale=scale)\n",
    "\n",
    "#     # Build PDF and turn into pandas Series\n",
    "#     x = np.linspace(start, end, size)\n",
    "#     y = dist.pdf(x, loc=loc, scale=scale, *arg)\n",
    "#     pdf = pd.Series(y, x)\n",
    "\n",
    "#     return pdf\n",
    "\n",
    "# # Load data from statsmodels datasets\n",
    "# data = pd.Series(sm.datasets.elnino.load_pandas().data.set_index('YEAR').values.ravel())\n",
    "\n",
    "# # Plot for comparison\n",
    "# plt.figure(figsize=(12,8))\n",
    "# ax = data.plot(kind='hist', bins=50, normed=True, alpha=0.5, color=plt.rcParams['axes.color_cycle'][1])\n",
    "# # Save plot limits\n",
    "# dataYLim = ax.get_ylim()\n",
    "\n",
    "# # Find best fit distribution\n",
    "# best_fit_name, best_fit_params = best_fit_distribution(data, 200, ax)\n",
    "# best_dist = getattr(st, best_fit_name)\n",
    "\n",
    "# # Update plots\n",
    "# ax.set_ylim(dataYLim)\n",
    "# ax.set_title(u'El Niño sea temp.\\n All Fitted Distributions')\n",
    "# ax.set_xlabel(u'Temp (°C)')\n",
    "# ax.set_ylabel('Frequency')\n",
    "\n",
    "# # Make PDF with best params \n",
    "# pdf = make_pdf(best_dist, best_fit_params)\n",
    "\n",
    "# # Display\n",
    "# plt.figure(figsize=(12,8))\n",
    "# ax = pdf.plot(lw=2, label='PDF', legend=True)\n",
    "# data.plot(kind='hist', bins=50, normed=True, alpha=0.5, label='Data', legend=True, ax=ax)\n",
    "\n",
    "# param_names = (best_dist.shapes + ', loc, scale').split(', ') if best_dist.shapes else ['loc', 'scale']\n",
    "# param_str = ', '.join(['{}={:0.2f}'.format(k,v) for k,v in zip(param_names, best_fit_params)])\n",
    "# dist_str = '{}({})'.format(best_fit_name, param_str)\n",
    "\n",
    "# ax.set_title(u'El Niño sea temp. with best fit distribution \\n' + dist_str)\n",
    "# ax.set_xlabel(u'Temp. (°C)')\n",
    "# ax.set_ylabel('Frequency')"
   ]
  },
  {
   "cell_type": "code",
   "execution_count": 48,
   "metadata": {},
   "outputs": [
    {
     "data": {
      "text/plain": [
       "('genextreme', (-0.0020499738164719283, 254.90107426899056, 472.0746198656577))"
      ]
     },
     "execution_count": 48,
     "metadata": {},
     "output_type": "execute_result"
    }
   ],
   "source": [
    "best_fit_distribution(y, bins=200, ax=None)"
   ]
  },
  {
   "cell_type": "code",
   "execution_count": 49,
   "metadata": {},
   "outputs": [],
   "source": [
    "r = genextreme.rvs(-0.0020499738164719283, 254.90107426899056, 472.0746198656577, size=1000)"
   ]
  },
  {
   "cell_type": "code",
   "execution_count": 51,
   "metadata": {},
   "outputs": [
    {
     "data": {
      "text/plain": [
       "(array([131., 429., 279., 107.,  46.,   6.,   1.,   0.,   0.,   1.]),\n",
       " array([-685.1900753 ,  -90.90868655,  503.3727022 , 1097.65409095,\n",
       "        1691.93547971, 2286.21686846, 2880.49825721, 3474.77964596,\n",
       "        4069.06103472, 4663.34242347, 5257.62381222]),\n",
       " <a list of 10 Patch objects>)"
      ]
     },
     "execution_count": 51,
     "metadata": {},
     "output_type": "execute_result"
    },
    {
     "data": {
      "image/png": "[encoded data removed]",
      "text/plain": [
       "<Figure size 1152x864 with 1 Axes>"
      ]
     },
     "metadata": {},
     "output_type": "display_data"
    }
   ],
   "source": [
    "plt.hist(r)"
   ]
  },
  {
   "cell_type": "code",
   "execution_count": 53,
   "metadata": {},
   "outputs": [
    {
     "data": {
      "text/plain": [
       "('genextreme', (-4.317540804182535, 22.630967661278873, 6.074777703546836))"
      ]
     },
     "execution_count": 53,
     "metadata": {},
     "output_type": "execute_result"
    }
   ],
   "source": [
    "y=data_p[np.where(data_p[:,3]==3),1]\n",
    "y=y[~np.isnan(y)]\n",
    "best_fit_distribution(y, bins=200, ax=None)"
   ]
  },
  {
   "cell_type": "code",
   "execution_count": 57,
   "metadata": {},
   "outputs": [
    {
     "data": {
      "text/plain": [
       "(array([80., 82., 28.,  5.,  0.,  1.,  0.,  0.,  0.,  1.]),\n",
       " array([  21.225 ,  393.2609,  765.2968, 1137.3327, 1509.3686, 1881.4045,\n",
       "        2253.4404, 2625.4763, 2997.5122, 3369.5481, 3741.584 ]),\n",
       " <a list of 10 Patch objects>)"
      ]
     },
     "execution_count": 57,
     "metadata": {},
     "output_type": "execute_result"
    },
    {
     "data": {
      "image/png": "[encoded data removed]",
      "text/plain": [
       "<Figure size 1152x864 with 1 Axes>"
      ]
     },
     "metadata": {},
     "output_type": "display_data"
    }
   ],
   "source": [
    "plt.hist(y)\n",
    "#plt.hist(genextreme.rvs(-4.317540804182535, 22.630967661278873, 6.074777703546836, size=1000))"
   ]
  },
  {
   "cell_type": "code",
   "execution_count": 58,
   "metadata": {
    "scrolled": true
   },
   "outputs": [
    {
     "data": {
      "text/plain": [
       "('genextreme', (-4.927652534609018, 57.5193188659582, 2.9339804606631352))"
      ]
     },
     "execution_count": 58,
     "metadata": {},
     "output_type": "execute_result"
    }
   ],
   "source": [
    "y=data_p[np.where(data_p[:,3]==4),1]\n",
    "y=y[~np.isnan(y)]\n",
    "best_fit_distribution(y, bins=200, ax=None)"
   ]
  },
  {
   "cell_type": "code",
   "execution_count": 60,
   "metadata": {},
   "outputs": [
    {
     "data": {
      "text/plain": [
       "(array([  1.,   0.,   0.,   1.,   0.,   0.,   1.,   0.,   1., 996.]),\n",
       " array([-44608.61652449, -40141.94339902, -35675.27027354, -31208.59714807,\n",
       "        -26741.92402259, -22275.25089712, -17808.57777164, -13341.90464617,\n",
       "         -8875.23152069,  -4408.55839522,     58.11473026]),\n",
       " <a list of 10 Patch objects>)"
      ]
     },
     "execution_count": 60,
     "metadata": {},
     "output_type": "execute_result"
    },
    {
     "data": {
      "image/png": "[encoded data removed]",
      "text/plain": [
       "<Figure size 1152x864 with 1 Axes>"
      ]
     },
     "metadata": {},
     "output_type": "display_data"
    }
   ],
   "source": [
    "plt.hist(genextreme.rvs(4.927652534609018, 57.5193188659582, 2.9339804606631352, size=1000))"
   ]
  },
  {
   "cell_type": "code",
   "execution_count": 61,
   "metadata": {},
   "outputs": [],
   "source": [
    "%matplotlib inline\n",
    "\n",
    "import warnings\n",
    "import numpy as np\n",
    "import pandas as pd\n",
    "import scipy.stats as st\n",
    "import statsmodels as sm\n",
    "import matplotlib\n",
    "import matplotlib.pyplot as plt\n",
    "\n",
    "matplotlib.rcParams['figure.figsize'] = (16.0, 12.0)\n",
    "matplotlib.style.use('ggplot')\n",
    "\n",
    "# Create models from data\n",
    "def best_fit_distribution(data, bins=200, ax=None):\n",
    "    \"\"\"Model data by finding best fit distribution to data\"\"\"\n",
    "    # Get histogram of original data\n",
    "    y, x = np.histogram(data, bins=bins, density=True)\n",
    "    x = (x + np.roll(x, -1))[:-1] / 2.0\n",
    "\n",
    "    # Distributions to check\n",
    "    DISTRIBUTIONS = [        \n",
    "        st.alpha,st.anglit,st.arcsine,st.beta,st.betaprime,st.bradford,st.burr,st.cauchy,st.chi,st.chi2,st.cosine,\n",
    "        st.dgamma,st.dweibull,st.erlang,st.expon,st.exponnorm,st.exponweib,st.exponpow,st.f,st.fatiguelife,st.fisk,\n",
    "        st.foldcauchy,st.foldnorm,st.frechet_r,st.frechet_l,st.genlogistic,st.genpareto,st.gennorm,st.genexpon,\n",
    "        st.genextreme,st.gausshyper,st.gamma,st.gengamma,st.genhalflogistic,st.gilbrat,st.gompertz,st.gumbel_r,\n",
    "        st.gumbel_l,st.halfcauchy,st.halflogistic,st.halfnorm,st.halfgennorm,st.hypsecant,st.invgamma,st.invgauss,\n",
    "        st.invweibull,st.johnsonsb,st.johnsonsu,st.ksone,st.kstwobign,st.laplace,st.levy,st.levy_l,st.levy_stable,\n",
    "        st.logistic,st.loggamma,st.loglaplace,st.lognorm,st.lomax,st.maxwell,st.mielke,st.nakagami,st.ncx2,st.ncf,\n",
    "        st.nct,st.norm,st.pareto,st.pearson3,st.powerlaw,st.powerlognorm,st.powernorm,st.rdist,st.reciprocal,\n",
    "        st.rayleigh,st.rice,st.recipinvgauss,st.semicircular,st.t,st.triang,st.truncexpon,st.truncnorm,st.tukeylambda,\n",
    "        st.uniform,st.vonmises,st.vonmises_line,st.wald,st.weibull_min,st.weibull_max,st.wrapcauchy\n",
    "    ]\n",
    "    #DISTRIBUTIONS = [st.genextreme]\n",
    "\n",
    "    # Best holders\n",
    "    best_distribution = st.norm\n",
    "    best_params = (0.0, 1.0)\n",
    "    best_sse = np.inf\n",
    "\n",
    "    # Estimate distribution parameters from data\n",
    "    for distribution in DISTRIBUTIONS:\n",
    "\n",
    "        # Try to fit the distribution\n",
    "        try:\n",
    "            # Ignore warnings from data that can't be fit\n",
    "            with warnings.catch_warnings():\n",
    "                warnings.filterwarnings('ignore')\n",
    "\n",
    "                # fit dist to data\n",
    "                params = distribution.fit(data)\n",
    "\n",
    "                # Separate parts of parameters\n",
    "                arg = params[:-2]\n",
    "                loc = params[-2]\n",
    "                scale = params[-1]\n",
    "\n",
    "                # Calculate fitted PDF and error with fit in distribution\n",
    "                pdf = distribution.pdf(x, loc=loc, scale=scale, *arg)\n",
    "                sse = np.sum(np.power(y - pdf, 2.0))\n",
    "\n",
    "                # if axis pass in add to plot\n",
    "                try:\n",
    "                    if ax:\n",
    "                        pd.Series(pdf, x).plot(ax=ax)\n",
    "                    end\n",
    "                except Exception:\n",
    "                    pass\n",
    "\n",
    "                # identify if this distribution is better\n",
    "                if best_sse > sse > 0:\n",
    "                    best_distribution = distribution\n",
    "                    best_params = params\n",
    "                    best_sse = sse\n",
    "\n",
    "        except Exception:\n",
    "            pass\n",
    "\n",
    "    return (best_distribution.name, best_params)\n",
    "\n",
    "# def make_pdf(dist, params, size=10000):\n",
    "#     \"\"\"Generate distributions's Probability Distribution Function \"\"\"\n",
    "\n",
    "#     # Separate parts of parameters\n",
    "#     arg = params[:-2]\n",
    "#     loc = params[-2]\n",
    "#     scale = params[-1]\n",
    "\n",
    "#     # Get sane start and end points of distribution\n",
    "#     start = dist.ppf(0.01, *arg, loc=loc, scale=scale) if arg else dist.ppf(0.01, loc=loc, scale=scale)\n",
    "#     end = dist.ppf(0.99, *arg, loc=loc, scale=scale) if arg else dist.ppf(0.99, loc=loc, scale=scale)\n",
    "\n",
    "#     # Build PDF and turn into pandas Series\n",
    "#     x = np.linspace(start, end, size)\n",
    "#     y = dist.pdf(x, loc=loc, scale=scale, *arg)\n",
    "#     pdf = pd.Series(y, x)\n",
    "\n",
    "#     return pdf\n",
    "\n",
    "# # Load data from statsmodels datasets\n",
    "# data = pd.Series(sm.datasets.elnino.load_pandas().data.set_index('YEAR').values.ravel())\n",
    "\n",
    "# # Plot for comparison\n",
    "# plt.figure(figsize=(12,8))\n",
    "# ax = data.plot(kind='hist', bins=50, normed=True, alpha=0.5, color=plt.rcParams['axes.color_cycle'][1])\n",
    "# # Save plot limits\n",
    "# dataYLim = ax.get_ylim()\n",
    "\n",
    "# # Find best fit distribution\n",
    "# best_fit_name, best_fit_params = best_fit_distribution(data, 200, ax)\n",
    "# best_dist = getattr(st, best_fit_name)\n",
    "\n",
    "# # Update plots\n",
    "# ax.set_ylim(dataYLim)\n",
    "# ax.set_title(u'El Niño sea temp.\\n All Fitted Distributions')\n",
    "# ax.set_xlabel(u'Temp (°C)')\n",
    "# ax.set_ylabel('Frequency')\n",
    "\n",
    "# # Make PDF with best params \n",
    "# pdf = make_pdf(best_dist, best_fit_params)\n",
    "\n",
    "# # Display\n",
    "# plt.figure(figsize=(12,8))\n",
    "# ax = pdf.plot(lw=2, label='PDF', legend=True)\n",
    "# data.plot(kind='hist', bins=50, normed=True, alpha=0.5, label='Data', legend=True, ax=ax)\n",
    "\n",
    "# param_names = (best_dist.shapes + ', loc, scale').split(', ') if best_dist.shapes else ['loc', 'scale']\n",
    "# param_str = ', '.join(['{}={:0.2f}'.format(k,v) for k,v in zip(param_names, best_fit_params)])\n",
    "# dist_str = '{}({})'.format(best_fit_name, param_str)\n",
    "\n",
    "# ax.set_title(u'El Niño sea temp. with best fit distribution \\n' + dist_str)\n",
    "# ax.set_xlabel(u'Temp. (°C)')\n",
    "# ax.set_ylabel('Frequency')\n"
   ]
  },
  {
   "cell_type": "code",
   "execution_count": 62,
   "metadata": {},
   "outputs": [
    {
     "data": {
      "text/plain": [
       "('burr',\n",
       " (3.313334200376927,\n",
       "  0.5292050068682177,\n",
       "  0.7230352074341084,\n",
       "  725.8158336063593))"
      ]
     },
     "execution_count": 62,
     "metadata": {},
     "output_type": "execute_result"
    }
   ],
   "source": [
    "y=data_p[:,1]\n",
    "y=y[~np.isnan(y)]\n",
    "best_fit_distribution(y, bins=200, ax=None)"
   ]
  },
  {
   "cell_type": "code",
   "execution_count": null,
   "metadata": {},
   "outputs": [],
   "source": [
    "r = genextreme.rvs(-0.15419966666313223, 511.7228387990196, 312.7722836897374, size=1000)\n",
    "r = genextreme.rvs(-0.0020499738164719283, 254.90107426899056, 472.0746198656577, size=1000)\n",
    "r=genextreme.rvs(-4.317540804182535, 22.630967661278873, 6.074777703546836, size=1000)"
   ]
  },
  {
   "cell_type": "code",
   "execution_count": 63,
   "metadata": {},
   "outputs": [],
   "source": [
    "%matplotlib inline\n",
    "\n",
    "import warnings\n",
    "import numpy as np\n",
    "import pandas as pd\n",
    "import scipy.stats as st\n",
    "import statsmodels as sm\n",
    "import matplotlib\n",
    "import matplotlib.pyplot as plt\n",
    "\n",
    "matplotlib.rcParams['figure.figsize'] = (16.0, 12.0)\n",
    "matplotlib.style.use('ggplot')\n",
    "\n",
    "# Create models from data\n",
    "def best_fit_distribution(data, bins=200, ax=None):\n",
    "    \"\"\"Model data by finding best fit distribution to data\"\"\"\n",
    "    # Get histogram of original data\n",
    "    y, x = np.histogram(data, bins=bins, density=True)\n",
    "    x = (x + np.roll(x, -1))[:-1] / 2.0\n",
    "\n",
    "    # Distributions to check\n",
    "#     DISTRIBUTIONS = [        \n",
    "#         st.alpha,st.anglit,st.arcsine,st.beta,st.betaprime,st.bradford,st.burr,st.cauchy,st.chi,st.chi2,st.cosine,\n",
    "#         st.dgamma,st.dweibull,st.erlang,st.expon,st.exponnorm,st.exponweib,st.exponpow,st.f,st.fatiguelife,st.fisk,\n",
    "#         st.foldcauchy,st.foldnorm,st.frechet_r,st.frechet_l,st.genlogistic,st.genpareto,st.gennorm,st.genexpon,\n",
    "#         st.genextreme,st.gausshyper,st.gamma,st.gengamma,st.genhalflogistic,st.gilbrat,st.gompertz,st.gumbel_r,\n",
    "#         st.gumbel_l,st.halfcauchy,st.halflogistic,st.halfnorm,st.halfgennorm,st.hypsecant,st.invgamma,st.invgauss,\n",
    "#         st.invweibull,st.johnsonsb,st.johnsonsu,st.ksone,st.kstwobign,st.laplace,st.levy,st.levy_l,st.levy_stable,\n",
    "#         st.logistic,st.loggamma,st.loglaplace,st.lognorm,st.lomax,st.maxwell,st.mielke,st.nakagami,st.ncx2,st.ncf,\n",
    "#         st.nct,st.norm,st.pareto,st.pearson3,st.powerlaw,st.powerlognorm,st.powernorm,st.rdist,st.reciprocal,\n",
    "#         st.rayleigh,st.rice,st.recipinvgauss,st.semicircular,st.t,st.triang,st.truncexpon,st.truncnorm,st.tukeylambda,\n",
    "#         st.uniform,st.vonmises,st.vonmises_line,st.wald,st.weibull_min,st.weibull_max,st.wrapcauchy\n",
    "#     ]\n",
    "    DISTRIBUTIONS = [st.burr]\n",
    "\n",
    "    # Best holders\n",
    "    best_distribution = st.norm\n",
    "    best_params = (0.0, 1.0)\n",
    "    best_sse = np.inf\n",
    "\n",
    "    # Estimate distribution parameters from data\n",
    "    for distribution in DISTRIBUTIONS:\n",
    "\n",
    "        # Try to fit the distribution\n",
    "        try:\n",
    "            # Ignore warnings from data that can't be fit\n",
    "            with warnings.catch_warnings():\n",
    "                warnings.filterwarnings('ignore')\n",
    "\n",
    "                # fit dist to data\n",
    "                params = distribution.fit(data)\n",
    "\n",
    "                # Separate parts of parameters\n",
    "                arg = params[:-2]\n",
    "                loc = params[-2]\n",
    "                scale = params[-1]\n",
    "\n",
    "                # Calculate fitted PDF and error with fit in distribution\n",
    "                pdf = distribution.pdf(x, loc=loc, scale=scale, *arg)\n",
    "                sse = np.sum(np.power(y - pdf, 2.0))\n",
    "\n",
    "                # if axis pass in add to plot\n",
    "                try:\n",
    "                    if ax:\n",
    "                        pd.Series(pdf, x).plot(ax=ax)\n",
    "                    end\n",
    "                except Exception:\n",
    "                    pass\n",
    "\n",
    "                # identify if this distribution is better\n",
    "                if best_sse > sse > 0:\n",
    "                    best_distribution = distribution\n",
    "                    best_params = params\n",
    "                    best_sse = sse\n",
    "\n",
    "        except Exception:\n",
    "            pass\n",
    "\n",
    "    return (best_distribution.name, best_params)\n",
    "\n",
    "# def make_pdf(dist, params, size=10000):\n",
    "#     \"\"\"Generate distributions's Probability Distribution Function \"\"\"\n",
    "\n",
    "#     # Separate parts of parameters\n",
    "#     arg = params[:-2]\n",
    "#     loc = params[-2]\n",
    "#     scale = params[-1]\n",
    "\n",
    "#     # Get sane start and end points of distribution\n",
    "#     start = dist.ppf(0.01, *arg, loc=loc, scale=scale) if arg else dist.ppf(0.01, loc=loc, scale=scale)\n",
    "#     end = dist.ppf(0.99, *arg, loc=loc, scale=scale) if arg else dist.ppf(0.99, loc=loc, scale=scale)\n",
    "\n",
    "#     # Build PDF and turn into pandas Series\n",
    "#     x = np.linspace(start, end, size)\n",
    "#     y = dist.pdf(x, loc=loc, scale=scale, *arg)\n",
    "#     pdf = pd.Series(y, x)\n",
    "\n",
    "#     return pdf\n",
    "\n",
    "# # Load data from statsmodels datasets\n",
    "# data = pd.Series(sm.datasets.elnino.load_pandas().data.set_index('YEAR').values.ravel())\n",
    "\n",
    "# # Plot for comparison\n",
    "# plt.figure(figsize=(12,8))\n",
    "# ax = data.plot(kind='hist', bins=50, normed=True, alpha=0.5, color=plt.rcParams['axes.color_cycle'][1])\n",
    "# # Save plot limits\n",
    "# dataYLim = ax.get_ylim()\n",
    "\n",
    "# # Find best fit distribution\n",
    "# best_fit_name, best_fit_params = best_fit_distribution(data, 200, ax)\n",
    "# best_dist = getattr(st, best_fit_name)\n",
    "\n",
    "# # Update plots\n",
    "# ax.set_ylim(dataYLim)\n",
    "# ax.set_title(u'El Niño sea temp.\\n All Fitted Distributions')\n",
    "# ax.set_xlabel(u'Temp (°C)')\n",
    "# ax.set_ylabel('Frequency')\n",
    "\n",
    "# # Make PDF with best params \n",
    "# pdf = make_pdf(best_dist, best_fit_params)\n",
    "\n",
    "# # Display\n",
    "# plt.figure(figsize=(12,8))\n",
    "# ax = pdf.plot(lw=2, label='PDF', legend=True)\n",
    "# data.plot(kind='hist', bins=50, normed=True, alpha=0.5, label='Data', legend=True, ax=ax)\n",
    "\n",
    "# param_names = (best_dist.shapes + ', loc, scale').split(', ') if best_dist.shapes else ['loc', 'scale']\n",
    "# param_str = ', '.join(['{}={:0.2f}'.format(k,v) for k,v in zip(param_names, best_fit_params)])\n",
    "# dist_str = '{}({})'.format(best_fit_name, param_str)\n",
    "\n",
    "# ax.set_title(u'El Niño sea temp. with best fit distribution \\n' + dist_str)\n",
    "# ax.set_xlabel(u'Temp. (°C)')\n",
    "# ax.set_ylabel('Frequency')\n",
    "\n"
   ]
  },
  {
   "cell_type": "code",
   "execution_count": 65,
   "metadata": {},
   "outputs": [
    {
     "data": {
      "text/plain": [
       "('burr',\n",
       " (3.1963734941460253,\n",
       "  0.6756158751301813,\n",
       "  -5.541005126302264,\n",
       "  770.0101084770896))"
      ]
     },
     "execution_count": 65,
     "metadata": {},
     "output_type": "execute_result"
    }
   ],
   "source": [
    "y=data_p[np.where(data_p[:,3]==1),1]\n",
    "y=y[~np.isnan(y)]\n",
    "best_fit_distribution(y, bins=200, ax=None)"
   ]
  },
  {
   "cell_type": "code",
   "execution_count": 71,
   "metadata": {
    "scrolled": true
   },
   "outputs": [
    {
     "data": {
      "text/plain": [
       "(array([437., 406., 100.,  34.,  13.,   5.,   3.,   1.,   0.,   1.]),\n",
       " array([  20.17676742,  578.4405637 , 1136.70435999, 1694.96815627,\n",
       "        2253.23195255, 2811.49574884, 3369.75954512, 3928.0233414 ,\n",
       "        4486.28713769, 5044.55093397, 5602.81473025]),\n",
       " <a list of 10 Patch objects>)"
      ]
     },
     "execution_count": 71,
     "metadata": {},
     "output_type": "execute_result"
    },
    {
     "data": {
      "image/png": "[encoded data removed]",
      "text/plain": [
       "<Figure size 1152x864 with 1 Axes>"
      ]
     },
     "metadata": {},
     "output_type": "display_data"
    }
   ],
   "source": [
    "from scipy.stats import burr\n",
    "#rv = burr(3.1963734941460253,0.6756158751301813,-5.541005126302264,770.0101084770896)\n",
    "r = burr.rvs(3.1963734941460253,0.6756158751301813,-5.541005126302264,770.0101084770896, size=1000)\n",
    "plt.hist(r)"
   ]
  },
  {
   "cell_type": "code",
   "execution_count": 73,
   "metadata": {},
   "outputs": [
    {
     "data": {
      "text/plain": [
       "('burr',\n",
       " (2.881819996766421,\n",
       "  0.7423974676323387,\n",
       "  -0.10643840038516461,\n",
       "  600.8193288318848))"
      ]
     },
     "execution_count": 73,
     "metadata": {},
     "output_type": "execute_result"
    }
   ],
   "source": [
    "y=data_p[np.where(data_p[:,3]==2),1]\n",
    "y=y[~np.isnan(y)]\n",
    "best_fit_distribution(y, bins=200, ax=None)"
   ]
  },
  {
   "cell_type": "code",
   "execution_count": 74,
   "metadata": {},
   "outputs": [
    {
     "data": {
      "text/plain": [
       "(array([876., 108.,  12.,   2.,   0.,   1.,   0.,   0.,   0.,   1.]),\n",
       " array([   21.12567175,  1069.42953905,  2117.73340635,  3166.03727364,\n",
       "         4214.34114094,  5262.64500824,  6310.94887553,  7359.25274283,\n",
       "         8407.55661013,  9455.86047742, 10504.16434472]),\n",
       " <a list of 10 Patch objects>)"
      ]
     },
     "execution_count": 74,
     "metadata": {},
     "output_type": "execute_result"
    },
    {
     "data": {
      "image/png": "[encoded data removed]",
      "text/plain": [
       "<Figure size 1152x864 with 1 Axes>"
      ]
     },
     "metadata": {},
     "output_type": "display_data"
    }
   ],
   "source": [
    "from scipy.stats import burr\n",
    "#rv = burr(3.1963734941460253,0.6756158751301813,-5.541005126302264,770.0101084770896)\n",
    "r = burr.rvs(2.881819996766421,0.7423974676323387,-0.10643840038516461,600.8193288318848, size=1000)\n",
    "plt.hist(r)"
   ]
  },
  {
   "cell_type": "code",
   "execution_count": 75,
   "metadata": {
    "scrolled": true
   },
   "outputs": [
    {
     "data": {
      "text/plain": [
       "('burr',\n",
       " (3.8823906071218754,\n",
       "  0.39664109623209587,\n",
       "  -4.321262183898044,\n",
       "  666.6238719647567))"
      ]
     },
     "execution_count": 75,
     "metadata": {},
     "output_type": "execute_result"
    }
   ],
   "source": [
    "y=data_p[np.where(data_p[:,3]==3),1]\n",
    "y=y[~np.isnan(y)]\n",
    "best_fit_distribution(y, bins=200, ax=None)"
   ]
  },
  {
   "cell_type": "code",
   "execution_count": 76,
   "metadata": {
    "scrolled": true
   },
   "outputs": [
    {
     "data": {
      "text/plain": [
       "(array([213., 375., 237., 103.,  44.,  13.,   9.,   3.,   2.,   1.]),\n",
       " array([-1.89648660e-01,  2.49147631e+02,  4.98484910e+02,  7.47822190e+02,\n",
       "         9.97159469e+02,  1.24649675e+03,  1.49583403e+03,  1.74517131e+03,\n",
       "         1.99450859e+03,  2.24384587e+03,  2.49318315e+03]),\n",
       " <a list of 10 Patch objects>)"
      ]
     },
     "execution_count": 76,
     "metadata": {},
     "output_type": "execute_result"
    },
    {
     "data": {
      "image/png": "[encoded data removed]",
      "text/plain": [
       "<Figure size 1152x864 with 1 Axes>"
      ]
     },
     "metadata": {},
     "output_type": "display_data"
    }
   ],
   "source": [
    "from scipy.stats import burr\n",
    "#rv = burr(3.1963734941460253,0.6756158751301813,-5.541005126302264,770.0101084770896)\n",
    "r = burr.rvs(3.8823906071218754,0.39664109623209587,-4.321262183898044,666.6238719647567, size=1000)\n",
    "plt.hist(r)"
   ]
  },
  {
   "cell_type": "code",
   "execution_count": 77,
   "metadata": {},
   "outputs": [
    {
     "data": {
      "text/plain": [
       "('burr',\n",
       " (6.1030943196528735,\n",
       "  0.21404856140204834,\n",
       "  -3.2134669690041697,\n",
       "  743.8724160581987))"
      ]
     },
     "execution_count": 77,
     "metadata": {},
     "output_type": "execute_result"
    }
   ],
   "source": [
    "y=data_p[np.where(data_p[:,3]==4),1]\n",
    "y=y[~np.isnan(y)]\n",
    "best_fit_distribution(y, bins=200, ax=None)"
   ]
  },
  {
   "cell_type": "code",
   "execution_count": 78,
   "metadata": {},
   "outputs": [
    {
     "data": {
      "text/plain": [
       "(array([181., 249., 294., 175.,  65.,  22.,  10.,   2.,   1.,   1.]),\n",
       " array([7.32368211e-01, 1.98269665e+02, 3.95806961e+02, 5.93344258e+02,\n",
       "        7.90881554e+02, 9.88418850e+02, 1.18595615e+03, 1.38349344e+03,\n",
       "        1.58103074e+03, 1.77856804e+03, 1.97610533e+03]),\n",
       " <a list of 10 Patch objects>)"
      ]
     },
     "execution_count": 78,
     "metadata": {},
     "output_type": "execute_result"
    },
    {
     "data": {
      "image/png": "[encoded data removed]",
      "text/plain": [
       "<Figure size 1152x864 with 1 Axes>"
      ]
     },
     "metadata": {},
     "output_type": "display_data"
    }
   ],
   "source": [
    "from scipy.stats import burr\n",
    "#rv = burr(3.1963734941460253,0.6756158751301813,-5.541005126302264,770.0101084770896)\n",
    "r = burr.rvs(6.1030943196528735,0.21404856140204834,-3.2134669690041697,743.8724160581987, size=1000)\n",
    "plt.hist(r)"
   ]
  },
  {
   "cell_type": "code",
   "execution_count": 79,
   "metadata": {
    "scrolled": true
   },
   "outputs": [
    {
     "data": {
      "text/plain": [
       "('burr',\n",
       " (14.038027454242975,\n",
       "  2088.291950538207,\n",
       "  -6.573122747248534,\n",
       "  398.27116774711067))"
      ]
     },
     "execution_count": 79,
     "metadata": {},
     "output_type": "execute_result"
    }
   ],
   "source": [
    "y=data_p[np.where(data_p[:,3]==0),1]\n",
    "y=y[~np.isnan(y)]\n",
    "best_fit_distribution(y, bins=200, ax=None)"
   ]
  },
  {
   "cell_type": "code",
   "execution_count": 80,
   "metadata": {},
   "outputs": [
    {
     "data": {
      "text/plain": [
       "(array([170., 454., 235.,  97.,  32.,   7.,   1.,   1.,   2.,   1.]),\n",
       " array([ 583.55582946,  651.6416192 ,  719.72740893,  787.81319867,\n",
       "         855.8989884 ,  923.98477814,  992.07056788, 1060.15635761,\n",
       "        1128.24214735, 1196.32793708, 1264.41372682]),\n",
       " <a list of 10 Patch objects>)"
      ]
     },
     "execution_count": 80,
     "metadata": {},
     "output_type": "execute_result"
    },
    {
     "data": {
      "image/png": "[encoded data removed]",
      "text/plain": [
       "<Figure size 1152x864 with 1 Axes>"
      ]
     },
     "metadata": {},
     "output_type": "display_data"
    }
   ],
   "source": [
    "from scipy.stats import burr\n",
    "#rv = burr(3.1963734941460253,0.6756158751301813,-5.541005126302264,770.0101084770896)\n",
    "r = burr.rvs(14.038027454242975,2088.291950538207,-6.573122747248534,398.27116774711067, size=1000)\n",
    "plt.hist(r)"
   ]
  },
  {
   "cell_type": "code",
   "execution_count": null,
   "metadata": {},
   "outputs": [],
   "source": [
    "r = burr.rvs(14.038027454242975,2088.291950538207,-6.573122747248534,398.27116774711067, size=1000)\n",
    "r = burr.rvs(3.1963734941460253,0.6756158751301813,-5.541005126302264,770.0101084770896, size=1000)\n",
    "r=burr.rvs(2.881819996766421,0.7423974676323387,-0.10643840038516461,600.8193288318848, size=1000)\n",
    "r = burr.rvs(3.8823906071218754,0.39664109623209587,-4.321262183898044,666.6238719647567, size=1000)\n",
    "r = burr.rvs(6.1030943196528735,0.21404856140204834,-3.2134669690041697,743.8724160581987, size=1000)"
   ]
  }
 ],
 "metadata": {
  "kernelspec": {
   "display_name": "Python 3",
   "language": "python",
   "name": "python3"
  },
  "language_info": {
   "codemirror_mode": {
    "name": "ipython",
    "version": 3
   },
   "file_extension": ".py",
   "mimetype": "text/x-python",
   "name": "python",
   "nbconvert_exporter": "python",
   "pygments_lexer": "ipython3",
   "version": "3.6.8"
  }
 },
 "nbformat": 4,
 "nbformat_minor": 2
}
