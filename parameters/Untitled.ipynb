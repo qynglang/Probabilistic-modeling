{
 "cells": [
  {
   "cell_type": "code",
   "execution_count": 1,
   "metadata": {},
   "outputs": [
    {
     "name": "stderr",
     "output_type": "stream",
     "text": [
      "/afs/inf.ed.ac.uk/user/s18/s1883226/miniconda3/envs/mlp/lib/python3.6/site-packages/pandas/core/ops/__init__.py:1115: FutureWarning: elementwise comparison failed; returning scalar instead, but in the future will perform elementwise comparison\n",
      "  result = method(y)\n"
     ]
    }
   ],
   "source": [
    "import pandas as pd\n",
    "import numpy as np\n",
    "data = pd.read_csv(\"data.csv\")\n",
    "data[data==' ']=np.nan\n",
    "data=data.dropna()\n",
    "data.head(5)\n",
    "data_E=data.iloc[0:50,:]\n",
    "data_T=data.iloc[50::,:]\n",
    "stress=np.int8(data_E.iloc[:,31])\n",
    "tired=np.int8(data_E.iloc[:,32])\n",
    "st=np.int8(data_E.iloc[:,31:33])\n",
    "choice3=np.int8(data_E.iloc[:,37])\n",
    "choice4=np.int8(data_E.iloc[:,38])\n",
    "tend=np.int8(choice3)+np.int8(choice4)\n",
    "choice3=np.int8(data_T.iloc[:,37])\n",
    "choice4=np.int8(data_T.iloc[:,38])\n",
    "tend_t=np.int8(choice3)+np.int8(choice4)\n",
    "choice3=data.iloc[:,37]\n",
    "choice4=data.iloc[:,38]\n",
    "tend_all=np.int8(choice3)+np.int8(choice4)\n",
    "payoff=np.float32(data_E.iloc[:,33])\n",
    "payoff_t=np.float32(data_T.iloc[:,33])\n",
    "pay_off_all=np.float32(data.iloc[:,33])"
   ]
  },
  {
   "cell_type": "code",
   "execution_count": 2,
   "metadata": {},
   "outputs": [],
   "source": [
    "from g_factors2 import model_update"
   ]
  },
  {
   "cell_type": "code",
   "execution_count": 3,
   "metadata": {},
   "outputs": [
    {
     "data": {
      "text/plain": [
       "array([37,  3, 22,  6, 11,  9, 43, 21, 33, 38])"
      ]
     },
     "execution_count": 3,
     "metadata": {},
     "output_type": "execute_result"
    }
   ],
   "source": [
    "np.random.randint(0,50,10)"
   ]
  },
  {
   "cell_type": "code",
   "execution_count": 7,
   "metadata": {},
   "outputs": [],
   "source": [
    "for j in range (0,200):\n",
    "    for i in range (0,5):\n",
    "        k=np.random.randint(0,50,20)\n",
    "        model_update(data.iloc[k,:])"
   ]
  },
  {
   "cell_type": "code",
   "execution_count": null,
   "metadata": {},
   "outputs": [],
   "source": [
    "a=[]\n",
    "np.array(a).any()\n"
   ]
  },
  {
   "cell_type": "code",
   "execution_count": 18,
   "metadata": {},
   "outputs": [
    {
     "name": "stdout",
     "output_type": "stream",
     "text": [
      "3.283011302223879\n"
     ]
    },
    {
     "data": {
      "text/plain": [
       "0.44540355042330493"
      ]
     },
     "execution_count": 18,
     "metadata": {},
     "output_type": "execute_result"
    }
   ],
   "source": [
    "from g_factors3 import gen_f\n",
    "from sklearn.model_selection import train_test_split\n",
    "from scipy.stats import burr\n",
    "from sklearn.preprocessing import PolynomialFeatures\n",
    "from sklearn.linear_model import LinearRegression\n",
    "from sklearn.metrics import mean_absolute_error\n",
    "from sklearn.metrics import r2_score\n",
    "from distribut import best_fit_distribution\n",
    "import numpy as np\n",
    "f1,f2,f3,f4,f5,f6,f7,f8,f9=gen_f(data_E,update=False)\n",
    "X_train, X_test, y_train, y_test = train_test_split(np.vstack((f1,f2,f3,f4,f5)).T, tend, test_size=0.2, random_state=0)\n",
    "lin_reg = LinearRegression()\n",
    "lin_reg.fit(X_train, y_train)\n",
    "print(mean_absolute_error(tend, lin_reg.predict(np.vstack((f1,f2,f3,f4,f5)).T)))\n",
    "r2_score(tend, lin_reg.predict(np.vstack((f1,f2,f3,f4,f5)).T))"
   ]
  },
  {
   "cell_type": "code",
   "execution_count": 12,
   "metadata": {},
   "outputs": [
    {
     "data": {
      "text/plain": [
       "array([0., 1.])"
      ]
     },
     "execution_count": 12,
     "metadata": {},
     "output_type": "execute_result"
    }
   ],
   "source": [
    "np.load('m4.npy')"
   ]
  },
  {
   "cell_type": "code",
   "execution_count": 16,
   "metadata": {},
   "outputs": [
    {
     "data": {
      "text/plain": [
       "array([13, 22, 22, 11, 13, 17, 22, 14, 20, 12, 21, 13, 25, 13, 23,  4, 19,\n",
       "        9, 22, 15, 14, 17, 24, 14,  8, 16, 21, 29,  5, 16,  8, 32, 24, 13,\n",
       "       27, 21, 20, 17, 14, 16, 10, 17, 21, 12, 22, 16, 17, 17, 31, 16, 30,\n",
       "       16, 18, 23, 30, 15], dtype=int8)"
      ]
     },
     "execution_count": 16,
     "metadata": {},
     "output_type": "execute_result"
    }
   ],
   "source": [
    "tend_t"
   ]
  },
  {
   "cell_type": "code",
   "execution_count": 19,
   "metadata": {},
   "outputs": [
    {
     "name": "stdout",
     "output_type": "stream",
     "text": [
      "4.375619886955413\n"
     ]
    },
    {
     "data": {
      "text/plain": [
       "0.10688258185400257"
      ]
     },
     "execution_count": 19,
     "metadata": {},
     "output_type": "execute_result"
    }
   ],
   "source": [
    "f1,f2,f3,f4,f5,f6,f7,f8,f9=gen_f(data_T,update=False)\n",
    "print(mean_absolute_error(tend_t, lin_reg.predict(np.vstack((f1,f2,f3,f4,f5)).T)))\n",
    "r2_score(tend_t, lin_reg.predict(np.vstack((f1,f2,f3,f4,f5)).T))"
   ]
  },
  {
   "cell_type": "code",
   "execution_count": 11,
   "metadata": {},
   "outputs": [
    {
     "name": "stdout",
     "output_type": "stream",
     "text": [
      "3.867456693549374\n"
     ]
    },
    {
     "data": {
      "text/plain": [
       "0.3004706631359937"
      ]
     },
     "execution_count": 11,
     "metadata": {},
     "output_type": "execute_result"
    }
   ],
   "source": [
    "f1,f2,f3,f4,f5=gen_f(data,update=False)\n",
    "print(mean_absolute_error(tend_all, lin_reg.predict(np.vstack((f1,f2,f3,f4,f5)).T)))\n",
    "r2_score(tend_all, lin_reg.predict(np.vstack((f1,f2,f3,f4,f5)).T))"
   ]
  },
  {
   "cell_type": "code",
   "execution_count": 13,
   "metadata": {},
   "outputs": [],
   "source": [
    "train=np.hstack((data_E.iloc[:,21:33],np.array(data_E.iloc[:,34]).reshape(50,1),np.array(data_E.iloc[:,39]).reshape(50,1),data_E.iloc[:,1:11]))\n",
    "test=np.hstack((data_T.iloc[:,21:33],np.array(data_T.iloc[:,34]).reshape(56,1),np.array(data_T.iloc[:,39]).reshape(56,1),data_T.iloc[:,1:11]))\n",
    "test_all=np.hstack((data.iloc[:,21:33],np.array(data.iloc[:,34]).reshape(106,1),np.array(data.iloc[:,39]).reshape(106,1),data.iloc[:,1:11]))"
   ]
  },
  {
   "cell_type": "code",
   "execution_count": 14,
   "metadata": {},
   "outputs": [
    {
     "name": "stdout",
     "output_type": "stream",
     "text": [
      "5.37554521431295\n"
     ]
    },
    {
     "data": {
      "text/plain": [
       "-0.14458755727255346"
      ]
     },
     "execution_count": 14,
     "metadata": {},
     "output_type": "execute_result"
    }
   ],
   "source": [
    "lin_reg = LinearRegression()\n",
    "lin_reg.fit(train, tend)\n",
    "print(mean_absolute_error(tend_t, lin_reg.predict(test)))\n",
    "r2_score(tend_t, lin_reg.predict(test))"
   ]
  },
  {
   "cell_type": "code",
   "execution_count": 17,
   "metadata": {},
   "outputs": [
    {
     "name": "stdout",
     "output_type": "stream",
     "text": [
      "3.3377707382791746\n"
     ]
    },
    {
     "data": {
      "text/plain": [
       "0.4903967390210715"
      ]
     },
     "execution_count": 17,
     "metadata": {},
     "output_type": "execute_result"
    }
   ],
   "source": [
    "lin_reg = LinearRegression()\n",
    "lin_reg.fit(test_all, tend_all)\n",
    "print(mean_absolute_error(tend_all, lin_reg.predict(test_all)))\n",
    "r2_score(tend_all, lin_reg.predict(test_all))"
   ]
  },
  {
   "cell_type": "code",
   "execution_count": 13,
   "metadata": {},
   "outputs": [
    {
     "name": "stdout",
     "output_type": "stream",
     "text": [
      "71.47740719816468\n"
     ]
    },
    {
     "data": {
      "text/plain": [
       "0.5691396371709612"
      ]
     },
     "execution_count": 13,
     "metadata": {},
     "output_type": "execute_result"
    }
   ],
   "source": [
    "from g_factors3 import gen_f\n",
    "from sklearn.model_selection import train_test_split\n",
    "from scipy.stats import burr\n",
    "from sklearn.preprocessing import PolynomialFeatures\n",
    "from sklearn.linear_model import LinearRegression\n",
    "from sklearn.metrics import mean_absolute_error\n",
    "from sklearn.metrics import r2_score\n",
    "from distribut import best_fit_distribution\n",
    "import numpy as np\n",
    "f1,f2,f3,f4,f5,f6,f7,f8,f9=gen_f(data_E,update=False)\n",
    "X_train, X_test, y_train, y_test = train_test_split(np.vstack((f6,f7,f8,f9)).T, payoff, test_size=0.2, random_state=0)\n",
    "lin_reg = LinearRegression()\n",
    "lin_reg.fit(X_train, y_train)\n",
    "f1,f2,f3,f4,f5,f6,f7,f8,f9=gen_f(data_T,update=False)\n",
    "print(mean_absolute_error(payoff_t, lin_reg.predict(np.vstack((f6,f7,f8,f9)).T)))\n",
    "r2_score(payoff_t, lin_reg.predict(np.vstack((f6,f7,f8,f9)).T))"
   ]
  },
  {
   "cell_type": "code",
   "execution_count": 3,
   "metadata": {},
   "outputs": [],
   "source": [
    "test=np.hstack((data_E.iloc[:,21:33],np.array(data_E.iloc[:,34]).reshape(50,1),np.array(data_E.iloc[:,39]).reshape(50,1),data_E.iloc[:,1:11],data_E.iloc[:,37:38],data_E.iloc[:,11:21]))\n",
    "test_t=np.hstack((data_T.iloc[:,21:33],np.array(data_T.iloc[:,34]).reshape(56,1),np.array(data_T.iloc[:,39]).reshape(56,1),data_T.iloc[:,1:11],data_T.iloc[:,37:38],data_T.iloc[:,11:21]))"
   ]
  },
  {
   "cell_type": "code",
   "execution_count": 4,
   "metadata": {},
   "outputs": [
    {
     "name": "stdout",
     "output_type": "stream",
     "text": [
      "130.8581751190339\n"
     ]
    },
    {
     "data": {
      "text/plain": [
       "-0.46472032282402065"
      ]
     },
     "execution_count": 4,
     "metadata": {},
     "output_type": "execute_result"
    }
   ],
   "source": [
    "X_train, X_test, y_train, y_test = train_test_split(test, payoff, test_size=0.2, random_state=0)\n",
    "lin_reg = LinearRegression()\n",
    "lin_reg.fit(X_train, y_train)\n",
    "print(mean_absolute_error(payoff_t, lin_reg.predict(test_t)))\n",
    "r2_score(payoff_t, lin_reg.predict(test_t))"
   ]
  },
  {
   "cell_type": "code",
   "execution_count": 12,
   "metadata": {},
   "outputs": [],
   "source": [
    "from g_factors3 import model_update\n",
    "for j in range (0,200):\n",
    "    k=np.random.randint(0,50,20)\n",
    "    model_update(data.iloc[k,:])"
   ]
  }
 ],
 "metadata": {
  "kernelspec": {
   "display_name": "Python 3",
   "language": "python",
   "name": "python3"
  },
  "language_info": {
   "codemirror_mode": {
    "name": "ipython",
    "version": 3
   },
   "file_extension": ".py",
   "mimetype": "text/x-python",
   "name": "python",
   "nbconvert_exporter": "python",
   "pygments_lexer": "ipython3",
   "version": "3.6.8"
  }
 },
 "nbformat": 4,
 "nbformat_minor": 2
}
