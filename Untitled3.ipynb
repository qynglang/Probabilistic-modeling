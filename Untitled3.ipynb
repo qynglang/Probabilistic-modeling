{
 "cells": [
  {
   "cell_type": "code",
   "execution_count": 1,
   "metadata": {},
   "outputs": [],
   "source": [
    "import pandas as pd\n",
    "import matplotlib.pyplot as plt\n",
    "data = pd.read_csv(\"data.csv\") "
   ]
  },
  {
   "cell_type": "code",
   "execution_count": 2,
   "metadata": {},
   "outputs": [
    {
     "data": {
      "text/html": [
       "<div>\n",
       "<style scoped>\n",
       "    .dataframe tbody tr th:only-of-type {\n",
       "        vertical-align: middle;\n",
       "    }\n",
       "\n",
       "    .dataframe tbody tr th {\n",
       "        vertical-align: top;\n",
       "    }\n",
       "\n",
       "    .dataframe thead th {\n",
       "        text-align: right;\n",
       "    }\n",
       "</style>\n",
       "<table border=\"1\" class=\"dataframe\">\n",
       "  <thead>\n",
       "    <tr style=\"text-align: right;\">\n",
       "      <th></th>\n",
       "      <th>ID</th>\n",
       "      <th>painter1_time</th>\n",
       "      <th>painter2_time</th>\n",
       "      <th>painter3_time</th>\n",
       "      <th>painter4_time</th>\n",
       "      <th>painter5_time</th>\n",
       "      <th>painter6_time</th>\n",
       "      <th>painter7_time</th>\n",
       "      <th>painter8_time</th>\n",
       "      <th>painter9_time</th>\n",
       "      <th>...</th>\n",
       "      <th>painter10_familiarity</th>\n",
       "      <th>stress</th>\n",
       "      <th>tired</th>\n",
       "      <th>pay_off</th>\n",
       "      <th>risk</th>\n",
       "      <th>b_4</th>\n",
       "      <th>b_3</th>\n",
       "      <th>c_4</th>\n",
       "      <th>c_3</th>\n",
       "      <th>delay</th>\n",
       "    </tr>\n",
       "  </thead>\n",
       "  <tbody>\n",
       "    <tr>\n",
       "      <th>0</th>\n",
       "      <td>25</td>\n",
       "      <td>567.443</td>\n",
       "      <td>589.258</td>\n",
       "      <td>871.075</td>\n",
       "      <td>424.541</td>\n",
       "      <td>640.152</td>\n",
       "      <td>1117.124</td>\n",
       "      <td>908.755</td>\n",
       "      <td>493.497</td>\n",
       "      <td>906.011</td>\n",
       "      <td>...</td>\n",
       "      <td>1</td>\n",
       "      <td>1</td>\n",
       "      <td>1</td>\n",
       "      <td>454</td>\n",
       "      <td>2</td>\n",
       "      <td>0</td>\n",
       "      <td>37</td>\n",
       "      <td>5</td>\n",
       "      <td>11</td>\n",
       "      <td>2</td>\n",
       "    </tr>\n",
       "    <tr>\n",
       "      <th>1</th>\n",
       "      <td>33</td>\n",
       "      <td>1424.242</td>\n",
       "      <td>63.744</td>\n",
       "      <td>356.716</td>\n",
       "      <td>325.936</td>\n",
       "      <td>105.141</td>\n",
       "      <td>951.267</td>\n",
       "      <td>1160.728</td>\n",
       "      <td>155.481</td>\n",
       "      <td>899.991</td>\n",
       "      <td>...</td>\n",
       "      <td>1</td>\n",
       "      <td>2</td>\n",
       "      <td>2</td>\n",
       "      <td>507</td>\n",
       "      <td>2</td>\n",
       "      <td>5</td>\n",
       "      <td>31</td>\n",
       "      <td>12</td>\n",
       "      <td>6</td>\n",
       "      <td>2</td>\n",
       "    </tr>\n",
       "    <tr>\n",
       "      <th>2</th>\n",
       "      <td>42</td>\n",
       "      <td>1320.878</td>\n",
       "      <td>183.888</td>\n",
       "      <td>1147.679</td>\n",
       "      <td>806.613</td>\n",
       "      <td>569.499</td>\n",
       "      <td>904.191</td>\n",
       "      <td>1507.476</td>\n",
       "      <td>294.256</td>\n",
       "      <td>393.701</td>\n",
       "      <td>...</td>\n",
       "      <td>1</td>\n",
       "      <td>1</td>\n",
       "      <td>1</td>\n",
       "      <td>434</td>\n",
       "      <td>1</td>\n",
       "      <td>0</td>\n",
       "      <td>24</td>\n",
       "      <td>9</td>\n",
       "      <td>7</td>\n",
       "      <td>1</td>\n",
       "    </tr>\n",
       "    <tr>\n",
       "      <th>3</th>\n",
       "      <td>58</td>\n",
       "      <td>897.658</td>\n",
       "      <td>681.745</td>\n",
       "      <td>368.636</td>\n",
       "      <td>727.118</td>\n",
       "      <td>723.261</td>\n",
       "      <td>1070.142</td>\n",
       "      <td>874.328</td>\n",
       "      <td>636.127</td>\n",
       "      <td>592.833</td>\n",
       "      <td>...</td>\n",
       "      <td>1</td>\n",
       "      <td>0</td>\n",
       "      <td>0</td>\n",
       "      <td>566</td>\n",
       "      <td>2</td>\n",
       "      <td>12</td>\n",
       "      <td>40</td>\n",
       "      <td>5</td>\n",
       "      <td>9</td>\n",
       "      <td>1</td>\n",
       "    </tr>\n",
       "    <tr>\n",
       "      <th>4</th>\n",
       "      <td>68</td>\n",
       "      <td>1078.837</td>\n",
       "      <td>611.756</td>\n",
       "      <td>462.712</td>\n",
       "      <td>763.973</td>\n",
       "      <td>627.325</td>\n",
       "      <td>789.635</td>\n",
       "      <td>576.564</td>\n",
       "      <td>297.831</td>\n",
       "      <td>535.604</td>\n",
       "      <td>...</td>\n",
       "      <td>1</td>\n",
       "      <td>0</td>\n",
       "      <td>0</td>\n",
       "      <td>268</td>\n",
       "      <td>1</td>\n",
       "      <td>0</td>\n",
       "      <td>16</td>\n",
       "      <td>19</td>\n",
       "      <td>4</td>\n",
       "      <td>2</td>\n",
       "    </tr>\n",
       "  </tbody>\n",
       "</table>\n",
       "<p>5 rows × 40 columns</p>\n",
       "</div>"
      ],
      "text/plain": [
       "   ID painter1_time painter2_time painter3_time painter4_time painter5_time  \\\n",
       "0  25       567.443       589.258       871.075       424.541       640.152   \n",
       "1  33      1424.242        63.744       356.716       325.936       105.141   \n",
       "2  42      1320.878       183.888      1147.679       806.613       569.499   \n",
       "3  58       897.658       681.745       368.636       727.118       723.261   \n",
       "4  68      1078.837       611.756       462.712       763.973       627.325   \n",
       "\n",
       "  painter6_time painter7_time painter8_time painter9_time  ...  \\\n",
       "0      1117.124       908.755       493.497       906.011  ...   \n",
       "1       951.267      1160.728       155.481       899.991  ...   \n",
       "2       904.191      1507.476       294.256       393.701  ...   \n",
       "3      1070.142       874.328       636.127       592.833  ...   \n",
       "4       789.635       576.564       297.831       535.604  ...   \n",
       "\n",
       "  painter10_familiarity stress tired pay_off risk b_4 b_3 c_4 c_3 delay  \n",
       "0                     1      1     1     454    2   0  37   5  11     2  \n",
       "1                     1      2     2     507    2   5  31  12   6     2  \n",
       "2                     1      1     1     434    1   0  24   9   7     1  \n",
       "3                     1      0     0     566    2  12  40   5   9     1  \n",
       "4                     1      0     0     268    1   0  16  19   4     2  \n",
       "\n",
       "[5 rows x 40 columns]"
      ]
     },
     "execution_count": 2,
     "metadata": {},
     "output_type": "execute_result"
    }
   ],
   "source": [
    "data.head(5)"
   ]
  },
  {
   "cell_type": "code",
   "execution_count": 3,
   "metadata": {},
   "outputs": [
    {
     "name": "stderr",
     "output_type": "stream",
     "text": [
      "/afs/inf.ed.ac.uk/user/s18/s1883226/miniconda3/envs/mlp/lib/python3.6/site-packages/pandas/core/ops/__init__.py:1115: FutureWarning: elementwise comparison failed; returning scalar instead, but in the future will perform elementwise comparison\n",
      "  result = method(y)\n"
     ]
    }
   ],
   "source": [
    "import numpy as np\n",
    "data[data==' ']=np.nan\n",
    "data=data.dropna()\n",
    "#data=np.int8"
   ]
  },
  {
   "cell_type": "code",
   "execution_count": 4,
   "metadata": {},
   "outputs": [],
   "source": [
    "stress=np.int8(data.iloc[:,31])"
   ]
  },
  {
   "cell_type": "code",
   "execution_count": 5,
   "metadata": {},
   "outputs": [],
   "source": [
    "tired=np.int8(data.iloc[:,32])"
   ]
  },
  {
   "cell_type": "code",
   "execution_count": 6,
   "metadata": {},
   "outputs": [],
   "source": [
    "st=np.int8(data.iloc[:,31:33])\n"
   ]
  },
  {
   "cell_type": "code",
   "execution_count": 7,
   "metadata": {},
   "outputs": [],
   "source": [
    "choice3=data.iloc[:,37]\n",
    "choice4=data.iloc[:,38]"
   ]
  },
  {
   "cell_type": "code",
   "execution_count": 8,
   "metadata": {},
   "outputs": [],
   "source": [
    "tend=np.int8(choice3)+np.int8(choice4)"
   ]
  },
  {
   "cell_type": "code",
   "execution_count": 9,
   "metadata": {},
   "outputs": [],
   "source": [
    "from sklearn.model_selection import train_test_split \n",
    "X_train, X_test, y_train, y_test = train_test_split(st, tend, test_size=0.2, random_state=0)\n"
   ]
  },
  {
   "cell_type": "code",
   "execution_count": 10,
   "metadata": {},
   "outputs": [
    {
     "data": {
      "text/plain": [
       "LinearRegression(copy_X=True, fit_intercept=True, n_jobs=None,\n",
       "         normalize=False)"
      ]
     },
     "execution_count": 10,
     "metadata": {},
     "output_type": "execute_result"
    }
   ],
   "source": [
    "from sklearn.linear_model import LinearRegression\n",
    "lin_reg = LinearRegression()\n",
    "lin_reg.fit(X_train, y_train)"
   ]
  },
  {
   "cell_type": "code",
   "execution_count": 11,
   "metadata": {},
   "outputs": [
    {
     "data": {
      "text/plain": [
       "array([18.53634441, 16.27604082, 19.52617448, 17.40619261, 16.27604082,\n",
       "       17.40619261, 17.40619261, 16.27604082, 18.53634441, 17.40619261,\n",
       "       16.41636254, 17.40619261, 17.40619261, 17.40619261, 16.27604082,\n",
       "       16.27604082, 17.40619261, 17.40619261, 17.40619261, 17.40619261,\n",
       "       17.26587089, 17.40619261])"
      ]
     },
     "execution_count": 11,
     "metadata": {},
     "output_type": "execute_result"
    }
   ],
   "source": [
    "lin_reg.predict(X_test)"
   ]
  },
  {
   "cell_type": "code",
   "execution_count": 12,
   "metadata": {},
   "outputs": [
    {
     "name": "stdout",
     "output_type": "stream",
     "text": [
      "4.289088436610462\n"
     ]
    },
    {
     "data": {
      "text/plain": [
       "-0.24953398982152786"
      ]
     },
     "execution_count": 12,
     "metadata": {},
     "output_type": "execute_result"
    }
   ],
   "source": [
    "from sklearn.metrics import mean_absolute_error\n",
    "from sklearn.metrics import r2_score\n",
    "print(mean_absolute_error(y_test, lin_reg.predict(X_test)))\n",
    "r2_score(y_test, lin_reg.predict(X_test))"
   ]
  },
  {
   "cell_type": "code",
   "execution_count": 13,
   "metadata": {},
   "outputs": [
    {
     "data": {
      "text/plain": [
       "LinearRegression(copy_X=True, fit_intercept=True, n_jobs=None,\n",
       "         normalize=False)"
      ]
     },
     "execution_count": 13,
     "metadata": {},
     "output_type": "execute_result"
    }
   ],
   "source": [
    "from sklearn.preprocessing import PolynomialFeatures\n",
    "poly_reg = PolynomialFeatures(degree=2)\n",
    "X_poly = poly_reg.fit_transform(X_train)\n",
    "pol_reg = LinearRegression()\n",
    "pol_reg.fit(X_poly, y_train)"
   ]
  },
  {
   "cell_type": "code",
   "execution_count": 14,
   "metadata": {},
   "outputs": [
    {
     "data": {
      "text/plain": [
       "array([18.1817625 , 16.50276172, 20.4994216 , 17.27319274, 16.50276172,\n",
       "       17.27319274, 17.27319274, 16.50276172, 18.1817625 , 17.27319274,\n",
       "       16.28540419, 17.27319274, 17.27319274, 17.27319274, 16.50276172,\n",
       "       16.50276172, 17.27319274, 17.27319274, 17.27319274, 17.27319274,\n",
       "       16.98068652, 17.27319274])"
      ]
     },
     "execution_count": 14,
     "metadata": {},
     "output_type": "execute_result"
    }
   ],
   "source": [
    "X_poly_test = poly_reg.fit_transform(X_test)\n",
    "pol_reg.predict(X_poly_test)"
   ]
  },
  {
   "cell_type": "code",
   "execution_count": 15,
   "metadata": {},
   "outputs": [
    {
     "data": {
      "text/plain": [
       "4.28330928443235"
      ]
     },
     "execution_count": 15,
     "metadata": {},
     "output_type": "execute_result"
    }
   ],
   "source": [
    "mean_absolute_error(y_test, pol_reg.predict(X_poly_test))"
   ]
  },
  {
   "cell_type": "code",
   "execution_count": 16,
   "metadata": {},
   "outputs": [
    {
     "data": {
      "text/plain": [
       "-0.26409456749653515"
      ]
     },
     "execution_count": 16,
     "metadata": {},
     "output_type": "execute_result"
    }
   ],
   "source": [
    "r2_score(y_test, pol_reg.predict(X_poly_test))"
   ]
  },
  {
   "cell_type": "code",
   "execution_count": 17,
   "metadata": {},
   "outputs": [
    {
     "data": {
      "text/plain": [
       "array([[0, 0],\n",
       "       [1, 0],\n",
       "       [0, 1],\n",
       "       [2, 0],\n",
       "       [1, 1],\n",
       "       [0, 2]])"
      ]
     },
     "execution_count": 17,
     "metadata": {},
     "output_type": "execute_result"
    }
   ],
   "source": [
    "poly_reg.powers_\n"
   ]
  },
  {
   "cell_type": "code",
   "execution_count": 18,
   "metadata": {},
   "outputs": [
    {
     "data": {
      "text/plain": [
       "array([ 0.        ,  1.6212288 , -0.6829265 ,  0.06906937, -0.91986715,\n",
       "        0.2050017 ])"
      ]
     },
     "execution_count": 18,
     "metadata": {},
     "output_type": "execute_result"
    }
   ],
   "source": [
    "pol_reg.coef_"
   ]
  },
  {
   "cell_type": "code",
   "execution_count": 19,
   "metadata": {},
   "outputs": [],
   "source": [
    "from scipy.stats import burr"
   ]
  },
  {
   "cell_type": "code",
   "execution_count": 20,
   "metadata": {},
   "outputs": [],
   "source": [
    "f=data.iloc[:,21:31]\n",
    "f_e=np.zeros((106,10))\n",
    "f_e[np.where(f=='0')]=burr.rvs(14.038027454242975,2088.291950538207,-6.573122747248534,398.27116774711067, size=f_e[np.where(np.array(f)=='0')].shape[0])/500\n",
    "f_e[np.where(f=='1')]=burr.rvs(3.1963734941460253,0.6756158751301813,-5.541005126302264,770.0101084770896, size=f_e[np.where(np.array(f)=='1')].shape[0])/500\n",
    "f_e[np.where(f=='2')]=burr.rvs(2.881819996766421,0.7423974676323387,-0.10643840038516461,600.8193288318848, size=f_e[np.where(np.array(f)=='2')].shape[0])/500\n",
    "f_e[np.where(f=='3')] = burr.rvs(3.8823906071218754,0.39664109623209587,-4.321262183898044,666.6238719647567, size=f_e[np.where(np.array(f)=='3')].shape[0])/500\n",
    "f_e[np.where(f=='4')] = burr.rvs(6.1030943196528735,0.21404856140204834,-3.2134669690041697,743.8724160581987, size=f_e[np.where(np.array(f)=='4')].shape[0])/500"
   ]
  },
  {
   "cell_type": "code",
   "execution_count": 21,
   "metadata": {},
   "outputs": [
    {
     "data": {
      "text/plain": [
       "array([[1.        , 4.        , 1.        , ..., 0.17576219, 1.28773938,\n",
       "        0.95785381],\n",
       "       [1.        , 2.        , 1.        , ..., 0.71496233, 1.66914918,\n",
       "        0.55440208],\n",
       "       [1.        , 2.        , 1.        , ..., 0.81403187, 0.8341787 ,\n",
       "        0.81472449],\n",
       "       ...,\n",
       "       [2.        , 2.        , 1.        , ..., 0.38699294, 1.32270219,\n",
       "        1.03909721],\n",
       "       [2.        , 2.        , 1.        , ..., 0.81130129, 1.07420317,\n",
       "        1.37879736],\n",
       "       [1.        , 2.        , 1.        , ..., 3.22774957, 1.81820985,\n",
       "        0.9860885 ]])"
      ]
     },
     "execution_count": 21,
     "metadata": {},
     "output_type": "execute_result"
    }
   ],
   "source": [
    "np.hstack((np.int8(f),f_e))"
   ]
  },
  {
   "cell_type": "code",
   "execution_count": 22,
   "metadata": {},
   "outputs": [
    {
     "data": {
      "text/plain": [
       "LinearRegression(copy_X=True, fit_intercept=True, n_jobs=None,\n",
       "         normalize=False)"
      ]
     },
     "execution_count": 22,
     "metadata": {},
     "output_type": "execute_result"
    }
   ],
   "source": [
    "from sklearn.linear_model import LinearRegression\n",
    "lin_reg = LinearRegression()\n",
    "lin_reg.fit(np.hstack((np.int8(f),f_e)), tend)"
   ]
  },
  {
   "cell_type": "code",
   "execution_count": 23,
   "metadata": {},
   "outputs": [],
   "source": [
    "w=lin_reg.coef_"
   ]
  },
  {
   "cell_type": "code",
   "execution_count": 24,
   "metadata": {},
   "outputs": [],
   "source": [
    "#stress and tiredness: y=259*x1+16*x2-38.897*x1**2-163.632*x1*x2-8.738*x2**2\n",
    "# familarity and interaction fe: "
   ]
  },
  {
   "cell_type": "code",
   "execution_count": 25,
   "metadata": {},
   "outputs": [],
   "source": [
    "# np.int8(x1)**2"
   ]
  },
  {
   "cell_type": "code",
   "execution_count": 26,
   "metadata": {},
   "outputs": [],
   "source": [
    "x1=stress\n",
    "x2=tired\n",
    "f1=1.6212288*np.int8(x1)-0.6829265*np.int8(x2)+0.06906937*np.int8(x1)**2-0.91986715*np.int8(x1)*np.int8(x2)+0.2050017*np.int8(x2)**2"
   ]
  },
  {
   "cell_type": "code",
   "execution_count": 27,
   "metadata": {},
   "outputs": [
    {
     "data": {
      "text/plain": [
       "array([ 0.29250622, -0.70657972,  0.29250622,  0.        ,  0.        ,\n",
       "        1.20107598,  0.        , -0.4779248 ,  0.29250622,  0.29250622,\n",
       "       -0.4779248 ,  1.20107598, -0.4779248 ,  0.29250622, -0.4779248 ,\n",
       "        0.        ,  1.20107598,  1.69029817,  0.        , -0.4779248 ,\n",
       "        0.29250622,  0.        ,  0.29250622,  1.69029817, -0.4779248 ,\n",
       "        3.51873508, -0.4779248 ,  0.29250622,  0.        ,  0.        ,\n",
       "        0.29250622,  0.29250622, -0.4779248 ,  1.69029817,  0.        ,\n",
       "        0.29250622, -0.4779248 ,  1.69029817,  1.69029817,  1.69029817,\n",
       "        1.69029817,  0.29250622,  0.29250622,  0.        ,  0.29250622,\n",
       "        0.29250622,  0.        ,  1.20107598, -0.69528233, -0.4779248 ,\n",
       "       -0.69528233,  0.29250622, -0.4779248 , -0.4779248 ,  0.29250622,\n",
       "        0.        ,  1.69029817,  0.        ,  0.29250622,  1.69029817,\n",
       "        0.29250622,  1.69029817,  0.29250622, -0.4779248 ,  1.69029817,\n",
       "        0.29250622,  1.69029817,  0.        , -0.69528233, -0.4779248 ,\n",
       "       -0.4779248 , -0.4779248 ,  0.29250622,  0.29250622,  0.29250622,\n",
       "        3.51873508, -0.4779248 ,  0.        ,  1.69029817,  0.        ,\n",
       "        0.        ,  0.        ,  1.69029817,  0.29250622,  0.29250622,\n",
       "        0.29250622, -0.5458462 ,  0.29250622,  1.20107598,  0.29250622,\n",
       "        0.        , -0.4779248 ,  0.29250622, -0.69528233,  0.        ,\n",
       "        0.29250622,  3.51873508,  0.        ,  0.29250622,  1.20107598,\n",
       "        1.69029817,  0.        , -0.5458462 ,  1.69029817,  1.69029817,\n",
       "        0.29250622])"
      ]
     },
     "execution_count": 27,
     "metadata": {},
     "output_type": "execute_result"
    }
   ],
   "source": [
    "f1"
   ]
  },
  {
   "cell_type": "code",
   "execution_count": 28,
   "metadata": {},
   "outputs": [],
   "source": [
    "a=np.hstack((np.int8(f),f_e))"
   ]
  },
  {
   "cell_type": "code",
   "execution_count": 29,
   "metadata": {},
   "outputs": [
    {
     "data": {
      "text/plain": [
       "(106, 20)"
      ]
     },
     "execution_count": 29,
     "metadata": {},
     "output_type": "execute_result"
    }
   ],
   "source": [
    "a.shape"
   ]
  },
  {
   "cell_type": "code",
   "execution_count": 30,
   "metadata": {},
   "outputs": [],
   "source": [
    "f2=np.sum(a*w,axis=1)"
   ]
  },
  {
   "cell_type": "code",
   "execution_count": 31,
   "metadata": {},
   "outputs": [
    {
     "data": {
      "text/plain": [
       "array([[1., 2., 3.],\n",
       "       [1., 2., 3.],\n",
       "       [1., 2., 3.],\n",
       "       [1., 2., 3.]])"
      ]
     },
     "execution_count": 31,
     "metadata": {},
     "output_type": "execute_result"
    }
   ],
   "source": [
    "a=np.ones((4,3))\n",
    "b=[1,2,3]\n",
    "a*b"
   ]
  },
  {
   "cell_type": "code",
   "execution_count": 32,
   "metadata": {},
   "outputs": [
    {
     "data": {
      "text/plain": [
       "array([[  0.29250622,  -3.09322695],\n",
       "       [ -0.70657972,  -1.25147751],\n",
       "       [  0.29250622,  -4.34476532],\n",
       "       [  0.        ,  -8.4335932 ],\n",
       "       [  0.        ,  -3.65933643],\n",
       "       [  1.20107598,  -0.56230918],\n",
       "       [  0.        ,  -9.17726981],\n",
       "       [ -0.4779248 ,  -5.36878292],\n",
       "       [  0.29250622,  -8.80416145],\n",
       "       [  0.29250622,  -4.20561449],\n",
       "       [ -0.4779248 ,  -3.11916819],\n",
       "       [  1.20107598,  -8.75816634],\n",
       "       [ -0.4779248 , -10.52710291],\n",
       "       [  0.29250622,  -8.22682611],\n",
       "       [ -0.4779248 ,  -6.13417011],\n",
       "       [  0.        ,  -2.2497386 ],\n",
       "       [  1.20107598,  -8.22494935],\n",
       "       [  1.69029817,  -0.90134067],\n",
       "       [  0.        ,  -5.35982935],\n",
       "       [ -0.4779248 ,  -6.42777433],\n",
       "       [  0.29250622,  -5.6827286 ],\n",
       "       [  0.        ,  -9.4824613 ],\n",
       "       [  0.29250622,  -2.78544362],\n",
       "       [  1.69029817,  -6.74043647],\n",
       "       [ -0.4779248 ,  -3.38485023],\n",
       "       [  3.51873508,  -2.23773636],\n",
       "       [ -0.4779248 ,  -1.71661251],\n",
       "       [  0.29250622,  -5.01407349],\n",
       "       [  0.        ,  -5.34355396],\n",
       "       [  0.        , -10.65460513],\n",
       "       [  0.29250622,  -4.25511331],\n",
       "       [  0.29250622,  -6.83618346],\n",
       "       [ -0.4779248 ,  -2.3193147 ],\n",
       "       [  1.69029817,  -4.16324326],\n",
       "       [  0.        ,  -8.08600632],\n",
       "       [  0.29250622,  -3.76656646],\n",
       "       [ -0.4779248 ,  -3.49671997],\n",
       "       [  1.69029817,  -7.55970999],\n",
       "       [  1.69029817,  -5.45855998],\n",
       "       [  1.69029817,  -6.7554846 ],\n",
       "       [  1.69029817,  -8.39390777],\n",
       "       [  0.29250622,  -4.98451219],\n",
       "       [  0.29250622,  -6.82532272],\n",
       "       [  0.        ,  -5.07526058],\n",
       "       [  0.29250622,  -2.90002703],\n",
       "       [  0.29250622,  -4.7815731 ],\n",
       "       [  0.        ,  -5.41723621],\n",
       "       [  1.20107598,  -4.40906541],\n",
       "       [ -0.69528233,  -4.02986276],\n",
       "       [ -0.4779248 ,  -4.53041586],\n",
       "       [ -0.69528233, -10.45409411],\n",
       "       [  0.29250622,  -5.87175394],\n",
       "       [ -0.4779248 ,  -2.42429461],\n",
       "       [ -0.4779248 ,  -8.48825886],\n",
       "       [  0.29250622,  -5.59322311],\n",
       "       [  0.        ,  -5.02256254],\n",
       "       [  1.69029817,  -6.45635186],\n",
       "       [  0.        ,  -0.56152153],\n",
       "       [  0.29250622,  -6.91940939],\n",
       "       [  1.69029817,  -8.38401646],\n",
       "       [  0.29250622,   1.15016142],\n",
       "       [  1.69029817,  -6.8361549 ],\n",
       "       [  0.29250622,  -2.47291827],\n",
       "       [ -0.4779248 ,  -2.25997595],\n",
       "       [  1.69029817,  -0.41898268],\n",
       "       [  0.29250622,  -5.79993233],\n",
       "       [  1.69029817,  -8.27612036],\n",
       "       [  0.        ,  -8.26613631],\n",
       "       [ -0.69528233,  -1.91532313],\n",
       "       [ -0.4779248 ,  -5.36442404],\n",
       "       [ -0.4779248 ,  -2.20520549],\n",
       "       [ -0.4779248 ,  -6.87371323],\n",
       "       [  0.29250622,  -1.46309111],\n",
       "       [  0.29250622,  -3.26135523],\n",
       "       [  0.29250622, -10.35641933],\n",
       "       [  3.51873508,  -6.77732612],\n",
       "       [ -0.4779248 ,  -7.08446736],\n",
       "       [  0.        ,  -1.57290353],\n",
       "       [  1.69029817, -10.00177533],\n",
       "       [  0.        ,  -7.42044068],\n",
       "       [  0.        ,  -5.57416805],\n",
       "       [  0.        ,  -4.50156398],\n",
       "       [  1.69029817,  -3.29176451],\n",
       "       [  0.29250622,  -3.34925463],\n",
       "       [  0.29250622,  -2.51216035],\n",
       "       [  0.29250622,  -5.84060832],\n",
       "       [ -0.5458462 ,  -5.67439081],\n",
       "       [  0.29250622,  -7.57895008],\n",
       "       [  1.20107598,  -7.70447898],\n",
       "       [  0.29250622,  -4.71595739],\n",
       "       [  0.        , -13.51577729],\n",
       "       [ -0.4779248 ,  -4.2804701 ],\n",
       "       [  0.29250622,  -5.07519834],\n",
       "       [ -0.69528233,  -6.11372193],\n",
       "       [  0.        ,  -6.11527544],\n",
       "       [  0.29250622,  -6.11895904],\n",
       "       [  3.51873508,  -3.09229088],\n",
       "       [  0.        ,  -5.71156039],\n",
       "       [  0.29250622,  -2.02505787],\n",
       "       [  1.20107598,  -4.85568202],\n",
       "       [  1.69029817,  -5.34612078],\n",
       "       [  0.        ,  -5.69853356],\n",
       "       [ -0.5458462 ,  -4.01651825],\n",
       "       [  1.69029817,  -5.21627796],\n",
       "       [  1.69029817,  -4.60385202],\n",
       "       [  0.29250622,  -7.83373144]])"
      ]
     },
     "execution_count": 32,
     "metadata": {},
     "output_type": "execute_result"
    }
   ],
   "source": [
    "np.vstack((f1,f2)).T"
   ]
  },
  {
   "cell_type": "code",
   "execution_count": 33,
   "metadata": {},
   "outputs": [],
   "source": [
    "from sklearn.model_selection import train_test_split \n",
    "X_train, X_test, y_train, y_test = train_test_split(np.vstack((f1,f2)).T, tend, test_size=0.2, random_state=0)"
   ]
  },
  {
   "cell_type": "code",
   "execution_count": 34,
   "metadata": {},
   "outputs": [
    {
     "data": {
      "text/plain": [
       "LinearRegression(copy_X=True, fit_intercept=True, n_jobs=None,\n",
       "         normalize=False)"
      ]
     },
     "execution_count": 34,
     "metadata": {},
     "output_type": "execute_result"
    }
   ],
   "source": [
    "from sklearn.linear_model import LinearRegression\n",
    "lin_reg = LinearRegression()\n",
    "lin_reg.fit(X_train,y_train)"
   ]
  },
  {
   "cell_type": "code",
   "execution_count": 35,
   "metadata": {},
   "outputs": [
    {
     "data": {
      "text/plain": [
       "array([18.73568748, 19.12311372, 18.70357372, 18.4919613 , 18.84218792,\n",
       "       20.94476425, 14.8028123 , 16.74442512, 15.1731051 , 16.91029283,\n",
       "       20.20848416, 20.14075062, 18.03009124, 24.30216489, 14.9303016 ,\n",
       "       19.85785637, 14.38716344, 19.63753311, 20.42971379, 17.17187201,\n",
       "       16.80813099, 13.77670291])"
      ]
     },
     "execution_count": 35,
     "metadata": {},
     "output_type": "execute_result"
    }
   ],
   "source": [
    "lin_reg.predict(X_test)"
   ]
  },
  {
   "cell_type": "code",
   "execution_count": 36,
   "metadata": {},
   "outputs": [
    {
     "name": "stdout",
     "output_type": "stream",
     "text": [
      "3.9603919774935665\n"
     ]
    },
    {
     "data": {
      "text/plain": [
       "-0.05553089184611104"
      ]
     },
     "execution_count": 36,
     "metadata": {},
     "output_type": "execute_result"
    }
   ],
   "source": [
    "print(mean_absolute_error(y_test, lin_reg.predict(X_test)))\n",
    "r2_score(y_test, lin_reg.predict(X_test))"
   ]
  },
  {
   "cell_type": "code",
   "execution_count": 37,
   "metadata": {},
   "outputs": [],
   "source": [
    "D=np.hstack((np.int8(np.array(data.iloc[:,21:31])),np.int8(st)))"
   ]
  },
  {
   "cell_type": "code",
   "execution_count": 38,
   "metadata": {},
   "outputs": [],
   "source": [
    "from sklearn.model_selection import train_test_split \n",
    "X_train, X_test, y_train, y_test = train_test_split(D, tend, test_size=0.2, random_state=0)"
   ]
  },
  {
   "cell_type": "code",
   "execution_count": 39,
   "metadata": {},
   "outputs": [
    {
     "data": {
      "text/plain": [
       "LinearRegression(copy_X=True, fit_intercept=True, n_jobs=None,\n",
       "         normalize=False)"
      ]
     },
     "execution_count": 39,
     "metadata": {},
     "output_type": "execute_result"
    }
   ],
   "source": [
    "from sklearn.linear_model import LinearRegression\n",
    "lin_reg = LinearRegression()\n",
    "lin_reg.fit(X_train,y_train)"
   ]
  },
  {
   "cell_type": "code",
   "execution_count": 40,
   "metadata": {},
   "outputs": [
    {
     "name": "stdout",
     "output_type": "stream",
     "text": [
      "4.387252879571907\n"
     ]
    },
    {
     "data": {
      "text/plain": [
       "-0.28363890610676346"
      ]
     },
     "execution_count": 40,
     "metadata": {},
     "output_type": "execute_result"
    }
   ],
   "source": [
    "print(mean_absolute_error(y_test, lin_reg.predict(X_test)))\n",
    "r2_score(y_test, lin_reg.predict(X_test))"
   ]
  },
  {
   "cell_type": "code",
   "execution_count": 41,
   "metadata": {},
   "outputs": [],
   "source": [
    "risk=data.iloc[:,34]"
   ]
  },
  {
   "cell_type": "code",
   "execution_count": 42,
   "metadata": {},
   "outputs": [],
   "source": [
    "delay=data.iloc[:,39]"
   ]
  },
  {
   "cell_type": "code",
   "execution_count": 43,
   "metadata": {},
   "outputs": [],
   "source": [
    "mm, X_test, t, y_test = train_test_split(risk, tend, test_size=0.2, random_state=0)\n",
    "nn, X_test, t, y_test = train_test_split(delay, tend, test_size=0.2, random_state=0)"
   ]
  },
  {
   "cell_type": "code",
   "execution_count": 44,
   "metadata": {},
   "outputs": [],
   "source": [
    "m=[mm=='1']\n",
    "n=[nn=='1']"
   ]
  },
  {
   "cell_type": "code",
   "execution_count": 45,
   "metadata": {},
   "outputs": [
    {
     "data": {
      "text/plain": [
       "array([ 0,  6,  7,  8, 11, 12, 14, 16, 17, 20, 25, 30, 31, 33, 36, 38, 39,\n",
       "       40, 41, 42, 44, 45, 52, 55, 56, 57, 59, 61, 65, 66, 67, 68, 69, 70,\n",
       "       71, 72, 73, 75, 76, 78, 80, 82, 83])"
      ]
     },
     "execution_count": 45,
     "metadata": {},
     "output_type": "execute_result"
    }
   ],
   "source": [
    "a=np.array(np.where(np.array(m[0])==1))\n",
    "b=np.array(np.where(np.array(n[0])==1))\n",
    "a[0]"
   ]
  },
  {
   "cell_type": "code",
   "execution_count": 46,
   "metadata": {},
   "outputs": [],
   "source": [
    "tmp1 = [i for i in a[0] if i in b[0]]"
   ]
  },
  {
   "cell_type": "code",
   "execution_count": 47,
   "metadata": {},
   "outputs": [
    {
     "data": {
      "text/plain": [
       "[0,\n",
       " 6,\n",
       " 7,\n",
       " 11,\n",
       " 12,\n",
       " 14,\n",
       " 16,\n",
       " 17,\n",
       " 20,\n",
       " 30,\n",
       " 31,\n",
       " 36,\n",
       " 42,\n",
       " 52,\n",
       " 61,\n",
       " 68,\n",
       " 69,\n",
       " 70,\n",
       " 71,\n",
       " 72,\n",
       " 73,\n",
       " 76,\n",
       " 78]"
      ]
     },
     "execution_count": 47,
     "metadata": {},
     "output_type": "execute_result"
    }
   ],
   "source": [
    "tmp1"
   ]
  },
  {
   "cell_type": "code",
   "execution_count": 48,
   "metadata": {},
   "outputs": [
    {
     "name": "stdout",
     "output_type": "stream",
     "text": [
      "18.782608695652176\n",
      "21.0\n",
      "21\n"
     ]
    }
   ],
   "source": [
    "print(np.mean(t[tmp1]))\n",
    "print(np.median(t[tmp1]))\n",
    "counts = np.bincount(t[tmp1])\n",
    "print(np.argmax(counts))"
   ]
  },
  {
   "cell_type": "code",
   "execution_count": 49,
   "metadata": {},
   "outputs": [],
   "source": [
    "# tend[tmp1]\n",
    "# plt.hist(t[tmp1])\n"
   ]
  },
  {
   "cell_type": "code",
   "execution_count": 50,
   "metadata": {},
   "outputs": [
    {
     "name": "stdout",
     "output_type": "stream",
     "text": [
      "16.166666666666668\n",
      "16.0\n",
      "14\n"
     ]
    }
   ],
   "source": [
    "m=[mm=='2']\n",
    "n=[nn=='1']\n",
    "a=np.array(np.where(np.array(m[0])==1))\n",
    "b=np.array(np.where(np.array(n[0])==1))\n",
    "tmp2 = [i for i in a[0] if i in b[0]]\n",
    "tend[tmp2]\n",
    "#plt.hist(t[tmp2])\n",
    "print(np.mean(t[tmp2]))\n",
    "print(np.median(t[tmp2]))\n",
    "counts = np.bincount(t[tmp2])\n",
    "print(np.argmax(counts))"
   ]
  },
  {
   "cell_type": "code",
   "execution_count": 51,
   "metadata": {},
   "outputs": [
    {
     "name": "stdout",
     "output_type": "stream",
     "text": [
      "17.55\n",
      "16.0\n",
      "9\n"
     ]
    },
    {
     "data": {
      "image/png": "[encoded data removed]",
      "text/plain": [
       "<Figure size 432x288 with 1 Axes>"
      ]
     },
     "metadata": {
      "needs_background": "light"
     },
     "output_type": "display_data"
    }
   ],
   "source": [
    "m=[mm=='1']\n",
    "n=[nn=='2']\n",
    "a=np.array(np.where(np.array(m[0])==1))\n",
    "b=np.array(np.where(np.array(n[0])==1))\n",
    "tmp3 = [i for i in a[0] if i in b[0]]\n",
    "tend[tmp3]\n",
    "plt.hist(t[tmp3])\n",
    "print(np.mean(t[tmp3]))\n",
    "print(np.median(t[tmp3]))\n",
    "counts = np.bincount(t[tmp3])\n",
    "print(np.argmax(counts))"
   ]
  },
  {
   "cell_type": "code",
   "execution_count": 52,
   "metadata": {},
   "outputs": [
    {
     "name": "stdout",
     "output_type": "stream",
     "text": [
      "16.91304347826087\n",
      "17.0\n",
      "17\n"
     ]
    },
    {
     "data": {
      "image/png": "[encoded data removed]",
      "text/plain": [
       "<Figure size 432x288 with 1 Axes>"
      ]
     },
     "metadata": {
      "needs_background": "light"
     },
     "output_type": "display_data"
    }
   ],
   "source": [
    "m=[mm=='2']\n",
    "n=[nn=='2']\n",
    "a=np.array(np.where(np.array(m[0])==1))\n",
    "b=np.array(np.where(np.array(n[0])==1))\n",
    "tmp4 = [i for i in a[0] if i in b[0]]\n",
    "tend[tmp4]\n",
    "plt.hist(t[tmp4])\n",
    "print(np.mean(t[tmp4]))\n",
    "print(np.median(t[tmp4]))\n",
    "counts = np.bincount(t[tmp4])\n",
    "print(np.argmax(counts))"
   ]
  },
  {
   "cell_type": "code",
   "execution_count": 53,
   "metadata": {},
   "outputs": [
    {
     "data": {
      "text/plain": [
       "(84,)"
      ]
     },
     "execution_count": 53,
     "metadata": {},
     "output_type": "execute_result"
    }
   ],
   "source": [
    "t.shape"
   ]
  },
  {
   "cell_type": "code",
   "execution_count": 54,
   "metadata": {},
   "outputs": [],
   "source": [
    "f3=np.zeros(106)"
   ]
  },
  {
   "cell_type": "code",
   "execution_count": 55,
   "metadata": {},
   "outputs": [],
   "source": [
    "f3[tmp1]=18.782608695652176\n",
    "f3[tmp2]=16.166666666666668\n",
    "f3[tmp3]=17.55\n",
    "f3[tmp3]=16.91304347826087\n"
   ]
  },
  {
   "cell_type": "code",
   "execution_count": 56,
   "metadata": {},
   "outputs": [],
   "source": [
    "m=[risk=='1']\n",
    "n=[delay=='1']\n",
    "a=np.array(np.where(np.array(m[0])==1))\n",
    "b=np.array(np.where(np.array(n[0])==1))\n",
    "tmp1 = [i for i in a[0] if i in b[0]]\n",
    "m=[risk=='2']\n",
    "n=[delay=='1']\n",
    "a=np.array(np.where(np.array(m[0])==1))\n",
    "b=np.array(np.where(np.array(n[0])==1))\n",
    "tmp2 = [i for i in a[0] if i in b[0]]\n",
    "m=[risk=='1']\n",
    "n=[delay=='2']\n",
    "a=np.array(np.where(np.array(m[0])==1))\n",
    "b=np.array(np.where(np.array(n[0])==1))\n",
    "tmp3 = [i for i in a[0] if i in b[0]]\n",
    "m=[risk=='2']\n",
    "n=[delay=='2']\n",
    "a=np.array(np.where(np.array(m[0])==1))\n",
    "b=np.array(np.where(np.array(n[0])==1))\n",
    "tmp4 = [i for i in a[0] if i in b[0]]"
   ]
  },
  {
   "cell_type": "code",
   "execution_count": 57,
   "metadata": {},
   "outputs": [],
   "source": [
    "f3[tmp1]=18.782608695652176\n",
    "f3[tmp2]=16.166666666666668\n",
    "f3[tmp3]=17.55\n",
    "f3[tmp4]=16.91304347826087\n",
    "f3=f3/20"
   ]
  },
  {
   "cell_type": "code",
   "execution_count": 58,
   "metadata": {},
   "outputs": [],
   "source": [
    "ff3=np.zeros(106)\n",
    "ff3[tmp1]=21.0\n",
    "ff3[tmp2]=16.0\n",
    "ff3[tmp3]=16.0\n",
    "ff3[tmp4]=17\n"
   ]
  },
  {
   "cell_type": "code",
   "execution_count": 59,
   "metadata": {},
   "outputs": [],
   "source": [
    "fff3=np.zeros(106)\n",
    "fff3[tmp1]=21\n",
    "fff3[tmp2]=14\n",
    "fff3[tmp3]=9\n",
    "fff3[tmp4]=17"
   ]
  },
  {
   "cell_type": "code",
   "execution_count": 60,
   "metadata": {},
   "outputs": [],
   "source": [
    "F=np.vstack((f1,f2))\n",
    "F=np.vstack((F,f3))"
   ]
  },
  {
   "cell_type": "code",
   "execution_count": 61,
   "metadata": {},
   "outputs": [],
   "source": [
    "F=np.vstack((f1,f2))\n",
    "F=np.vstack((F,ff3))"
   ]
  },
  {
   "cell_type": "code",
   "execution_count": 62,
   "metadata": {},
   "outputs": [],
   "source": [
    "fff3=fff3/10\n",
    "F=np.vstack((f1,f2))\n",
    "F=np.vstack((F,fff3))"
   ]
  },
  {
   "cell_type": "code",
   "execution_count": 63,
   "metadata": {},
   "outputs": [],
   "source": [
    "X_train, X_test, y_train, y_test = train_test_split(F.T, tend, test_size=0.2, random_state=0)"
   ]
  },
  {
   "cell_type": "code",
   "execution_count": 64,
   "metadata": {},
   "outputs": [
    {
     "data": {
      "text/plain": [
       "(84,)"
      ]
     },
     "execution_count": 64,
     "metadata": {},
     "output_type": "execute_result"
    }
   ],
   "source": [
    "y_train.shape"
   ]
  },
  {
   "cell_type": "code",
   "execution_count": null,
   "metadata": {},
   "outputs": [],
   "source": []
  },
  {
   "cell_type": "code",
   "execution_count": 65,
   "metadata": {
    "scrolled": true
   },
   "outputs": [
    {
     "data": {
      "text/plain": [
       "LinearRegression(copy_X=True, fit_intercept=True, n_jobs=None,\n",
       "         normalize=False)"
      ]
     },
     "execution_count": 65,
     "metadata": {},
     "output_type": "execute_result"
    }
   ],
   "source": [
    "from sklearn.linear_model import LinearRegression\n",
    "lin_reg = LinearRegression()\n",
    "lin_reg.fit(X_train, y_train)"
   ]
  },
  {
   "cell_type": "code",
   "execution_count": 66,
   "metadata": {},
   "outputs": [
    {
     "name": "stdout",
     "output_type": "stream",
     "text": [
      "4.012016691310097\n"
     ]
    },
    {
     "data": {
      "text/plain": [
       "-0.0417492485447728"
      ]
     },
     "execution_count": 66,
     "metadata": {},
     "output_type": "execute_result"
    }
   ],
   "source": [
    "print(mean_absolute_error(y_test, lin_reg.predict(X_test)))\n",
    "r2_score(y_test, lin_reg.predict(X_test))"
   ]
  },
  {
   "cell_type": "code",
   "execution_count": 67,
   "metadata": {},
   "outputs": [],
   "source": [
    "f3=fff3"
   ]
  },
  {
   "cell_type": "code",
   "execution_count": 68,
   "metadata": {},
   "outputs": [
    {
     "name": "stdout",
     "output_type": "stream",
     "text": [
      "4.012016691310097\n"
     ]
    },
    {
     "data": {
      "text/plain": [
       "-0.0417492485447728"
      ]
     },
     "execution_count": 68,
     "metadata": {},
     "output_type": "execute_result"
    }
   ],
   "source": [
    "#\\10\n",
    "print(mean_absolute_error(y_test, lin_reg.predict(X_test)))\n",
    "r2_score(y_test, lin_reg.predict(X_test))"
   ]
  },
  {
   "cell_type": "code",
   "execution_count": 69,
   "metadata": {},
   "outputs": [
    {
     "name": "stdout",
     "output_type": "stream",
     "text": [
      "4.012016691310097\n"
     ]
    },
    {
     "data": {
      "text/plain": [
       "-0.0417492485447728"
      ]
     },
     "execution_count": 69,
     "metadata": {},
     "output_type": "execute_result"
    }
   ],
   "source": [
    "from sklearn.linear_model import LinearRegression\n",
    "lin_reg = LinearRegression()\n",
    "lin_reg.fit(X_train, y_train)\n",
    "print(mean_absolute_error(y_test, lin_reg.predict(X_test)))\n",
    "r2_score(y_test, lin_reg.predict(X_test))"
   ]
  },
  {
   "cell_type": "code",
   "execution_count": 70,
   "metadata": {},
   "outputs": [
    {
     "name": "stdout",
     "output_type": "stream",
     "text": [
      "4.012016691310097\n"
     ]
    },
    {
     "data": {
      "text/plain": [
       "-0.0417492485447728"
      ]
     },
     "execution_count": 70,
     "metadata": {},
     "output_type": "execute_result"
    }
   ],
   "source": [
    "from sklearn.linear_model import LinearRegression\n",
    "lin_reg = LinearRegression()\n",
    "lin_reg.fit(X_train, y_train)\n",
    "print(mean_absolute_error(y_test, lin_reg.predict(X_test)))\n",
    "r2_score(y_test, lin_reg.predict(X_test))"
   ]
  },
  {
   "cell_type": "code",
   "execution_count": 71,
   "metadata": {},
   "outputs": [],
   "source": [
    "D=np.hstack((np.int8(np.array(data.iloc[:,21:31])),np.int8(st)))\n",
    "D1=np.hstack((D,np.int8(np.array(risk).reshape(106,1))))\n",
    "D2=np.hstack((D1,np.int8(np.array(delay).reshape(106,1))))\n",
    "X_train, X_test, y_train, y_test = train_test_split(D2, tend, test_size=0.2, random_state=0)"
   ]
  },
  {
   "cell_type": "code",
   "execution_count": 72,
   "metadata": {},
   "outputs": [
    {
     "name": "stdout",
     "output_type": "stream",
     "text": [
      "4.440064772047479\n"
     ]
    },
    {
     "data": {
      "text/plain": [
       "-0.38428209843953653"
      ]
     },
     "execution_count": 72,
     "metadata": {},
     "output_type": "execute_result"
    }
   ],
   "source": [
    "from sklearn.linear_model import LinearRegression\n",
    "lin_reg = LinearRegression()\n",
    "lin_reg.fit(X_train, y_train)\n",
    "print(mean_absolute_error(y_test, lin_reg.predict(X_test)))\n",
    "r2_score(y_test, lin_reg.predict(X_test))"
   ]
  },
  {
   "cell_type": "code",
   "execution_count": 73,
   "metadata": {},
   "outputs": [],
   "source": [
    "time=np.float32(data.iloc[:,1:11])"
   ]
  },
  {
   "cell_type": "code",
   "execution_count": 74,
   "metadata": {},
   "outputs": [
    {
     "data": {
      "text/plain": [
       "array([[ 567.443,  589.258,  871.075, ...,  493.497,  906.011,  814.652],\n",
       "       [1424.242,   63.744,  356.716, ...,  155.481,  899.991,  171.415],\n",
       "       [1320.878,  183.888, 1147.679, ...,  294.256,  393.701,   73.736],\n",
       "       ...,\n",
       "       [1592.748,  363.483,  196.754, ...,  498.548,  839.545,  365.824],\n",
       "       [1597.729,  527.708,  547.507, ...,   86.701, 1362.767,  250.05 ],\n",
       "       [1050.836,  411.492,  419.009, ..., 1008.241,  608.996,  350.163]],\n",
       "      dtype=float32)"
      ]
     },
     "execution_count": 74,
     "metadata": {},
     "output_type": "execute_result"
    }
   ],
   "source": [
    "time"
   ]
  },
  {
   "cell_type": "code",
   "execution_count": 75,
   "metadata": {},
   "outputs": [
    {
     "data": {
      "text/plain": [
       "LinearRegression(copy_X=True, fit_intercept=True, n_jobs=None,\n",
       "         normalize=False)"
      ]
     },
     "execution_count": 75,
     "metadata": {},
     "output_type": "execute_result"
    }
   ],
   "source": [
    "X_train, X_test, y_train, y_test = train_test_split(time, tend, test_size=0.2, random_state=0)\n",
    "from sklearn.linear_model import LinearRegression\n",
    "lin_reg = LinearRegression()\n",
    "lin_reg.fit(X_train, y_train)\n",
    "#print(mean_absolute_error(y_test, lin_reg.predict(X_test)))\n",
    "#r2_score(y_test, lin_reg.predict(X_test))"
   ]
  },
  {
   "cell_type": "code",
   "execution_count": 76,
   "metadata": {},
   "outputs": [
    {
     "data": {
      "text/plain": [
       "array([ 0.00017241, -0.00344472, -0.00801194, -0.00592565, -0.00482089,\n",
       "       -0.00088982, -0.00399588,  0.00278153, -0.00120413, -0.00232608],\n",
       "      dtype=float32)"
      ]
     },
     "execution_count": 76,
     "metadata": {},
     "output_type": "execute_result"
    }
   ],
   "source": [
    "w_t=lin_reg.coef_\n",
    "w_t"
   ]
  },
  {
   "cell_type": "code",
   "execution_count": 77,
   "metadata": {},
   "outputs": [],
   "source": [
    "f4=np.sum(time*w_t,axis=1)"
   ]
  },
  {
   "cell_type": "code",
   "execution_count": 78,
   "metadata": {},
   "outputs": [
    {
     "data": {
      "text/plain": [
       "(106,)"
      ]
     },
     "execution_count": 78,
     "metadata": {},
     "output_type": "execute_result"
    }
   ],
   "source": [
    "f4.shape"
   ]
  },
  {
   "cell_type": "code",
   "execution_count": 79,
   "metadata": {},
   "outputs": [],
   "source": [
    "F=np.vstack((F,f4))"
   ]
  },
  {
   "cell_type": "code",
   "execution_count": 80,
   "metadata": {},
   "outputs": [
    {
     "data": {
      "text/plain": [
       "LinearRegression(copy_X=True, fit_intercept=True, n_jobs=None,\n",
       "         normalize=False)"
      ]
     },
     "execution_count": 80,
     "metadata": {},
     "output_type": "execute_result"
    }
   ],
   "source": [
    "X_train, X_test, y_train, y_test = train_test_split(F.T, tend, test_size=0.2, random_state=0)\n",
    "from sklearn.linear_model import LinearRegression\n",
    "lin_reg = LinearRegression()\n",
    "lin_reg.fit(X_train, y_train)"
   ]
  },
  {
   "cell_type": "code",
   "execution_count": 81,
   "metadata": {},
   "outputs": [
    {
     "name": "stdout",
     "output_type": "stream",
     "text": [
      "3.3725176382260926\n"
     ]
    },
    {
     "data": {
      "text/plain": [
       "0.19477981902624897"
      ]
     },
     "execution_count": 81,
     "metadata": {},
     "output_type": "execute_result"
    }
   ],
   "source": [
    "print(mean_absolute_error(y_test, lin_reg.predict(X_test)))\n",
    "r2_score(y_test, lin_reg.predict(X_test))"
   ]
  },
  {
   "cell_type": "code",
   "execution_count": 82,
   "metadata": {},
   "outputs": [],
   "source": [
    "D3=np.hstack((D2,np.int8(np.array(time))))"
   ]
  },
  {
   "cell_type": "code",
   "execution_count": 83,
   "metadata": {},
   "outputs": [
    {
     "name": "stdout",
     "output_type": "stream",
     "text": [
      "5.798520180403412\n"
     ]
    },
    {
     "data": {
      "text/plain": [
       "-1.0051150182397697"
      ]
     },
     "execution_count": 83,
     "metadata": {},
     "output_type": "execute_result"
    }
   ],
   "source": [
    "X_train, X_test, y_train, y_test = train_test_split(D3, tend, test_size=0.2, random_state=0)\n",
    "from sklearn.linear_model import LinearRegression\n",
    "lin_reg = LinearRegression()\n",
    "lin_reg.fit(X_train, y_train)\n",
    "print(mean_absolute_error(y_test, lin_reg.predict(X_test)))\n",
    "r2_score(y_test, lin_reg.predict(X_test))"
   ]
  },
  {
   "cell_type": "code",
   "execution_count": 85,
   "metadata": {},
   "outputs": [
    {
     "data": {
      "text/plain": [
       "(106, 24)"
      ]
     },
     "execution_count": 85,
     "metadata": {},
     "output_type": "execute_result"
    }
   ],
   "source": [
    "D3.shape"
   ]
  }
 ],
 "metadata": {
  "kernelspec": {
   "display_name": "Python 3",
   "language": "python",
   "name": "python3"
  },
  "language_info": {
   "codemirror_mode": {
    "name": "ipython",
    "version": 3
   },
   "file_extension": ".py",
   "mimetype": "text/x-python",
   "name": "python",
   "nbconvert_exporter": "python",
   "pygments_lexer": "ipython3",
   "version": "3.6.8"
  }
 },
 "nbformat": 4,
 "nbformat_minor": 2
}
